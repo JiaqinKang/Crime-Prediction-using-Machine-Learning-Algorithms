{
 "cells": [
  {
   "cell_type": "code",
   "execution_count": 278,
   "metadata": {},
   "outputs": [],
   "source": [
    "import pandas as pd"
   ]
  },
  {
   "cell_type": "code",
   "execution_count": 279,
   "metadata": {},
   "outputs": [
    {
     "data": {
      "text/html": [
       "<div>\n",
       "<style scoped>\n",
       "    .dataframe tbody tr th:only-of-type {\n",
       "        vertical-align: middle;\n",
       "    }\n",
       "\n",
       "    .dataframe tbody tr th {\n",
       "        vertical-align: top;\n",
       "    }\n",
       "\n",
       "    .dataframe thead th {\n",
       "        text-align: right;\n",
       "    }\n",
       "</style>\n",
       "<table border=\"1\" class=\"dataframe\">\n",
       "  <thead>\n",
       "    <tr style=\"text-align: right;\">\n",
       "      <th></th>\n",
       "      <th>Type</th>\n",
       "      <th>Date</th>\n",
       "      <th>Part of a policing operation</th>\n",
       "      <th>Policing operation</th>\n",
       "      <th>Latitude</th>\n",
       "      <th>Longitude</th>\n",
       "      <th>Gender</th>\n",
       "      <th>Age range</th>\n",
       "      <th>Self-defined ethnicity</th>\n",
       "      <th>Officer-defined ethnicity</th>\n",
       "      <th>Legislation</th>\n",
       "      <th>Object of search</th>\n",
       "      <th>Outcome</th>\n",
       "      <th>Outcome linked to object of search</th>\n",
       "      <th>Removal of more than just outer clothing</th>\n",
       "    </tr>\n",
       "  </thead>\n",
       "  <tbody>\n",
       "    <tr>\n",
       "      <th>0</th>\n",
       "      <td>Person search</td>\n",
       "      <td>2019-12-01T01:48:53+00:00</td>\n",
       "      <td>NaN</td>\n",
       "      <td>NaN</td>\n",
       "      <td>51.516814</td>\n",
       "      <td>-0.081620</td>\n",
       "      <td>Male</td>\n",
       "      <td>25-34</td>\n",
       "      <td>White - Any other White background</td>\n",
       "      <td>White</td>\n",
       "      <td>Police and Criminal Evidence Act 1984 (section 1)</td>\n",
       "      <td>Offensive weapons</td>\n",
       "      <td>A no further action disposal</td>\n",
       "      <td>False</td>\n",
       "      <td>False</td>\n",
       "    </tr>\n",
       "    <tr>\n",
       "      <th>1</th>\n",
       "      <td>Person search</td>\n",
       "      <td>2019-12-01T02:17:49+00:00</td>\n",
       "      <td>NaN</td>\n",
       "      <td>NaN</td>\n",
       "      <td>51.513952</td>\n",
       "      <td>-0.085833</td>\n",
       "      <td>Male</td>\n",
       "      <td>over 34</td>\n",
       "      <td>White - Any other White background</td>\n",
       "      <td>Other</td>\n",
       "      <td>Police and Criminal Evidence Act 1984 (section 1)</td>\n",
       "      <td>Offensive weapons</td>\n",
       "      <td>Arrest</td>\n",
       "      <td>True</td>\n",
       "      <td>False</td>\n",
       "    </tr>\n",
       "    <tr>\n",
       "      <th>2</th>\n",
       "      <td>Person and Vehicle search</td>\n",
       "      <td>2019-12-02T01:24:53+00:00</td>\n",
       "      <td>NaN</td>\n",
       "      <td>NaN</td>\n",
       "      <td>51.520744</td>\n",
       "      <td>-0.089858</td>\n",
       "      <td>Male</td>\n",
       "      <td>18-24</td>\n",
       "      <td>Other ethnic group - Not stated</td>\n",
       "      <td>Asian</td>\n",
       "      <td>Misuse of Drugs Act 1971 (section 23)</td>\n",
       "      <td>Controlled drugs</td>\n",
       "      <td>A no further action disposal</td>\n",
       "      <td>False</td>\n",
       "      <td>False</td>\n",
       "    </tr>\n",
       "    <tr>\n",
       "      <th>3</th>\n",
       "      <td>Person search</td>\n",
       "      <td>2019-12-02T01:47:31+00:00</td>\n",
       "      <td>NaN</td>\n",
       "      <td>NaN</td>\n",
       "      <td>NaN</td>\n",
       "      <td>NaN</td>\n",
       "      <td>Male</td>\n",
       "      <td>over 34</td>\n",
       "      <td>Other ethnic group - Not stated</td>\n",
       "      <td>Black</td>\n",
       "      <td>Misuse of Drugs Act 1971 (section 23)</td>\n",
       "      <td>Controlled drugs</td>\n",
       "      <td>A no further action disposal</td>\n",
       "      <td>True</td>\n",
       "      <td>False</td>\n",
       "    </tr>\n",
       "    <tr>\n",
       "      <th>4</th>\n",
       "      <td>Person and Vehicle search</td>\n",
       "      <td>2019-12-02T02:09:00+00:00</td>\n",
       "      <td>NaN</td>\n",
       "      <td>NaN</td>\n",
       "      <td>51.517184</td>\n",
       "      <td>-0.076747</td>\n",
       "      <td>Male</td>\n",
       "      <td>18-24</td>\n",
       "      <td>Other ethnic group - Not stated</td>\n",
       "      <td>Asian</td>\n",
       "      <td>Misuse of Drugs Act 1971 (section 23)</td>\n",
       "      <td>Controlled drugs</td>\n",
       "      <td>A no further action disposal</td>\n",
       "      <td>False</td>\n",
       "      <td>False</td>\n",
       "    </tr>\n",
       "  </tbody>\n",
       "</table>\n",
       "</div>"
      ],
      "text/plain": [
       "                        Type                       Date  \\\n",
       "0              Person search  2019-12-01T01:48:53+00:00   \n",
       "1              Person search  2019-12-01T02:17:49+00:00   \n",
       "2  Person and Vehicle search  2019-12-02T01:24:53+00:00   \n",
       "3              Person search  2019-12-02T01:47:31+00:00   \n",
       "4  Person and Vehicle search  2019-12-02T02:09:00+00:00   \n",
       "\n",
       "   Part of a policing operation  Policing operation   Latitude  Longitude  \\\n",
       "0                           NaN                 NaN  51.516814  -0.081620   \n",
       "1                           NaN                 NaN  51.513952  -0.085833   \n",
       "2                           NaN                 NaN  51.520744  -0.089858   \n",
       "3                           NaN                 NaN        NaN        NaN   \n",
       "4                           NaN                 NaN  51.517184  -0.076747   \n",
       "\n",
       "  Gender Age range              Self-defined ethnicity  \\\n",
       "0   Male     25-34  White - Any other White background   \n",
       "1   Male   over 34  White - Any other White background   \n",
       "2   Male     18-24     Other ethnic group - Not stated   \n",
       "3   Male   over 34     Other ethnic group - Not stated   \n",
       "4   Male     18-24     Other ethnic group - Not stated   \n",
       "\n",
       "  Officer-defined ethnicity  \\\n",
       "0                     White   \n",
       "1                     Other   \n",
       "2                     Asian   \n",
       "3                     Black   \n",
       "4                     Asian   \n",
       "\n",
       "                                         Legislation   Object of search  \\\n",
       "0  Police and Criminal Evidence Act 1984 (section 1)  Offensive weapons   \n",
       "1  Police and Criminal Evidence Act 1984 (section 1)  Offensive weapons   \n",
       "2              Misuse of Drugs Act 1971 (section 23)   Controlled drugs   \n",
       "3              Misuse of Drugs Act 1971 (section 23)   Controlled drugs   \n",
       "4              Misuse of Drugs Act 1971 (section 23)   Controlled drugs   \n",
       "\n",
       "                        Outcome  Outcome linked to object of search  \\\n",
       "0  A no further action disposal                               False   \n",
       "1                        Arrest                                True   \n",
       "2  A no further action disposal                               False   \n",
       "3  A no further action disposal                                True   \n",
       "4  A no further action disposal                               False   \n",
       "\n",
       "   Removal of more than just outer clothing  \n",
       "0                                     False  \n",
       "1                                     False  \n",
       "2                                     False  \n",
       "3                                     False  \n",
       "4                                     False  "
      ]
     },
     "execution_count": 279,
     "metadata": {},
     "output_type": "execute_result"
    }
   ],
   "source": [
    "# read data from csv file into pandas dataframe\n",
    "df = pd.read_csv('merged.csv')\n",
    "df.head()"
   ]
  },
  {
   "cell_type": "code",
   "execution_count": 280,
   "metadata": {},
   "outputs": [
    {
     "name": "stdout",
     "output_type": "stream",
     "text": [
      "<class 'pandas.core.frame.DataFrame'>\n",
      "RangeIndex: 8044 entries, 0 to 8043\n",
      "Data columns (total 15 columns):\n",
      " #   Column                                    Non-Null Count  Dtype  \n",
      "---  ------                                    --------------  -----  \n",
      " 0   Type                                      8044 non-null   object \n",
      " 1   Date                                      8044 non-null   object \n",
      " 2   Part of a policing operation              0 non-null      float64\n",
      " 3   Policing operation                        0 non-null      float64\n",
      " 4   Latitude                                  6299 non-null   float64\n",
      " 5   Longitude                                 6299 non-null   float64\n",
      " 6   Gender                                    8037 non-null   object \n",
      " 7   Age range                                 7410 non-null   object \n",
      " 8   Self-defined ethnicity                    7589 non-null   object \n",
      " 9   Officer-defined ethnicity                 7586 non-null   object \n",
      " 10  Legislation                               8044 non-null   object \n",
      " 11  Object of search                          7979 non-null   object \n",
      " 12  Outcome                                   8044 non-null   object \n",
      " 13  Outcome linked to object of search        8044 non-null   bool   \n",
      " 14  Removal of more than just outer clothing  8044 non-null   bool   \n",
      "dtypes: bool(2), float64(4), object(9)\n",
      "memory usage: 832.8+ KB\n"
     ]
    }
   ],
   "source": [
    "df.info()"
   ]
  },
  {
   "cell_type": "code",
   "execution_count": 281,
   "metadata": {},
   "outputs": [
    {
     "data": {
      "text/plain": [
       "Person search                6121\n",
       "Person and Vehicle search    1923\n",
       "Name: Type, dtype: int64"
      ]
     },
     "execution_count": 281,
     "metadata": {},
     "output_type": "execute_result"
    }
   ],
   "source": [
    "# type count in each column and display in a nice format\n",
    "df['Type'].value_counts()\n"
   ]
  },
  {
   "cell_type": "code",
   "execution_count": 282,
   "metadata": {},
   "outputs": [],
   "source": [
    "# keep only Outcome linked to object of search is True\n",
    "df = df[df['Outcome linked to object of search'] == True]"
   ]
  },
  {
   "cell_type": "code",
   "execution_count": 283,
   "metadata": {},
   "outputs": [
    {
     "data": {
      "text/html": [
       "<div>\n",
       "<style scoped>\n",
       "    .dataframe tbody tr th:only-of-type {\n",
       "        vertical-align: middle;\n",
       "    }\n",
       "\n",
       "    .dataframe tbody tr th {\n",
       "        vertical-align: top;\n",
       "    }\n",
       "\n",
       "    .dataframe thead th {\n",
       "        text-align: right;\n",
       "    }\n",
       "</style>\n",
       "<table border=\"1\" class=\"dataframe\">\n",
       "  <thead>\n",
       "    <tr style=\"text-align: right;\">\n",
       "      <th></th>\n",
       "      <th>Type</th>\n",
       "      <th>Date</th>\n",
       "      <th>Part of a policing operation</th>\n",
       "      <th>Policing operation</th>\n",
       "      <th>Latitude</th>\n",
       "      <th>Longitude</th>\n",
       "      <th>Gender</th>\n",
       "      <th>Age range</th>\n",
       "      <th>Self-defined ethnicity</th>\n",
       "      <th>Officer-defined ethnicity</th>\n",
       "      <th>Legislation</th>\n",
       "      <th>Object of search</th>\n",
       "      <th>Outcome</th>\n",
       "      <th>Outcome linked to object of search</th>\n",
       "      <th>Removal of more than just outer clothing</th>\n",
       "    </tr>\n",
       "  </thead>\n",
       "  <tbody>\n",
       "    <tr>\n",
       "      <th>1</th>\n",
       "      <td>Person search</td>\n",
       "      <td>2019-12-01T02:17:49+00:00</td>\n",
       "      <td>NaN</td>\n",
       "      <td>NaN</td>\n",
       "      <td>51.513952</td>\n",
       "      <td>-0.085833</td>\n",
       "      <td>Male</td>\n",
       "      <td>over 34</td>\n",
       "      <td>White - Any other White background</td>\n",
       "      <td>Other</td>\n",
       "      <td>Police and Criminal Evidence Act 1984 (section 1)</td>\n",
       "      <td>Offensive weapons</td>\n",
       "      <td>Arrest</td>\n",
       "      <td>True</td>\n",
       "      <td>False</td>\n",
       "    </tr>\n",
       "    <tr>\n",
       "      <th>3</th>\n",
       "      <td>Person search</td>\n",
       "      <td>2019-12-02T01:47:31+00:00</td>\n",
       "      <td>NaN</td>\n",
       "      <td>NaN</td>\n",
       "      <td>NaN</td>\n",
       "      <td>NaN</td>\n",
       "      <td>Male</td>\n",
       "      <td>over 34</td>\n",
       "      <td>Other ethnic group - Not stated</td>\n",
       "      <td>Black</td>\n",
       "      <td>Misuse of Drugs Act 1971 (section 23)</td>\n",
       "      <td>Controlled drugs</td>\n",
       "      <td>A no further action disposal</td>\n",
       "      <td>True</td>\n",
       "      <td>False</td>\n",
       "    </tr>\n",
       "    <tr>\n",
       "      <th>5</th>\n",
       "      <td>Person search</td>\n",
       "      <td>2019-12-02T03:14:04+00:00</td>\n",
       "      <td>NaN</td>\n",
       "      <td>NaN</td>\n",
       "      <td>51.511625</td>\n",
       "      <td>-0.081549</td>\n",
       "      <td>Male</td>\n",
       "      <td>over 34</td>\n",
       "      <td>White - Any other White background</td>\n",
       "      <td>White</td>\n",
       "      <td>Police and Criminal Evidence Act 1984 (section 1)</td>\n",
       "      <td>Stolen goods</td>\n",
       "      <td>Arrest</td>\n",
       "      <td>True</td>\n",
       "      <td>False</td>\n",
       "    </tr>\n",
       "    <tr>\n",
       "      <th>6</th>\n",
       "      <td>Person search</td>\n",
       "      <td>2019-12-02T04:51:16+00:00</td>\n",
       "      <td>NaN</td>\n",
       "      <td>NaN</td>\n",
       "      <td>51.509775</td>\n",
       "      <td>-0.085014</td>\n",
       "      <td>Female</td>\n",
       "      <td>25-34</td>\n",
       "      <td>White - Any other White background</td>\n",
       "      <td>White</td>\n",
       "      <td>Police and Criminal Evidence Act 1984 (section 1)</td>\n",
       "      <td>Article for use in theft</td>\n",
       "      <td>A no further action disposal</td>\n",
       "      <td>True</td>\n",
       "      <td>False</td>\n",
       "    </tr>\n",
       "    <tr>\n",
       "      <th>10</th>\n",
       "      <td>Person search</td>\n",
       "      <td>2019-12-03T09:48:08+00:00</td>\n",
       "      <td>NaN</td>\n",
       "      <td>NaN</td>\n",
       "      <td>51.517431</td>\n",
       "      <td>-0.082458</td>\n",
       "      <td>Male</td>\n",
       "      <td>18-24</td>\n",
       "      <td>Asian/Asian British - Bangladeshi</td>\n",
       "      <td>Asian</td>\n",
       "      <td>Misuse of Drugs Act 1971 (section 23)</td>\n",
       "      <td>Controlled drugs</td>\n",
       "      <td>Arrest</td>\n",
       "      <td>True</td>\n",
       "      <td>False</td>\n",
       "    </tr>\n",
       "  </tbody>\n",
       "</table>\n",
       "</div>"
      ],
      "text/plain": [
       "             Type                       Date  Part of a policing operation  \\\n",
       "1   Person search  2019-12-01T02:17:49+00:00                           NaN   \n",
       "3   Person search  2019-12-02T01:47:31+00:00                           NaN   \n",
       "5   Person search  2019-12-02T03:14:04+00:00                           NaN   \n",
       "6   Person search  2019-12-02T04:51:16+00:00                           NaN   \n",
       "10  Person search  2019-12-03T09:48:08+00:00                           NaN   \n",
       "\n",
       "    Policing operation   Latitude  Longitude  Gender Age range  \\\n",
       "1                  NaN  51.513952  -0.085833    Male   over 34   \n",
       "3                  NaN        NaN        NaN    Male   over 34   \n",
       "5                  NaN  51.511625  -0.081549    Male   over 34   \n",
       "6                  NaN  51.509775  -0.085014  Female     25-34   \n",
       "10                 NaN  51.517431  -0.082458    Male     18-24   \n",
       "\n",
       "                Self-defined ethnicity Officer-defined ethnicity  \\\n",
       "1   White - Any other White background                     Other   \n",
       "3      Other ethnic group - Not stated                     Black   \n",
       "5   White - Any other White background                     White   \n",
       "6   White - Any other White background                     White   \n",
       "10   Asian/Asian British - Bangladeshi                     Asian   \n",
       "\n",
       "                                          Legislation  \\\n",
       "1   Police and Criminal Evidence Act 1984 (section 1)   \n",
       "3               Misuse of Drugs Act 1971 (section 23)   \n",
       "5   Police and Criminal Evidence Act 1984 (section 1)   \n",
       "6   Police and Criminal Evidence Act 1984 (section 1)   \n",
       "10              Misuse of Drugs Act 1971 (section 23)   \n",
       "\n",
       "            Object of search                       Outcome  \\\n",
       "1          Offensive weapons                        Arrest   \n",
       "3           Controlled drugs  A no further action disposal   \n",
       "5               Stolen goods                        Arrest   \n",
       "6   Article for use in theft  A no further action disposal   \n",
       "10          Controlled drugs                        Arrest   \n",
       "\n",
       "    Outcome linked to object of search  \\\n",
       "1                                 True   \n",
       "3                                 True   \n",
       "5                                 True   \n",
       "6                                 True   \n",
       "10                                True   \n",
       "\n",
       "    Removal of more than just outer clothing  \n",
       "1                                      False  \n",
       "3                                      False  \n",
       "5                                      False  \n",
       "6                                      False  \n",
       "10                                     False  "
      ]
     },
     "execution_count": 283,
     "metadata": {},
     "output_type": "execute_result"
    }
   ],
   "source": [
    "# inspect the data\n",
    "df.head()"
   ]
  },
  {
   "cell_type": "code",
   "execution_count": 284,
   "metadata": {},
   "outputs": [],
   "source": [
    "# drop the columns that are not needed becuase now it only contains True values for Outcome linked to object of search\n",
    "df.drop(['Outcome linked to object of search'], axis=1, inplace=True)"
   ]
  },
  {
   "cell_type": "code",
   "execution_count": 285,
   "metadata": {},
   "outputs": [
    {
     "data": {
      "text/html": [
       "<div>\n",
       "<style scoped>\n",
       "    .dataframe tbody tr th:only-of-type {\n",
       "        vertical-align: middle;\n",
       "    }\n",
       "\n",
       "    .dataframe tbody tr th {\n",
       "        vertical-align: top;\n",
       "    }\n",
       "\n",
       "    .dataframe thead th {\n",
       "        text-align: right;\n",
       "    }\n",
       "</style>\n",
       "<table border=\"1\" class=\"dataframe\">\n",
       "  <thead>\n",
       "    <tr style=\"text-align: right;\">\n",
       "      <th></th>\n",
       "      <th>Type</th>\n",
       "      <th>Date</th>\n",
       "      <th>Part of a policing operation</th>\n",
       "      <th>Policing operation</th>\n",
       "      <th>Latitude</th>\n",
       "      <th>Longitude</th>\n",
       "      <th>Gender</th>\n",
       "      <th>Age range</th>\n",
       "      <th>Self-defined ethnicity</th>\n",
       "      <th>Officer-defined ethnicity</th>\n",
       "      <th>Legislation</th>\n",
       "      <th>Object of search</th>\n",
       "      <th>Outcome</th>\n",
       "      <th>Removal of more than just outer clothing</th>\n",
       "    </tr>\n",
       "  </thead>\n",
       "  <tbody>\n",
       "    <tr>\n",
       "      <th>1</th>\n",
       "      <td>Person search</td>\n",
       "      <td>2019-12-01T02:17:49+00:00</td>\n",
       "      <td>NaN</td>\n",
       "      <td>NaN</td>\n",
       "      <td>51.513952</td>\n",
       "      <td>-0.085833</td>\n",
       "      <td>Male</td>\n",
       "      <td>over 34</td>\n",
       "      <td>White - Any other White background</td>\n",
       "      <td>Other</td>\n",
       "      <td>Police and Criminal Evidence Act 1984 (section 1)</td>\n",
       "      <td>Offensive weapons</td>\n",
       "      <td>Arrest</td>\n",
       "      <td>False</td>\n",
       "    </tr>\n",
       "    <tr>\n",
       "      <th>3</th>\n",
       "      <td>Person search</td>\n",
       "      <td>2019-12-02T01:47:31+00:00</td>\n",
       "      <td>NaN</td>\n",
       "      <td>NaN</td>\n",
       "      <td>NaN</td>\n",
       "      <td>NaN</td>\n",
       "      <td>Male</td>\n",
       "      <td>over 34</td>\n",
       "      <td>Other ethnic group - Not stated</td>\n",
       "      <td>Black</td>\n",
       "      <td>Misuse of Drugs Act 1971 (section 23)</td>\n",
       "      <td>Controlled drugs</td>\n",
       "      <td>A no further action disposal</td>\n",
       "      <td>False</td>\n",
       "    </tr>\n",
       "    <tr>\n",
       "      <th>5</th>\n",
       "      <td>Person search</td>\n",
       "      <td>2019-12-02T03:14:04+00:00</td>\n",
       "      <td>NaN</td>\n",
       "      <td>NaN</td>\n",
       "      <td>51.511625</td>\n",
       "      <td>-0.081549</td>\n",
       "      <td>Male</td>\n",
       "      <td>over 34</td>\n",
       "      <td>White - Any other White background</td>\n",
       "      <td>White</td>\n",
       "      <td>Police and Criminal Evidence Act 1984 (section 1)</td>\n",
       "      <td>Stolen goods</td>\n",
       "      <td>Arrest</td>\n",
       "      <td>False</td>\n",
       "    </tr>\n",
       "    <tr>\n",
       "      <th>6</th>\n",
       "      <td>Person search</td>\n",
       "      <td>2019-12-02T04:51:16+00:00</td>\n",
       "      <td>NaN</td>\n",
       "      <td>NaN</td>\n",
       "      <td>51.509775</td>\n",
       "      <td>-0.085014</td>\n",
       "      <td>Female</td>\n",
       "      <td>25-34</td>\n",
       "      <td>White - Any other White background</td>\n",
       "      <td>White</td>\n",
       "      <td>Police and Criminal Evidence Act 1984 (section 1)</td>\n",
       "      <td>Article for use in theft</td>\n",
       "      <td>A no further action disposal</td>\n",
       "      <td>False</td>\n",
       "    </tr>\n",
       "    <tr>\n",
       "      <th>10</th>\n",
       "      <td>Person search</td>\n",
       "      <td>2019-12-03T09:48:08+00:00</td>\n",
       "      <td>NaN</td>\n",
       "      <td>NaN</td>\n",
       "      <td>51.517431</td>\n",
       "      <td>-0.082458</td>\n",
       "      <td>Male</td>\n",
       "      <td>18-24</td>\n",
       "      <td>Asian/Asian British - Bangladeshi</td>\n",
       "      <td>Asian</td>\n",
       "      <td>Misuse of Drugs Act 1971 (section 23)</td>\n",
       "      <td>Controlled drugs</td>\n",
       "      <td>Arrest</td>\n",
       "      <td>False</td>\n",
       "    </tr>\n",
       "  </tbody>\n",
       "</table>\n",
       "</div>"
      ],
      "text/plain": [
       "             Type                       Date  Part of a policing operation  \\\n",
       "1   Person search  2019-12-01T02:17:49+00:00                           NaN   \n",
       "3   Person search  2019-12-02T01:47:31+00:00                           NaN   \n",
       "5   Person search  2019-12-02T03:14:04+00:00                           NaN   \n",
       "6   Person search  2019-12-02T04:51:16+00:00                           NaN   \n",
       "10  Person search  2019-12-03T09:48:08+00:00                           NaN   \n",
       "\n",
       "    Policing operation   Latitude  Longitude  Gender Age range  \\\n",
       "1                  NaN  51.513952  -0.085833    Male   over 34   \n",
       "3                  NaN        NaN        NaN    Male   over 34   \n",
       "5                  NaN  51.511625  -0.081549    Male   over 34   \n",
       "6                  NaN  51.509775  -0.085014  Female     25-34   \n",
       "10                 NaN  51.517431  -0.082458    Male     18-24   \n",
       "\n",
       "                Self-defined ethnicity Officer-defined ethnicity  \\\n",
       "1   White - Any other White background                     Other   \n",
       "3      Other ethnic group - Not stated                     Black   \n",
       "5   White - Any other White background                     White   \n",
       "6   White - Any other White background                     White   \n",
       "10   Asian/Asian British - Bangladeshi                     Asian   \n",
       "\n",
       "                                          Legislation  \\\n",
       "1   Police and Criminal Evidence Act 1984 (section 1)   \n",
       "3               Misuse of Drugs Act 1971 (section 23)   \n",
       "5   Police and Criminal Evidence Act 1984 (section 1)   \n",
       "6   Police and Criminal Evidence Act 1984 (section 1)   \n",
       "10              Misuse of Drugs Act 1971 (section 23)   \n",
       "\n",
       "            Object of search                       Outcome  \\\n",
       "1          Offensive weapons                        Arrest   \n",
       "3           Controlled drugs  A no further action disposal   \n",
       "5               Stolen goods                        Arrest   \n",
       "6   Article for use in theft  A no further action disposal   \n",
       "10          Controlled drugs                        Arrest   \n",
       "\n",
       "    Removal of more than just outer clothing  \n",
       "1                                      False  \n",
       "3                                      False  \n",
       "5                                      False  \n",
       "6                                      False  \n",
       "10                                     False  "
      ]
     },
     "execution_count": 285,
     "metadata": {},
     "output_type": "execute_result"
    }
   ],
   "source": [
    "df.head()"
   ]
  },
  {
   "cell_type": "code",
   "execution_count": 286,
   "metadata": {},
   "outputs": [],
   "source": [
    "# drop columns that are completely empty\n",
    "df.drop(['Part of a policing operation','Policing operation','Legislation'], axis=1, inplace=True)"
   ]
  },
  {
   "cell_type": "code",
   "execution_count": 287,
   "metadata": {},
   "outputs": [
    {
     "data": {
      "text/html": [
       "<div>\n",
       "<style scoped>\n",
       "    .dataframe tbody tr th:only-of-type {\n",
       "        vertical-align: middle;\n",
       "    }\n",
       "\n",
       "    .dataframe tbody tr th {\n",
       "        vertical-align: top;\n",
       "    }\n",
       "\n",
       "    .dataframe thead th {\n",
       "        text-align: right;\n",
       "    }\n",
       "</style>\n",
       "<table border=\"1\" class=\"dataframe\">\n",
       "  <thead>\n",
       "    <tr style=\"text-align: right;\">\n",
       "      <th></th>\n",
       "      <th>Type</th>\n",
       "      <th>Date</th>\n",
       "      <th>Latitude</th>\n",
       "      <th>Longitude</th>\n",
       "      <th>Gender</th>\n",
       "      <th>Age range</th>\n",
       "      <th>Self-defined ethnicity</th>\n",
       "      <th>Officer-defined ethnicity</th>\n",
       "      <th>Object of search</th>\n",
       "      <th>Outcome</th>\n",
       "      <th>Removal of more than just outer clothing</th>\n",
       "    </tr>\n",
       "  </thead>\n",
       "  <tbody>\n",
       "    <tr>\n",
       "      <th>1</th>\n",
       "      <td>Person search</td>\n",
       "      <td>2019-12-01T02:17:49+00:00</td>\n",
       "      <td>51.513952</td>\n",
       "      <td>-0.085833</td>\n",
       "      <td>Male</td>\n",
       "      <td>over 34</td>\n",
       "      <td>White - Any other White background</td>\n",
       "      <td>Other</td>\n",
       "      <td>Offensive weapons</td>\n",
       "      <td>Arrest</td>\n",
       "      <td>False</td>\n",
       "    </tr>\n",
       "    <tr>\n",
       "      <th>3</th>\n",
       "      <td>Person search</td>\n",
       "      <td>2019-12-02T01:47:31+00:00</td>\n",
       "      <td>NaN</td>\n",
       "      <td>NaN</td>\n",
       "      <td>Male</td>\n",
       "      <td>over 34</td>\n",
       "      <td>Other ethnic group - Not stated</td>\n",
       "      <td>Black</td>\n",
       "      <td>Controlled drugs</td>\n",
       "      <td>A no further action disposal</td>\n",
       "      <td>False</td>\n",
       "    </tr>\n",
       "    <tr>\n",
       "      <th>5</th>\n",
       "      <td>Person search</td>\n",
       "      <td>2019-12-02T03:14:04+00:00</td>\n",
       "      <td>51.511625</td>\n",
       "      <td>-0.081549</td>\n",
       "      <td>Male</td>\n",
       "      <td>over 34</td>\n",
       "      <td>White - Any other White background</td>\n",
       "      <td>White</td>\n",
       "      <td>Stolen goods</td>\n",
       "      <td>Arrest</td>\n",
       "      <td>False</td>\n",
       "    </tr>\n",
       "    <tr>\n",
       "      <th>6</th>\n",
       "      <td>Person search</td>\n",
       "      <td>2019-12-02T04:51:16+00:00</td>\n",
       "      <td>51.509775</td>\n",
       "      <td>-0.085014</td>\n",
       "      <td>Female</td>\n",
       "      <td>25-34</td>\n",
       "      <td>White - Any other White background</td>\n",
       "      <td>White</td>\n",
       "      <td>Article for use in theft</td>\n",
       "      <td>A no further action disposal</td>\n",
       "      <td>False</td>\n",
       "    </tr>\n",
       "    <tr>\n",
       "      <th>10</th>\n",
       "      <td>Person search</td>\n",
       "      <td>2019-12-03T09:48:08+00:00</td>\n",
       "      <td>51.517431</td>\n",
       "      <td>-0.082458</td>\n",
       "      <td>Male</td>\n",
       "      <td>18-24</td>\n",
       "      <td>Asian/Asian British - Bangladeshi</td>\n",
       "      <td>Asian</td>\n",
       "      <td>Controlled drugs</td>\n",
       "      <td>Arrest</td>\n",
       "      <td>False</td>\n",
       "    </tr>\n",
       "  </tbody>\n",
       "</table>\n",
       "</div>"
      ],
      "text/plain": [
       "             Type                       Date   Latitude  Longitude  Gender  \\\n",
       "1   Person search  2019-12-01T02:17:49+00:00  51.513952  -0.085833    Male   \n",
       "3   Person search  2019-12-02T01:47:31+00:00        NaN        NaN    Male   \n",
       "5   Person search  2019-12-02T03:14:04+00:00  51.511625  -0.081549    Male   \n",
       "6   Person search  2019-12-02T04:51:16+00:00  51.509775  -0.085014  Female   \n",
       "10  Person search  2019-12-03T09:48:08+00:00  51.517431  -0.082458    Male   \n",
       "\n",
       "   Age range              Self-defined ethnicity Officer-defined ethnicity  \\\n",
       "1    over 34  White - Any other White background                     Other   \n",
       "3    over 34     Other ethnic group - Not stated                     Black   \n",
       "5    over 34  White - Any other White background                     White   \n",
       "6      25-34  White - Any other White background                     White   \n",
       "10     18-24   Asian/Asian British - Bangladeshi                     Asian   \n",
       "\n",
       "            Object of search                       Outcome  \\\n",
       "1          Offensive weapons                        Arrest   \n",
       "3           Controlled drugs  A no further action disposal   \n",
       "5               Stolen goods                        Arrest   \n",
       "6   Article for use in theft  A no further action disposal   \n",
       "10          Controlled drugs                        Arrest   \n",
       "\n",
       "    Removal of more than just outer clothing  \n",
       "1                                      False  \n",
       "3                                      False  \n",
       "5                                      False  \n",
       "6                                      False  \n",
       "10                                     False  "
      ]
     },
     "execution_count": 287,
     "metadata": {},
     "output_type": "execute_result"
    }
   ],
   "source": [
    "df.head()"
   ]
  },
  {
   "cell_type": "code",
   "execution_count": 288,
   "metadata": {},
   "outputs": [],
   "source": [
    "# remove latitudes and longitudes rows that are NaN\n",
    "df.dropna(subset=['Latitude', 'Longitude'], inplace=True)"
   ]
  },
  {
   "cell_type": "code",
   "execution_count": 289,
   "metadata": {},
   "outputs": [
    {
     "data": {
      "text/html": [
       "<div>\n",
       "<style scoped>\n",
       "    .dataframe tbody tr th:only-of-type {\n",
       "        vertical-align: middle;\n",
       "    }\n",
       "\n",
       "    .dataframe tbody tr th {\n",
       "        vertical-align: top;\n",
       "    }\n",
       "\n",
       "    .dataframe thead th {\n",
       "        text-align: right;\n",
       "    }\n",
       "</style>\n",
       "<table border=\"1\" class=\"dataframe\">\n",
       "  <thead>\n",
       "    <tr style=\"text-align: right;\">\n",
       "      <th></th>\n",
       "      <th>Type</th>\n",
       "      <th>Date</th>\n",
       "      <th>Latitude</th>\n",
       "      <th>Longitude</th>\n",
       "      <th>Gender</th>\n",
       "      <th>Age range</th>\n",
       "      <th>Self-defined ethnicity</th>\n",
       "      <th>Officer-defined ethnicity</th>\n",
       "      <th>Object of search</th>\n",
       "      <th>Outcome</th>\n",
       "      <th>Removal of more than just outer clothing</th>\n",
       "    </tr>\n",
       "  </thead>\n",
       "  <tbody>\n",
       "    <tr>\n",
       "      <th>1</th>\n",
       "      <td>Person search</td>\n",
       "      <td>2019-12-01T02:17:49+00:00</td>\n",
       "      <td>51.513952</td>\n",
       "      <td>-0.085833</td>\n",
       "      <td>Male</td>\n",
       "      <td>over 34</td>\n",
       "      <td>White - Any other White background</td>\n",
       "      <td>Other</td>\n",
       "      <td>Offensive weapons</td>\n",
       "      <td>Arrest</td>\n",
       "      <td>False</td>\n",
       "    </tr>\n",
       "    <tr>\n",
       "      <th>5</th>\n",
       "      <td>Person search</td>\n",
       "      <td>2019-12-02T03:14:04+00:00</td>\n",
       "      <td>51.511625</td>\n",
       "      <td>-0.081549</td>\n",
       "      <td>Male</td>\n",
       "      <td>over 34</td>\n",
       "      <td>White - Any other White background</td>\n",
       "      <td>White</td>\n",
       "      <td>Stolen goods</td>\n",
       "      <td>Arrest</td>\n",
       "      <td>False</td>\n",
       "    </tr>\n",
       "    <tr>\n",
       "      <th>6</th>\n",
       "      <td>Person search</td>\n",
       "      <td>2019-12-02T04:51:16+00:00</td>\n",
       "      <td>51.509775</td>\n",
       "      <td>-0.085014</td>\n",
       "      <td>Female</td>\n",
       "      <td>25-34</td>\n",
       "      <td>White - Any other White background</td>\n",
       "      <td>White</td>\n",
       "      <td>Article for use in theft</td>\n",
       "      <td>A no further action disposal</td>\n",
       "      <td>False</td>\n",
       "    </tr>\n",
       "    <tr>\n",
       "      <th>10</th>\n",
       "      <td>Person search</td>\n",
       "      <td>2019-12-03T09:48:08+00:00</td>\n",
       "      <td>51.517431</td>\n",
       "      <td>-0.082458</td>\n",
       "      <td>Male</td>\n",
       "      <td>18-24</td>\n",
       "      <td>Asian/Asian British - Bangladeshi</td>\n",
       "      <td>Asian</td>\n",
       "      <td>Controlled drugs</td>\n",
       "      <td>Arrest</td>\n",
       "      <td>False</td>\n",
       "    </tr>\n",
       "    <tr>\n",
       "      <th>12</th>\n",
       "      <td>Person search</td>\n",
       "      <td>2019-12-04T02:53:26+00:00</td>\n",
       "      <td>51.516814</td>\n",
       "      <td>-0.081620</td>\n",
       "      <td>Male</td>\n",
       "      <td>25-34</td>\n",
       "      <td>NaN</td>\n",
       "      <td>NaN</td>\n",
       "      <td>Controlled drugs</td>\n",
       "      <td>A no further action disposal</td>\n",
       "      <td>False</td>\n",
       "    </tr>\n",
       "  </tbody>\n",
       "</table>\n",
       "</div>"
      ],
      "text/plain": [
       "             Type                       Date   Latitude  Longitude  Gender  \\\n",
       "1   Person search  2019-12-01T02:17:49+00:00  51.513952  -0.085833    Male   \n",
       "5   Person search  2019-12-02T03:14:04+00:00  51.511625  -0.081549    Male   \n",
       "6   Person search  2019-12-02T04:51:16+00:00  51.509775  -0.085014  Female   \n",
       "10  Person search  2019-12-03T09:48:08+00:00  51.517431  -0.082458    Male   \n",
       "12  Person search  2019-12-04T02:53:26+00:00  51.516814  -0.081620    Male   \n",
       "\n",
       "   Age range              Self-defined ethnicity Officer-defined ethnicity  \\\n",
       "1    over 34  White - Any other White background                     Other   \n",
       "5    over 34  White - Any other White background                     White   \n",
       "6      25-34  White - Any other White background                     White   \n",
       "10     18-24   Asian/Asian British - Bangladeshi                     Asian   \n",
       "12     25-34                                 NaN                       NaN   \n",
       "\n",
       "            Object of search                       Outcome  \\\n",
       "1          Offensive weapons                        Arrest   \n",
       "5               Stolen goods                        Arrest   \n",
       "6   Article for use in theft  A no further action disposal   \n",
       "10          Controlled drugs                        Arrest   \n",
       "12          Controlled drugs  A no further action disposal   \n",
       "\n",
       "    Removal of more than just outer clothing  \n",
       "1                                      False  \n",
       "5                                      False  \n",
       "6                                      False  \n",
       "10                                     False  \n",
       "12                                     False  "
      ]
     },
     "execution_count": 289,
     "metadata": {},
     "output_type": "execute_result"
    }
   ],
   "source": [
    "df.head()"
   ]
  },
  {
   "cell_type": "code",
   "execution_count": 290,
   "metadata": {},
   "outputs": [],
   "source": [
    "import folium\n",
    "from IPython.display import display\n",
    "loc = df.dropna(subset=[\"Latitude\", \"Longitude\"])\n",
    "map_ = folium.Map(location=[loc[\"Latitude\"].mean(), loc[\"Longitude\"].mean()], zoom_start=7, min_zoom=7, max_zoom=7)\n",
    "for lat, lon in zip(loc[\"Latitude\"], loc[\"Longitude\"]):\n",
    "    folium.CircleMarker(\n",
    "        [lat, lon],\n",
    "        radius=5,\n",
    "        color='blue',\n",
    "        fill=True,\n",
    "        fill_color='blue',\n",
    "        fill_opacity=0.6\n",
    "    ).add_to(map_)\n",
    "# display(map_)"
   ]
  },
  {
   "cell_type": "code",
   "execution_count": 291,
   "metadata": {},
   "outputs": [
    {
     "data": {
      "text/html": [
       "<div>\n",
       "<style scoped>\n",
       "    .dataframe tbody tr th:only-of-type {\n",
       "        vertical-align: middle;\n",
       "    }\n",
       "\n",
       "    .dataframe tbody tr th {\n",
       "        vertical-align: top;\n",
       "    }\n",
       "\n",
       "    .dataframe thead th {\n",
       "        text-align: right;\n",
       "    }\n",
       "</style>\n",
       "<table border=\"1\" class=\"dataframe\">\n",
       "  <thead>\n",
       "    <tr style=\"text-align: right;\">\n",
       "      <th></th>\n",
       "      <th>Type</th>\n",
       "      <th>Date</th>\n",
       "      <th>Latitude</th>\n",
       "      <th>Longitude</th>\n",
       "      <th>Gender</th>\n",
       "      <th>Age range</th>\n",
       "      <th>Self-defined ethnicity</th>\n",
       "      <th>Officer-defined ethnicity</th>\n",
       "      <th>Object of search</th>\n",
       "      <th>Outcome</th>\n",
       "      <th>Removal of more than just outer clothing</th>\n",
       "    </tr>\n",
       "  </thead>\n",
       "  <tbody>\n",
       "    <tr>\n",
       "      <th>1</th>\n",
       "      <td>Person search</td>\n",
       "      <td>2019-12-01T02:17:49+00:00</td>\n",
       "      <td>51.513952</td>\n",
       "      <td>-0.085833</td>\n",
       "      <td>Male</td>\n",
       "      <td>over 34</td>\n",
       "      <td>White - Any other White background</td>\n",
       "      <td>Other</td>\n",
       "      <td>Offensive weapons</td>\n",
       "      <td>Arrest</td>\n",
       "      <td>False</td>\n",
       "    </tr>\n",
       "    <tr>\n",
       "      <th>5</th>\n",
       "      <td>Person search</td>\n",
       "      <td>2019-12-02T03:14:04+00:00</td>\n",
       "      <td>51.511625</td>\n",
       "      <td>-0.081549</td>\n",
       "      <td>Male</td>\n",
       "      <td>over 34</td>\n",
       "      <td>White - Any other White background</td>\n",
       "      <td>White</td>\n",
       "      <td>Stolen goods</td>\n",
       "      <td>Arrest</td>\n",
       "      <td>False</td>\n",
       "    </tr>\n",
       "    <tr>\n",
       "      <th>6</th>\n",
       "      <td>Person search</td>\n",
       "      <td>2019-12-02T04:51:16+00:00</td>\n",
       "      <td>51.509775</td>\n",
       "      <td>-0.085014</td>\n",
       "      <td>Female</td>\n",
       "      <td>25-34</td>\n",
       "      <td>White - Any other White background</td>\n",
       "      <td>White</td>\n",
       "      <td>Article for use in theft</td>\n",
       "      <td>A no further action disposal</td>\n",
       "      <td>False</td>\n",
       "    </tr>\n",
       "    <tr>\n",
       "      <th>10</th>\n",
       "      <td>Person search</td>\n",
       "      <td>2019-12-03T09:48:08+00:00</td>\n",
       "      <td>51.517431</td>\n",
       "      <td>-0.082458</td>\n",
       "      <td>Male</td>\n",
       "      <td>18-24</td>\n",
       "      <td>Asian/Asian British - Bangladeshi</td>\n",
       "      <td>Asian</td>\n",
       "      <td>Controlled drugs</td>\n",
       "      <td>Arrest</td>\n",
       "      <td>False</td>\n",
       "    </tr>\n",
       "    <tr>\n",
       "      <th>12</th>\n",
       "      <td>Person search</td>\n",
       "      <td>2019-12-04T02:53:26+00:00</td>\n",
       "      <td>51.516814</td>\n",
       "      <td>-0.081620</td>\n",
       "      <td>Male</td>\n",
       "      <td>25-34</td>\n",
       "      <td>NaN</td>\n",
       "      <td>NaN</td>\n",
       "      <td>Controlled drugs</td>\n",
       "      <td>A no further action disposal</td>\n",
       "      <td>False</td>\n",
       "    </tr>\n",
       "  </tbody>\n",
       "</table>\n",
       "</div>"
      ],
      "text/plain": [
       "             Type                       Date   Latitude  Longitude  Gender  \\\n",
       "1   Person search  2019-12-01T02:17:49+00:00  51.513952  -0.085833    Male   \n",
       "5   Person search  2019-12-02T03:14:04+00:00  51.511625  -0.081549    Male   \n",
       "6   Person search  2019-12-02T04:51:16+00:00  51.509775  -0.085014  Female   \n",
       "10  Person search  2019-12-03T09:48:08+00:00  51.517431  -0.082458    Male   \n",
       "12  Person search  2019-12-04T02:53:26+00:00  51.516814  -0.081620    Male   \n",
       "\n",
       "   Age range              Self-defined ethnicity Officer-defined ethnicity  \\\n",
       "1    over 34  White - Any other White background                     Other   \n",
       "5    over 34  White - Any other White background                     White   \n",
       "6      25-34  White - Any other White background                     White   \n",
       "10     18-24   Asian/Asian British - Bangladeshi                     Asian   \n",
       "12     25-34                                 NaN                       NaN   \n",
       "\n",
       "            Object of search                       Outcome  \\\n",
       "1          Offensive weapons                        Arrest   \n",
       "5               Stolen goods                        Arrest   \n",
       "6   Article for use in theft  A no further action disposal   \n",
       "10          Controlled drugs                        Arrest   \n",
       "12          Controlled drugs  A no further action disposal   \n",
       "\n",
       "    Removal of more than just outer clothing  \n",
       "1                                      False  \n",
       "5                                      False  \n",
       "6                                      False  \n",
       "10                                     False  \n",
       "12                                     False  "
      ]
     },
     "execution_count": 291,
     "metadata": {},
     "output_type": "execute_result"
    }
   ],
   "source": [
    "# remove locations that are not in London\n",
    "df = df[df.Latitude <= 52]\n",
    "df.head()"
   ]
  },
  {
   "cell_type": "code",
   "execution_count": 292,
   "metadata": {},
   "outputs": [],
   "source": [
    "# print the map again to see the difference\n",
    "loc = df.dropna(subset=[\"Latitude\", \"Longitude\"])\n",
    "map_ = folium.Map(location=[loc[\"Latitude\"].mean(), loc[\"Longitude\"].mean()], zoom_start=15, min_zoom=15, max_zoom=15)\n",
    "for lat, lon in zip(loc[\"Latitude\"], loc[\"Longitude\"]):\n",
    "    folium.CircleMarker(\n",
    "        [lat, lon],\n",
    "        radius=5,\n",
    "        color='blue',\n",
    "        fill=True,\n",
    "        fill_color='blue',\n",
    "        fill_opacity=0.6\n",
    "    ).add_to(map_)\n",
    "# display(map_)"
   ]
  },
  {
   "cell_type": "code",
   "execution_count": 293,
   "metadata": {},
   "outputs": [
    {
     "data": {
      "image/png": "[encoded data removed]",
      "text/plain": [
       "<Figure size 640x480 with 1 Axes>"
      ]
     },
     "metadata": {},
     "output_type": "display_data"
    }
   ],
   "source": [
    "# plot a distribution in x = latitude and y = longitude to see the distribution of the data\n",
    "import matplotlib.pyplot as plt\n",
    "plt.scatter(df['Latitude'], df['Longitude'], s=1)\n",
    "plt.show()"
   ]
  },
  {
   "cell_type": "code",
   "execution_count": 294,
   "metadata": {},
   "outputs": [
    {
     "data": {
      "text/plain": [
       "(2102, 11)"
      ]
     },
     "execution_count": 294,
     "metadata": {},
     "output_type": "execute_result"
    }
   ],
   "source": [
    "# drop range  <51.50 and >-0.05 ,drop >51.54 and >-0.05\n",
    "df = df[df.Latitude >= 51.50]\n",
    "df.shape"
   ]
  },
  {
   "cell_type": "code",
   "execution_count": 295,
   "metadata": {},
   "outputs": [
    {
     "data": {
      "text/plain": [
       "(2090, 11)"
      ]
     },
     "execution_count": 295,
     "metadata": {},
     "output_type": "execute_result"
    }
   ],
   "source": [
    "df = df[df.Latitude <= 51.54]\n",
    "df.shape"
   ]
  },
  {
   "cell_type": "code",
   "execution_count": 296,
   "metadata": {},
   "outputs": [
    {
     "data": {
      "text/plain": [
       "(2082, 11)"
      ]
     },
     "execution_count": 296,
     "metadata": {},
     "output_type": "execute_result"
    }
   ],
   "source": [
    "df = df[df.Longitude <= -0.05]\n",
    "df.shape"
   ]
  },
  {
   "cell_type": "markdown",
   "metadata": {},
   "source": [
    "# plot a distribution in x = latitude and y = longitude to see the distribution of the data\n",
    "import matplotlib.pyplot as plt\n",
    "plt.scatter(df['Latitude'], df['Longitude'], s=1)\n",
    "plt.show()"
   ]
  },
  {
   "cell_type": "code",
   "execution_count": 297,
   "metadata": {},
   "outputs": [],
   "source": [
    "# lable encoding the Gender column with sklearn\n",
    "from sklearn.preprocessing import LabelEncoder\n",
    "le = LabelEncoder()\n",
    "df [\"Type\"] = le.fit_transform(df [\"Type\"])"
   ]
  },
  {
   "cell_type": "code",
   "execution_count": 298,
   "metadata": {},
   "outputs": [],
   "source": [
    "import matplotlib.pyplot as plt"
   ]
  },
  {
   "cell_type": "code",
   "execution_count": 299,
   "metadata": {},
   "outputs": [
    {
     "name": "stdout",
     "output_type": "stream",
     "text": [
      "Controlled drugs                       1319\n",
      "Article for use in theft                328\n",
      "Stolen goods                            294\n",
      "Offensive weapons                        72\n",
      "Evidence of offences under the Act       34\n",
      "Articles for use in criminal damage      18\n",
      "Firearms                                  6\n",
      "Crossbows                                 1\n",
      "Name: Object of search, dtype: int64\n"
     ]
    },
    {
     "data": {
      "image/png": "[encoded data removed]",
      "text/plain": [
       "<Figure size 1000x1000 with 1 Axes>"
      ]
     },
     "metadata": {},
     "output_type": "display_data"
    }
   ],
   "source": [
    "# check Object of search column counts to create a pie chart\n",
    "print(df['Object of search'].value_counts())\n",
    "\n",
    "# create a pie chart for Object of search column and show % in large size \n",
    "df['Object of search'].value_counts().plot(kind='pie', autopct='%1.2f%%', figsize=(10,10), fontsize=10 ,labels=None)\n",
    "# add legend to the pie chart\n",
    "plt.legend(labels=df['Object of search'].value_counts().index, loc=\"best\", fontsize=10)\n",
    "# show the pie chart\n",
    "plt.show()"
   ]
  },
  {
   "cell_type": "code",
   "execution_count": 300,
   "metadata": {},
   "outputs": [],
   "source": [
    "# lable encode the Object of search column\n",
    "df [\"Object of search\"] = le.fit_transform(df [\"Object of search\"])"
   ]
  },
  {
   "cell_type": "code",
   "execution_count": 301,
   "metadata": {},
   "outputs": [
    {
     "data": {
      "text/html": [
       "<div>\n",
       "<style scoped>\n",
       "    .dataframe tbody tr th:only-of-type {\n",
       "        vertical-align: middle;\n",
       "    }\n",
       "\n",
       "    .dataframe tbody tr th {\n",
       "        vertical-align: top;\n",
       "    }\n",
       "\n",
       "    .dataframe thead th {\n",
       "        text-align: right;\n",
       "    }\n",
       "</style>\n",
       "<table border=\"1\" class=\"dataframe\">\n",
       "  <thead>\n",
       "    <tr style=\"text-align: right;\">\n",
       "      <th></th>\n",
       "      <th>Type</th>\n",
       "      <th>Date</th>\n",
       "      <th>Latitude</th>\n",
       "      <th>Longitude</th>\n",
       "      <th>Gender</th>\n",
       "      <th>Age range</th>\n",
       "      <th>Self-defined ethnicity</th>\n",
       "      <th>Officer-defined ethnicity</th>\n",
       "      <th>Object of search</th>\n",
       "      <th>Outcome</th>\n",
       "      <th>Removal of more than just outer clothing</th>\n",
       "    </tr>\n",
       "  </thead>\n",
       "  <tbody>\n",
       "    <tr>\n",
       "      <th>1</th>\n",
       "      <td>1</td>\n",
       "      <td>2019-12-01T02:17:49+00:00</td>\n",
       "      <td>51.513952</td>\n",
       "      <td>-0.085833</td>\n",
       "      <td>Male</td>\n",
       "      <td>over 34</td>\n",
       "      <td>White - Any other White background</td>\n",
       "      <td>Other</td>\n",
       "      <td>6</td>\n",
       "      <td>Arrest</td>\n",
       "      <td>False</td>\n",
       "    </tr>\n",
       "    <tr>\n",
       "      <th>5</th>\n",
       "      <td>1</td>\n",
       "      <td>2019-12-02T03:14:04+00:00</td>\n",
       "      <td>51.511625</td>\n",
       "      <td>-0.081549</td>\n",
       "      <td>Male</td>\n",
       "      <td>over 34</td>\n",
       "      <td>White - Any other White background</td>\n",
       "      <td>White</td>\n",
       "      <td>7</td>\n",
       "      <td>Arrest</td>\n",
       "      <td>False</td>\n",
       "    </tr>\n",
       "    <tr>\n",
       "      <th>6</th>\n",
       "      <td>1</td>\n",
       "      <td>2019-12-02T04:51:16+00:00</td>\n",
       "      <td>51.509775</td>\n",
       "      <td>-0.085014</td>\n",
       "      <td>Female</td>\n",
       "      <td>25-34</td>\n",
       "      <td>White - Any other White background</td>\n",
       "      <td>White</td>\n",
       "      <td>0</td>\n",
       "      <td>A no further action disposal</td>\n",
       "      <td>False</td>\n",
       "    </tr>\n",
       "    <tr>\n",
       "      <th>10</th>\n",
       "      <td>1</td>\n",
       "      <td>2019-12-03T09:48:08+00:00</td>\n",
       "      <td>51.517431</td>\n",
       "      <td>-0.082458</td>\n",
       "      <td>Male</td>\n",
       "      <td>18-24</td>\n",
       "      <td>Asian/Asian British - Bangladeshi</td>\n",
       "      <td>Asian</td>\n",
       "      <td>2</td>\n",
       "      <td>Arrest</td>\n",
       "      <td>False</td>\n",
       "    </tr>\n",
       "    <tr>\n",
       "      <th>12</th>\n",
       "      <td>1</td>\n",
       "      <td>2019-12-04T02:53:26+00:00</td>\n",
       "      <td>51.516814</td>\n",
       "      <td>-0.081620</td>\n",
       "      <td>Male</td>\n",
       "      <td>25-34</td>\n",
       "      <td>NaN</td>\n",
       "      <td>NaN</td>\n",
       "      <td>2</td>\n",
       "      <td>A no further action disposal</td>\n",
       "      <td>False</td>\n",
       "    </tr>\n",
       "  </tbody>\n",
       "</table>\n",
       "</div>"
      ],
      "text/plain": [
       "    Type                       Date   Latitude  Longitude  Gender Age range  \\\n",
       "1      1  2019-12-01T02:17:49+00:00  51.513952  -0.085833    Male   over 34   \n",
       "5      1  2019-12-02T03:14:04+00:00  51.511625  -0.081549    Male   over 34   \n",
       "6      1  2019-12-02T04:51:16+00:00  51.509775  -0.085014  Female     25-34   \n",
       "10     1  2019-12-03T09:48:08+00:00  51.517431  -0.082458    Male     18-24   \n",
       "12     1  2019-12-04T02:53:26+00:00  51.516814  -0.081620    Male     25-34   \n",
       "\n",
       "                Self-defined ethnicity Officer-defined ethnicity  \\\n",
       "1   White - Any other White background                     Other   \n",
       "5   White - Any other White background                     White   \n",
       "6   White - Any other White background                     White   \n",
       "10   Asian/Asian British - Bangladeshi                     Asian   \n",
       "12                                 NaN                       NaN   \n",
       "\n",
       "    Object of search                       Outcome  \\\n",
       "1                  6                        Arrest   \n",
       "5                  7                        Arrest   \n",
       "6                  0  A no further action disposal   \n",
       "10                 2                        Arrest   \n",
       "12                 2  A no further action disposal   \n",
       "\n",
       "    Removal of more than just outer clothing  \n",
       "1                                      False  \n",
       "5                                      False  \n",
       "6                                      False  \n",
       "10                                     False  \n",
       "12                                     False  "
      ]
     },
     "execution_count": 301,
     "metadata": {},
     "output_type": "execute_result"
    }
   ],
   "source": [
    "df.head()"
   ]
  },
  {
   "cell_type": "code",
   "execution_count": 302,
   "metadata": {},
   "outputs": [
    {
     "name": "stdout",
     "output_type": "stream",
     "text": [
      "Male      1890\n",
      "Female     191\n",
      "Name: Gender, dtype: int64\n"
     ]
    },
    {
     "data": {
      "image/png": "[encoded data removed]",
      "text/plain": [
       "<Figure size 1000x1000 with 1 Axes>"
      ]
     },
     "metadata": {},
     "output_type": "display_data"
    }
   ],
   "source": [
    "# check Gender column counts to create a pie chart\n",
    "print(df['Gender'].value_counts())\n",
    "\n",
    "# create a pie chart for Gender column and show % in large size \n",
    "df['Gender'].value_counts().plot(kind='pie', autopct='%1.2f%%', figsize=(10,10), fontsize=10 ,labels=None)\n",
    "# add legend to the pie chart\n",
    "plt.legend(labels=df['Gender'].value_counts().index, loc=\"best\", fontsize=10)\n",
    "# show the pie chart\n",
    "plt.show()"
   ]
  },
  {
   "cell_type": "code",
   "execution_count": 303,
   "metadata": {},
   "outputs": [],
   "source": [
    "# drop genders column as it is sensitive data\n",
    "df.drop(['Gender'], axis=1, inplace=True)"
   ]
  },
  {
   "cell_type": "code",
   "execution_count": 304,
   "metadata": {},
   "outputs": [
    {
     "data": {
      "text/html": [
       "<div>\n",
       "<style scoped>\n",
       "    .dataframe tbody tr th:only-of-type {\n",
       "        vertical-align: middle;\n",
       "    }\n",
       "\n",
       "    .dataframe tbody tr th {\n",
       "        vertical-align: top;\n",
       "    }\n",
       "\n",
       "    .dataframe thead th {\n",
       "        text-align: right;\n",
       "    }\n",
       "</style>\n",
       "<table border=\"1\" class=\"dataframe\">\n",
       "  <thead>\n",
       "    <tr style=\"text-align: right;\">\n",
       "      <th></th>\n",
       "      <th>Type</th>\n",
       "      <th>Date</th>\n",
       "      <th>Latitude</th>\n",
       "      <th>Longitude</th>\n",
       "      <th>Age range</th>\n",
       "      <th>Self-defined ethnicity</th>\n",
       "      <th>Officer-defined ethnicity</th>\n",
       "      <th>Object of search</th>\n",
       "      <th>Outcome</th>\n",
       "      <th>Removal of more than just outer clothing</th>\n",
       "    </tr>\n",
       "  </thead>\n",
       "  <tbody>\n",
       "    <tr>\n",
       "      <th>1</th>\n",
       "      <td>1</td>\n",
       "      <td>2019-12-01T02:17:49+00:00</td>\n",
       "      <td>51.513952</td>\n",
       "      <td>-0.085833</td>\n",
       "      <td>3</td>\n",
       "      <td>White - Any other White background</td>\n",
       "      <td>Other</td>\n",
       "      <td>6</td>\n",
       "      <td>Arrest</td>\n",
       "      <td>False</td>\n",
       "    </tr>\n",
       "    <tr>\n",
       "      <th>5</th>\n",
       "      <td>1</td>\n",
       "      <td>2019-12-02T03:14:04+00:00</td>\n",
       "      <td>51.511625</td>\n",
       "      <td>-0.081549</td>\n",
       "      <td>3</td>\n",
       "      <td>White - Any other White background</td>\n",
       "      <td>White</td>\n",
       "      <td>7</td>\n",
       "      <td>Arrest</td>\n",
       "      <td>False</td>\n",
       "    </tr>\n",
       "    <tr>\n",
       "      <th>6</th>\n",
       "      <td>1</td>\n",
       "      <td>2019-12-02T04:51:16+00:00</td>\n",
       "      <td>51.509775</td>\n",
       "      <td>-0.085014</td>\n",
       "      <td>2</td>\n",
       "      <td>White - Any other White background</td>\n",
       "      <td>White</td>\n",
       "      <td>0</td>\n",
       "      <td>A no further action disposal</td>\n",
       "      <td>False</td>\n",
       "    </tr>\n",
       "    <tr>\n",
       "      <th>10</th>\n",
       "      <td>1</td>\n",
       "      <td>2019-12-03T09:48:08+00:00</td>\n",
       "      <td>51.517431</td>\n",
       "      <td>-0.082458</td>\n",
       "      <td>1</td>\n",
       "      <td>Asian/Asian British - Bangladeshi</td>\n",
       "      <td>Asian</td>\n",
       "      <td>2</td>\n",
       "      <td>Arrest</td>\n",
       "      <td>False</td>\n",
       "    </tr>\n",
       "    <tr>\n",
       "      <th>12</th>\n",
       "      <td>1</td>\n",
       "      <td>2019-12-04T02:53:26+00:00</td>\n",
       "      <td>51.516814</td>\n",
       "      <td>-0.081620</td>\n",
       "      <td>2</td>\n",
       "      <td>NaN</td>\n",
       "      <td>NaN</td>\n",
       "      <td>2</td>\n",
       "      <td>A no further action disposal</td>\n",
       "      <td>False</td>\n",
       "    </tr>\n",
       "  </tbody>\n",
       "</table>\n",
       "</div>"
      ],
      "text/plain": [
       "    Type                       Date   Latitude  Longitude  Age range  \\\n",
       "1      1  2019-12-01T02:17:49+00:00  51.513952  -0.085833          3   \n",
       "5      1  2019-12-02T03:14:04+00:00  51.511625  -0.081549          3   \n",
       "6      1  2019-12-02T04:51:16+00:00  51.509775  -0.085014          2   \n",
       "10     1  2019-12-03T09:48:08+00:00  51.517431  -0.082458          1   \n",
       "12     1  2019-12-04T02:53:26+00:00  51.516814  -0.081620          2   \n",
       "\n",
       "                Self-defined ethnicity Officer-defined ethnicity  \\\n",
       "1   White - Any other White background                     Other   \n",
       "5   White - Any other White background                     White   \n",
       "6   White - Any other White background                     White   \n",
       "10   Asian/Asian British - Bangladeshi                     Asian   \n",
       "12                                 NaN                       NaN   \n",
       "\n",
       "    Object of search                       Outcome  \\\n",
       "1                  6                        Arrest   \n",
       "5                  7                        Arrest   \n",
       "6                  0  A no further action disposal   \n",
       "10                 2                        Arrest   \n",
       "12                 2  A no further action disposal   \n",
       "\n",
       "    Removal of more than just outer clothing  \n",
       "1                                      False  \n",
       "5                                      False  \n",
       "6                                      False  \n",
       "10                                     False  \n",
       "12                                     False  "
      ]
     },
     "execution_count": 304,
     "metadata": {},
     "output_type": "execute_result"
    }
   ],
   "source": [
    "# lable encoding the Age range column with sklearn\n",
    "df [\"Age range\"] = le.fit_transform(df [\"Age range\"])\n",
    "# show the data\n",
    "df.head()\n"
   ]
  },
  {
   "cell_type": "code",
   "execution_count": 305,
   "metadata": {},
   "outputs": [],
   "source": [
    "# drop ethnicity related columns as it is sensitive data\n",
    "df.drop(['Self-defined ethnicity'], axis=1, inplace=True)\n",
    "df.drop(['Officer-defined ethnicity'], axis=1, inplace=True)"
   ]
  },
  {
   "cell_type": "code",
   "execution_count": 306,
   "metadata": {},
   "outputs": [
    {
     "data": {
      "text/html": [
       "<div>\n",
       "<style scoped>\n",
       "    .dataframe tbody tr th:only-of-type {\n",
       "        vertical-align: middle;\n",
       "    }\n",
       "\n",
       "    .dataframe tbody tr th {\n",
       "        vertical-align: top;\n",
       "    }\n",
       "\n",
       "    .dataframe thead th {\n",
       "        text-align: right;\n",
       "    }\n",
       "</style>\n",
       "<table border=\"1\" class=\"dataframe\">\n",
       "  <thead>\n",
       "    <tr style=\"text-align: right;\">\n",
       "      <th></th>\n",
       "      <th>Type</th>\n",
       "      <th>Date</th>\n",
       "      <th>Latitude</th>\n",
       "      <th>Longitude</th>\n",
       "      <th>Age range</th>\n",
       "      <th>Object of search</th>\n",
       "      <th>Outcome</th>\n",
       "      <th>Removal of more than just outer clothing</th>\n",
       "    </tr>\n",
       "  </thead>\n",
       "  <tbody>\n",
       "    <tr>\n",
       "      <th>1</th>\n",
       "      <td>1</td>\n",
       "      <td>2019-12-01T02:17:49+00:00</td>\n",
       "      <td>51.513952</td>\n",
       "      <td>-0.085833</td>\n",
       "      <td>3</td>\n",
       "      <td>6</td>\n",
       "      <td>1</td>\n",
       "      <td>False</td>\n",
       "    </tr>\n",
       "    <tr>\n",
       "      <th>5</th>\n",
       "      <td>1</td>\n",
       "      <td>2019-12-02T03:14:04+00:00</td>\n",
       "      <td>51.511625</td>\n",
       "      <td>-0.081549</td>\n",
       "      <td>3</td>\n",
       "      <td>7</td>\n",
       "      <td>1</td>\n",
       "      <td>False</td>\n",
       "    </tr>\n",
       "    <tr>\n",
       "      <th>6</th>\n",
       "      <td>1</td>\n",
       "      <td>2019-12-02T04:51:16+00:00</td>\n",
       "      <td>51.509775</td>\n",
       "      <td>-0.085014</td>\n",
       "      <td>2</td>\n",
       "      <td>0</td>\n",
       "      <td>0</td>\n",
       "      <td>False</td>\n",
       "    </tr>\n",
       "    <tr>\n",
       "      <th>10</th>\n",
       "      <td>1</td>\n",
       "      <td>2019-12-03T09:48:08+00:00</td>\n",
       "      <td>51.517431</td>\n",
       "      <td>-0.082458</td>\n",
       "      <td>1</td>\n",
       "      <td>2</td>\n",
       "      <td>1</td>\n",
       "      <td>False</td>\n",
       "    </tr>\n",
       "    <tr>\n",
       "      <th>12</th>\n",
       "      <td>1</td>\n",
       "      <td>2019-12-04T02:53:26+00:00</td>\n",
       "      <td>51.516814</td>\n",
       "      <td>-0.081620</td>\n",
       "      <td>2</td>\n",
       "      <td>2</td>\n",
       "      <td>0</td>\n",
       "      <td>False</td>\n",
       "    </tr>\n",
       "  </tbody>\n",
       "</table>\n",
       "</div>"
      ],
      "text/plain": [
       "    Type                       Date   Latitude  Longitude  Age range  \\\n",
       "1      1  2019-12-01T02:17:49+00:00  51.513952  -0.085833          3   \n",
       "5      1  2019-12-02T03:14:04+00:00  51.511625  -0.081549          3   \n",
       "6      1  2019-12-02T04:51:16+00:00  51.509775  -0.085014          2   \n",
       "10     1  2019-12-03T09:48:08+00:00  51.517431  -0.082458          1   \n",
       "12     1  2019-12-04T02:53:26+00:00  51.516814  -0.081620          2   \n",
       "\n",
       "    Object of search  Outcome  Removal of more than just outer clothing  \n",
       "1                  6        1                                     False  \n",
       "5                  7        1                                     False  \n",
       "6                  0        0                                     False  \n",
       "10                 2        1                                     False  \n",
       "12                 2        0                                     False  "
      ]
     },
     "execution_count": 306,
     "metadata": {},
     "output_type": "execute_result"
    }
   ],
   "source": [
    "# lable encoding the Outcome column with sklearn\n",
    "df [\"Outcome\"] = le.fit_transform(df [\"Outcome\"])\n",
    "# show the data\n",
    "df.head()"
   ]
  },
  {
   "cell_type": "code",
   "execution_count": 307,
   "metadata": {},
   "outputs": [
    {
     "data": {
      "text/html": [
       "<div>\n",
       "<style scoped>\n",
       "    .dataframe tbody tr th:only-of-type {\n",
       "        vertical-align: middle;\n",
       "    }\n",
       "\n",
       "    .dataframe tbody tr th {\n",
       "        vertical-align: top;\n",
       "    }\n",
       "\n",
       "    .dataframe thead th {\n",
       "        text-align: right;\n",
       "    }\n",
       "</style>\n",
       "<table border=\"1\" class=\"dataframe\">\n",
       "  <thead>\n",
       "    <tr style=\"text-align: right;\">\n",
       "      <th></th>\n",
       "      <th>Type</th>\n",
       "      <th>Date</th>\n",
       "      <th>Latitude</th>\n",
       "      <th>Longitude</th>\n",
       "      <th>Age range</th>\n",
       "      <th>Object of search</th>\n",
       "      <th>Outcome</th>\n",
       "      <th>Removal of more than just outer clothing</th>\n",
       "    </tr>\n",
       "  </thead>\n",
       "  <tbody>\n",
       "    <tr>\n",
       "      <th>1</th>\n",
       "      <td>1</td>\n",
       "      <td>2019-12-01T02:17:49+00:00</td>\n",
       "      <td>51.513952</td>\n",
       "      <td>-0.085833</td>\n",
       "      <td>3</td>\n",
       "      <td>6</td>\n",
       "      <td>1</td>\n",
       "      <td>0</td>\n",
       "    </tr>\n",
       "    <tr>\n",
       "      <th>5</th>\n",
       "      <td>1</td>\n",
       "      <td>2019-12-02T03:14:04+00:00</td>\n",
       "      <td>51.511625</td>\n",
       "      <td>-0.081549</td>\n",
       "      <td>3</td>\n",
       "      <td>7</td>\n",
       "      <td>1</td>\n",
       "      <td>0</td>\n",
       "    </tr>\n",
       "    <tr>\n",
       "      <th>6</th>\n",
       "      <td>1</td>\n",
       "      <td>2019-12-02T04:51:16+00:00</td>\n",
       "      <td>51.509775</td>\n",
       "      <td>-0.085014</td>\n",
       "      <td>2</td>\n",
       "      <td>0</td>\n",
       "      <td>0</td>\n",
       "      <td>0</td>\n",
       "    </tr>\n",
       "    <tr>\n",
       "      <th>10</th>\n",
       "      <td>1</td>\n",
       "      <td>2019-12-03T09:48:08+00:00</td>\n",
       "      <td>51.517431</td>\n",
       "      <td>-0.082458</td>\n",
       "      <td>1</td>\n",
       "      <td>2</td>\n",
       "      <td>1</td>\n",
       "      <td>0</td>\n",
       "    </tr>\n",
       "    <tr>\n",
       "      <th>12</th>\n",
       "      <td>1</td>\n",
       "      <td>2019-12-04T02:53:26+00:00</td>\n",
       "      <td>51.516814</td>\n",
       "      <td>-0.081620</td>\n",
       "      <td>2</td>\n",
       "      <td>2</td>\n",
       "      <td>0</td>\n",
       "      <td>0</td>\n",
       "    </tr>\n",
       "  </tbody>\n",
       "</table>\n",
       "</div>"
      ],
      "text/plain": [
       "    Type                       Date   Latitude  Longitude  Age range  \\\n",
       "1      1  2019-12-01T02:17:49+00:00  51.513952  -0.085833          3   \n",
       "5      1  2019-12-02T03:14:04+00:00  51.511625  -0.081549          3   \n",
       "6      1  2019-12-02T04:51:16+00:00  51.509775  -0.085014          2   \n",
       "10     1  2019-12-03T09:48:08+00:00  51.517431  -0.082458          1   \n",
       "12     1  2019-12-04T02:53:26+00:00  51.516814  -0.081620          2   \n",
       "\n",
       "    Object of search  Outcome  Removal of more than just outer clothing  \n",
       "1                  6        1                                         0  \n",
       "5                  7        1                                         0  \n",
       "6                  0        0                                         0  \n",
       "10                 2        1                                         0  \n",
       "12                 2        0                                         0  "
      ]
     },
     "execution_count": 307,
     "metadata": {},
     "output_type": "execute_result"
    }
   ],
   "source": [
    "# lable encoding the Removal of more than just outer clothing column with sklearn\n",
    "df [\"Removal of more than just outer clothing\"] = le.fit_transform(df [\"Removal of more than just outer clothing\"])\n",
    "# show the data\n",
    "df.head()"
   ]
  },
  {
   "cell_type": "code",
   "execution_count": 308,
   "metadata": {},
   "outputs": [
    {
     "name": "stderr",
     "output_type": "stream",
     "text": [
      "C:\\Users\\admin\\AppData\\Local\\Temp\\ipykernel_39180\\1732722446.py:2: FutureWarning: The default value of numeric_only in DataFrame.corr is deprecated. In a future version, it will default to False. Select only valid columns or specify the value of numeric_only to silence this warning.\n",
      "  corr = df.corr()\n"
     ]
    },
    {
     "data": {
      "text/plain": [
       "<Axes: >"
      ]
     },
     "execution_count": 308,
     "metadata": {},
     "output_type": "execute_result"
    },
    {
     "data": {
      "image/png": "[encoded data removed]",
      "text/plain": [
       "<Figure size 640x480 with 2 Axes>"
      ]
     },
     "metadata": {},
     "output_type": "display_data"
    }
   ],
   "source": [
    "#  calculate the correlation matrix\n",
    "corr = df.corr()\n",
    "# plot the heatmap\n",
    "import seaborn as sns\n",
    "sns.heatmap(corr,\n",
    "            xticklabels=corr.columns.values,\n",
    "            yticklabels=corr.columns.values)"
   ]
  },
  {
   "attachments": {},
   "cell_type": "markdown",
   "metadata": {},
   "source": [
    "---------------------------------------------------"
   ]
  },
  {
   "attachments": {},
   "cell_type": "markdown",
   "metadata": {},
   "source": [
    "# Catogriy the time of the day the crime happend 4 hours interval"
   ]
  },
  {
   "cell_type": "code",
   "execution_count": 309,
   "metadata": {},
   "outputs": [],
   "source": [
    "# extract the time(at what hour) of the Date column and add it to a new column called, in every 4 hours \n",
    "df['Time'] = pd.to_datetime(df['Date']).dt.hour\n",
    "\n",
    "# increase all values in the Time column by 1 to make the first hour 1 instead of 0\n",
    "df['Time'] = df['Time'] + 1\n",
    "\n",
    "# create 3 hour intervals for the Time column and add it to a new column called, in every 4 hours\n",
    "df['Time'] = pd.cut(df['Time'], bins=[0,4,8,12,16,20,24], labels=[1,2,3,4,5,6])"
   ]
  },
  {
   "cell_type": "code",
   "execution_count": 310,
   "metadata": {},
   "outputs": [],
   "source": [
    "# extract the week day of the Date column and add it to a new column called week Day\n",
    "df['Week Day'] = pd.to_datetime(df['Date']).dt.dayofweek\n",
    "\n",
    "# extract the month of the Date column and add it to a new column called Month\n",
    "df['Month'] = pd.to_datetime(df['Date']).dt.month\n",
    "\n",
    "# extract the week day of the Date column and add it to a new column called Day\n",
    "df['Day'] = pd.to_datetime(df['Date']).dt.day\n",
    "\n",
    "# extract the year of the Date column and add it to a new column called Year\n",
    "df['Year'] = pd.to_datetime(df['Date']).dt.year"
   ]
  },
  {
   "cell_type": "code",
   "execution_count": 311,
   "metadata": {},
   "outputs": [
    {
     "data": {
      "text/html": [
       "<div>\n",
       "<style scoped>\n",
       "    .dataframe tbody tr th:only-of-type {\n",
       "        vertical-align: middle;\n",
       "    }\n",
       "\n",
       "    .dataframe tbody tr th {\n",
       "        vertical-align: top;\n",
       "    }\n",
       "\n",
       "    .dataframe thead th {\n",
       "        text-align: right;\n",
       "    }\n",
       "</style>\n",
       "<table border=\"1\" class=\"dataframe\">\n",
       "  <thead>\n",
       "    <tr style=\"text-align: right;\">\n",
       "      <th></th>\n",
       "      <th>Type</th>\n",
       "      <th>Date</th>\n",
       "      <th>Latitude</th>\n",
       "      <th>Longitude</th>\n",
       "      <th>Age range</th>\n",
       "      <th>Object of search</th>\n",
       "      <th>Outcome</th>\n",
       "      <th>Removal of more than just outer clothing</th>\n",
       "      <th>Time</th>\n",
       "      <th>Week Day</th>\n",
       "      <th>Month</th>\n",
       "      <th>Day</th>\n",
       "      <th>Year</th>\n",
       "    </tr>\n",
       "  </thead>\n",
       "  <tbody>\n",
       "    <tr>\n",
       "      <th>1</th>\n",
       "      <td>1</td>\n",
       "      <td>2019-12-01T02:17:49+00:00</td>\n",
       "      <td>51.513952</td>\n",
       "      <td>-0.085833</td>\n",
       "      <td>3</td>\n",
       "      <td>6</td>\n",
       "      <td>1</td>\n",
       "      <td>0</td>\n",
       "      <td>1</td>\n",
       "      <td>6</td>\n",
       "      <td>12</td>\n",
       "      <td>1</td>\n",
       "      <td>2019</td>\n",
       "    </tr>\n",
       "    <tr>\n",
       "      <th>5</th>\n",
       "      <td>1</td>\n",
       "      <td>2019-12-02T03:14:04+00:00</td>\n",
       "      <td>51.511625</td>\n",
       "      <td>-0.081549</td>\n",
       "      <td>3</td>\n",
       "      <td>7</td>\n",
       "      <td>1</td>\n",
       "      <td>0</td>\n",
       "      <td>1</td>\n",
       "      <td>0</td>\n",
       "      <td>12</td>\n",
       "      <td>2</td>\n",
       "      <td>2019</td>\n",
       "    </tr>\n",
       "    <tr>\n",
       "      <th>6</th>\n",
       "      <td>1</td>\n",
       "      <td>2019-12-02T04:51:16+00:00</td>\n",
       "      <td>51.509775</td>\n",
       "      <td>-0.085014</td>\n",
       "      <td>2</td>\n",
       "      <td>0</td>\n",
       "      <td>0</td>\n",
       "      <td>0</td>\n",
       "      <td>2</td>\n",
       "      <td>0</td>\n",
       "      <td>12</td>\n",
       "      <td>2</td>\n",
       "      <td>2019</td>\n",
       "    </tr>\n",
       "    <tr>\n",
       "      <th>10</th>\n",
       "      <td>1</td>\n",
       "      <td>2019-12-03T09:48:08+00:00</td>\n",
       "      <td>51.517431</td>\n",
       "      <td>-0.082458</td>\n",
       "      <td>1</td>\n",
       "      <td>2</td>\n",
       "      <td>1</td>\n",
       "      <td>0</td>\n",
       "      <td>3</td>\n",
       "      <td>1</td>\n",
       "      <td>12</td>\n",
       "      <td>3</td>\n",
       "      <td>2019</td>\n",
       "    </tr>\n",
       "    <tr>\n",
       "      <th>12</th>\n",
       "      <td>1</td>\n",
       "      <td>2019-12-04T02:53:26+00:00</td>\n",
       "      <td>51.516814</td>\n",
       "      <td>-0.081620</td>\n",
       "      <td>2</td>\n",
       "      <td>2</td>\n",
       "      <td>0</td>\n",
       "      <td>0</td>\n",
       "      <td>1</td>\n",
       "      <td>2</td>\n",
       "      <td>12</td>\n",
       "      <td>4</td>\n",
       "      <td>2019</td>\n",
       "    </tr>\n",
       "  </tbody>\n",
       "</table>\n",
       "</div>"
      ],
      "text/plain": [
       "    Type                       Date   Latitude  Longitude  Age range  \\\n",
       "1      1  2019-12-01T02:17:49+00:00  51.513952  -0.085833          3   \n",
       "5      1  2019-12-02T03:14:04+00:00  51.511625  -0.081549          3   \n",
       "6      1  2019-12-02T04:51:16+00:00  51.509775  -0.085014          2   \n",
       "10     1  2019-12-03T09:48:08+00:00  51.517431  -0.082458          1   \n",
       "12     1  2019-12-04T02:53:26+00:00  51.516814  -0.081620          2   \n",
       "\n",
       "    Object of search  Outcome  Removal of more than just outer clothing Time  \\\n",
       "1                  6        1                                         0    1   \n",
       "5                  7        1                                         0    1   \n",
       "6                  0        0                                         0    2   \n",
       "10                 2        1                                         0    3   \n",
       "12                 2        0                                         0    1   \n",
       "\n",
       "    Week Day  Month  Day  Year  \n",
       "1          6     12    1  2019  \n",
       "5          0     12    2  2019  \n",
       "6          0     12    2  2019  \n",
       "10         1     12    3  2019  \n",
       "12         2     12    4  2019  "
      ]
     },
     "execution_count": 311,
     "metadata": {},
     "output_type": "execute_result"
    }
   ],
   "source": [
    "# show head of the data\n",
    "df.head()"
   ]
  },
  {
   "cell_type": "code",
   "execution_count": 312,
   "metadata": {},
   "outputs": [
    {
     "data": {
      "text/plain": [
       "2    666\n",
       "1    605\n",
       "3    497\n",
       "4    127\n",
       "5    108\n",
       "6     79\n",
       "Name: Time, dtype: int64"
      ]
     },
     "execution_count": 312,
     "metadata": {},
     "output_type": "execute_result"
    }
   ],
   "source": [
    "# show Time unique values counts\n",
    "df['Time'].value_counts()"
   ]
  },
  {
   "cell_type": "code",
   "execution_count": 313,
   "metadata": {},
   "outputs": [],
   "source": [
    "# increment all values in the Week Day column by 1 to make the first day 1 instead of 0\n",
    "df['Week Day'] = df['Week Day'] + 1"
   ]
  },
  {
   "cell_type": "code",
   "execution_count": 314,
   "metadata": {},
   "outputs": [
    {
     "data": {
      "text/plain": [
       "5    374\n",
       "4    350\n",
       "3    322\n",
       "6    275\n",
       "1    270\n",
       "2    269\n",
       "7    222\n",
       "Name: Week Day, dtype: int64"
      ]
     },
     "execution_count": 314,
     "metadata": {},
     "output_type": "execute_result"
    }
   ],
   "source": [
    "# show Week Day unique values counts\n",
    "df['Week Day'].value_counts()\n"
   ]
  },
  {
   "cell_type": "code",
   "execution_count": 315,
   "metadata": {},
   "outputs": [
    {
     "data": {
      "text/plain": [
       "7     259\n",
       "8     183\n",
       "12    177\n",
       "3     177\n",
       "5     175\n",
       "11    170\n",
       "1     166\n",
       "10    166\n",
       "4     160\n",
       "9     157\n",
       "6     156\n",
       "2     136\n",
       "Name: Month, dtype: int64"
      ]
     },
     "execution_count": 315,
     "metadata": {},
     "output_type": "execute_result"
    }
   ],
   "source": [
    "# show Month unique values counts\n",
    "df['Month'].value_counts()"
   ]
  },
  {
   "cell_type": "code",
   "execution_count": 316,
   "metadata": {},
   "outputs": [
    {
     "data": {
      "text/html": [
       "<div>\n",
       "<style scoped>\n",
       "    .dataframe tbody tr th:only-of-type {\n",
       "        vertical-align: middle;\n",
       "    }\n",
       "\n",
       "    .dataframe tbody tr th {\n",
       "        vertical-align: top;\n",
       "    }\n",
       "\n",
       "    .dataframe thead th {\n",
       "        text-align: right;\n",
       "    }\n",
       "</style>\n",
       "<table border=\"1\" class=\"dataframe\">\n",
       "  <thead>\n",
       "    <tr style=\"text-align: right;\">\n",
       "      <th></th>\n",
       "      <th>Type</th>\n",
       "      <th>Date</th>\n",
       "      <th>Latitude</th>\n",
       "      <th>Longitude</th>\n",
       "      <th>Age range</th>\n",
       "      <th>Object of search</th>\n",
       "      <th>Outcome</th>\n",
       "      <th>Removal of more than just outer clothing</th>\n",
       "      <th>Time</th>\n",
       "      <th>Week Day</th>\n",
       "      <th>Month</th>\n",
       "      <th>Day</th>\n",
       "      <th>Year</th>\n",
       "    </tr>\n",
       "  </thead>\n",
       "  <tbody>\n",
       "    <tr>\n",
       "      <th>1</th>\n",
       "      <td>1</td>\n",
       "      <td>2019-12-01T02:17:49+00:00</td>\n",
       "      <td>51.513952</td>\n",
       "      <td>-0.085833</td>\n",
       "      <td>3</td>\n",
       "      <td>6</td>\n",
       "      <td>1</td>\n",
       "      <td>0</td>\n",
       "      <td>1</td>\n",
       "      <td>7</td>\n",
       "      <td>12</td>\n",
       "      <td>1</td>\n",
       "      <td>2019</td>\n",
       "    </tr>\n",
       "    <tr>\n",
       "      <th>5</th>\n",
       "      <td>1</td>\n",
       "      <td>2019-12-02T03:14:04+00:00</td>\n",
       "      <td>51.511625</td>\n",
       "      <td>-0.081549</td>\n",
       "      <td>3</td>\n",
       "      <td>7</td>\n",
       "      <td>1</td>\n",
       "      <td>0</td>\n",
       "      <td>1</td>\n",
       "      <td>1</td>\n",
       "      <td>12</td>\n",
       "      <td>2</td>\n",
       "      <td>2019</td>\n",
       "    </tr>\n",
       "    <tr>\n",
       "      <th>6</th>\n",
       "      <td>1</td>\n",
       "      <td>2019-12-02T04:51:16+00:00</td>\n",
       "      <td>51.509775</td>\n",
       "      <td>-0.085014</td>\n",
       "      <td>2</td>\n",
       "      <td>0</td>\n",
       "      <td>0</td>\n",
       "      <td>0</td>\n",
       "      <td>2</td>\n",
       "      <td>1</td>\n",
       "      <td>12</td>\n",
       "      <td>2</td>\n",
       "      <td>2019</td>\n",
       "    </tr>\n",
       "    <tr>\n",
       "      <th>10</th>\n",
       "      <td>1</td>\n",
       "      <td>2019-12-03T09:48:08+00:00</td>\n",
       "      <td>51.517431</td>\n",
       "      <td>-0.082458</td>\n",
       "      <td>1</td>\n",
       "      <td>2</td>\n",
       "      <td>1</td>\n",
       "      <td>0</td>\n",
       "      <td>3</td>\n",
       "      <td>2</td>\n",
       "      <td>12</td>\n",
       "      <td>3</td>\n",
       "      <td>2019</td>\n",
       "    </tr>\n",
       "    <tr>\n",
       "      <th>12</th>\n",
       "      <td>1</td>\n",
       "      <td>2019-12-04T02:53:26+00:00</td>\n",
       "      <td>51.516814</td>\n",
       "      <td>-0.081620</td>\n",
       "      <td>2</td>\n",
       "      <td>2</td>\n",
       "      <td>0</td>\n",
       "      <td>0</td>\n",
       "      <td>1</td>\n",
       "      <td>3</td>\n",
       "      <td>12</td>\n",
       "      <td>4</td>\n",
       "      <td>2019</td>\n",
       "    </tr>\n",
       "  </tbody>\n",
       "</table>\n",
       "</div>"
      ],
      "text/plain": [
       "    Type                       Date   Latitude  Longitude  Age range  \\\n",
       "1      1  2019-12-01T02:17:49+00:00  51.513952  -0.085833          3   \n",
       "5      1  2019-12-02T03:14:04+00:00  51.511625  -0.081549          3   \n",
       "6      1  2019-12-02T04:51:16+00:00  51.509775  -0.085014          2   \n",
       "10     1  2019-12-03T09:48:08+00:00  51.517431  -0.082458          1   \n",
       "12     1  2019-12-04T02:53:26+00:00  51.516814  -0.081620          2   \n",
       "\n",
       "    Object of search  Outcome  Removal of more than just outer clothing Time  \\\n",
       "1                  6        1                                         0    1   \n",
       "5                  7        1                                         0    1   \n",
       "6                  0        0                                         0    2   \n",
       "10                 2        1                                         0    3   \n",
       "12                 2        0                                         0    1   \n",
       "\n",
       "    Week Day  Month  Day  Year  \n",
       "1          7     12    1  2019  \n",
       "5          1     12    2  2019  \n",
       "6          1     12    2  2019  \n",
       "10         2     12    3  2019  \n",
       "12         3     12    4  2019  "
      ]
     },
     "execution_count": 316,
     "metadata": {},
     "output_type": "execute_result"
    }
   ],
   "source": [
    "df.head()"
   ]
  },
  {
   "cell_type": "code",
   "execution_count": 317,
   "metadata": {},
   "outputs": [
    {
     "data": {
      "text/plain": [
       "Type                                        0\n",
       "Date                                        0\n",
       "Latitude                                    0\n",
       "Longitude                                   0\n",
       "Age range                                   0\n",
       "Object of search                            0\n",
       "Outcome                                     0\n",
       "Removal of more than just outer clothing    0\n",
       "Time                                        0\n",
       "Week Day                                    0\n",
       "Month                                       0\n",
       "Day                                         0\n",
       "Year                                        0\n",
       "dtype: int64"
      ]
     },
     "execution_count": 317,
     "metadata": {},
     "output_type": "execute_result"
    }
   ],
   "source": [
    "# check nan values\n",
    "df.isnull().sum()"
   ]
  },
  {
   "cell_type": "code",
   "execution_count": 318,
   "metadata": {},
   "outputs": [
    {
     "data": {
      "text/plain": [
       "False"
      ]
     },
     "execution_count": 318,
     "metadata": {},
     "output_type": "execute_result"
    }
   ],
   "source": [
    "# check for any missing values\n",
    "df.isnull().values.any()"
   ]
  },
  {
   "cell_type": "code",
   "execution_count": 319,
   "metadata": {},
   "outputs": [
    {
     "name": "stdout",
     "output_type": "stream",
     "text": [
      "<class 'pandas.core.frame.DataFrame'>\n",
      "Int64Index: 2082 entries, 1 to 8031\n",
      "Data columns (total 13 columns):\n",
      " #   Column                                    Non-Null Count  Dtype   \n",
      "---  ------                                    --------------  -----   \n",
      " 0   Type                                      2082 non-null   int32   \n",
      " 1   Date                                      2082 non-null   object  \n",
      " 2   Latitude                                  2082 non-null   float64 \n",
      " 3   Longitude                                 2082 non-null   float64 \n",
      " 4   Age range                                 2082 non-null   int32   \n",
      " 5   Object of search                          2082 non-null   int32   \n",
      " 6   Outcome                                   2082 non-null   int32   \n",
      " 7   Removal of more than just outer clothing  2082 non-null   int64   \n",
      " 8   Time                                      2082 non-null   category\n",
      " 9   Week Day                                  2082 non-null   int64   \n",
      " 10  Month                                     2082 non-null   int64   \n",
      " 11  Day                                       2082 non-null   int64   \n",
      " 12  Year                                      2082 non-null   int64   \n",
      "dtypes: category(1), float64(2), int32(4), int64(5), object(1)\n",
      "memory usage: 181.2+ KB\n"
     ]
    }
   ],
   "source": [
    "df.info()"
   ]
  },
  {
   "cell_type": "code",
   "execution_count": 320,
   "metadata": {},
   "outputs": [],
   "source": [
    "# drop date column\n",
    "df.drop(['Date'], axis=1, inplace=True)"
   ]
  },
  {
   "cell_type": "code",
   "execution_count": 321,
   "metadata": {},
   "outputs": [],
   "source": [
    "# conver all the type to float 64\n",
    "df = df.astype('float64')"
   ]
  },
  {
   "attachments": {},
   "cell_type": "markdown",
   "metadata": {},
   "source": [
    "# Define target & lable"
   ]
  },
  {
   "cell_type": "code",
   "execution_count": 322,
   "metadata": {},
   "outputs": [],
   "source": [
    "# define X without Gender ，Self-defined ethnicity，Officer-defined ethnicity\n",
    "X = df"
   ]
  },
  {
   "cell_type": "code",
   "execution_count": 323,
   "metadata": {},
   "outputs": [],
   "source": [
    "# y = latitude, longitude and time\n",
    "y = df[['Latitude', 'Longitude', 'Time']]"
   ]
  },
  {
   "cell_type": "code",
   "execution_count": 324,
   "metadata": {},
   "outputs": [],
   "source": [
    "#  y =  the next row of the target variable with latitude, longitude, time difference \n",
    "y = y.shift(-1) "
   ]
  },
  {
   "cell_type": "code",
   "execution_count": 325,
   "metadata": {},
   "outputs": [
    {
     "data": {
      "text/html": [
       "<div>\n",
       "<style scoped>\n",
       "    .dataframe tbody tr th:only-of-type {\n",
       "        vertical-align: middle;\n",
       "    }\n",
       "\n",
       "    .dataframe tbody tr th {\n",
       "        vertical-align: top;\n",
       "    }\n",
       "\n",
       "    .dataframe thead th {\n",
       "        text-align: right;\n",
       "    }\n",
       "</style>\n",
       "<table border=\"1\" class=\"dataframe\">\n",
       "  <thead>\n",
       "    <tr style=\"text-align: right;\">\n",
       "      <th></th>\n",
       "      <th>Latitude</th>\n",
       "      <th>Longitude</th>\n",
       "      <th>Time</th>\n",
       "    </tr>\n",
       "  </thead>\n",
       "  <tbody>\n",
       "    <tr>\n",
       "      <th>1</th>\n",
       "      <td>51.511625</td>\n",
       "      <td>-0.081549</td>\n",
       "      <td>1.0</td>\n",
       "    </tr>\n",
       "    <tr>\n",
       "      <th>5</th>\n",
       "      <td>51.509775</td>\n",
       "      <td>-0.085014</td>\n",
       "      <td>2.0</td>\n",
       "    </tr>\n",
       "    <tr>\n",
       "      <th>6</th>\n",
       "      <td>51.517431</td>\n",
       "      <td>-0.082458</td>\n",
       "      <td>3.0</td>\n",
       "    </tr>\n",
       "    <tr>\n",
       "      <th>10</th>\n",
       "      <td>51.516814</td>\n",
       "      <td>-0.081620</td>\n",
       "      <td>1.0</td>\n",
       "    </tr>\n",
       "    <tr>\n",
       "      <th>12</th>\n",
       "      <td>51.513114</td>\n",
       "      <td>-0.086272</td>\n",
       "      <td>1.0</td>\n",
       "    </tr>\n",
       "  </tbody>\n",
       "</table>\n",
       "</div>"
      ],
      "text/plain": [
       "     Latitude  Longitude  Time\n",
       "1   51.511625  -0.081549   1.0\n",
       "5   51.509775  -0.085014   2.0\n",
       "6   51.517431  -0.082458   3.0\n",
       "10  51.516814  -0.081620   1.0\n",
       "12  51.513114  -0.086272   1.0"
      ]
     },
     "execution_count": 325,
     "metadata": {},
     "output_type": "execute_result"
    }
   ],
   "source": [
    "y.head()"
   ]
  },
  {
   "cell_type": "code",
   "execution_count": 326,
   "metadata": {},
   "outputs": [
    {
     "data": {
      "text/plain": [
       "Latitude     1\n",
       "Longitude    1\n",
       "Time         1\n",
       "dtype: int64"
      ]
     },
     "execution_count": 326,
     "metadata": {},
     "output_type": "execute_result"
    }
   ],
   "source": [
    "# check if there are any missing values in the target variable\n",
    "y.isnull().sum()"
   ]
  },
  {
   "cell_type": "code",
   "execution_count": 327,
   "metadata": {},
   "outputs": [],
   "source": [
    "# fill the missing values in the target variable with the mean rounded to the nearest integer\n",
    "y = y.fillna(y.mean().round())"
   ]
  },
  {
   "cell_type": "code",
   "execution_count": 328,
   "metadata": {},
   "outputs": [
    {
     "data": {
      "text/plain": [
       "Latitude     0\n",
       "Longitude    0\n",
       "Time         0\n",
       "dtype: int64"
      ]
     },
     "execution_count": 328,
     "metadata": {},
     "output_type": "execute_result"
    }
   ],
   "source": [
    "# check if there are any missing values in the target variable\n",
    "y.isnull().sum()"
   ]
  },
  {
   "cell_type": "code",
   "execution_count": 329,
   "metadata": {},
   "outputs": [
    {
     "name": "stdout",
     "output_type": "stream",
     "text": [
      "(2082, 12)\n",
      "(2082, 3)\n"
     ]
    }
   ],
   "source": [
    "# check x and y shapes\n",
    "print(X.shape)\n",
    "print(y.shape)"
   ]
  },
  {
   "attachments": {},
   "cell_type": "markdown",
   "metadata": {},
   "source": [
    "# Scaling the dataset"
   ]
  },
  {
   "cell_type": "code",
   "execution_count": 330,
   "metadata": {},
   "outputs": [],
   "source": [
    "# scale the date using MinMaxScaler from sklearn for the Latitude, Longitude and Time difference columns \n",
    "from sklearn.preprocessing import MinMaxScaler\n",
    "scaler = MinMaxScaler()\n",
    "# only scale the X data frame\n",
    "X = scaler.fit_transform(X)"
   ]
  },
  {
   "attachments": {},
   "cell_type": "markdown",
   "metadata": {},
   "source": [
    "# Train and test split, 80% train and 20% test"
   ]
  },
  {
   "cell_type": "code",
   "execution_count": 331,
   "metadata": {},
   "outputs": [],
   "source": [
    "# split the data into training and testing sets\n",
    "from sklearn.model_selection import train_test_split\n",
    "X_train, X_test, y_train, y_test = train_test_split(X, y, test_size=0.2, random_state=42)"
   ]
  },
  {
   "cell_type": "code",
   "execution_count": 332,
   "metadata": {},
   "outputs": [],
   "source": [
    "# import the Keras libraries and packages\n",
    "from keras.models import Sequential\n",
    "from keras.layers import Dense\n",
    "from keras.layers import LSTM\n",
    "from keras.layers import Dropout\n"
   ]
  },
  {
   "cell_type": "code",
   "execution_count": 333,
   "metadata": {},
   "outputs": [
    {
     "name": "stdout",
     "output_type": "stream",
     "text": [
      "(1665, 12)\n",
      "(1665, 3)\n",
      "(417, 12)\n",
      "(417, 3)\n"
     ]
    }
   ],
   "source": [
    "# check for shape\n",
    "print(X_train.shape)\n",
    "print(y_train.shape)\n",
    "\n",
    "print(X_test.shape)\n",
    "print(y_test.shape)"
   ]
  },
  {
   "attachments": {},
   "cell_type": "markdown",
   "metadata": {},
   "source": [
    "-------------------------"
   ]
  },
  {
   "attachments": {},
   "cell_type": "markdown",
   "metadata": {},
   "source": [
    "# Set Baseline linear regression model"
   ]
  },
  {
   "cell_type": "code",
   "execution_count": 334,
   "metadata": {},
   "outputs": [],
   "source": [
    "# import libraries for the model\n",
    "from sklearn.linear_model import LinearRegression\n",
    "# calculate the mean squared error as the evaluation metric\n",
    "from sklearn.metrics import mean_squared_error\n",
    "# create grid search for the model\n",
    "from sklearn.model_selection import GridSearchCV"
   ]
  },
  {
   "cell_type": "code",
   "execution_count": 335,
   "metadata": {},
   "outputs": [],
   "source": [
    "# define grid search parameters\n",
    "parameters = {'fit_intercept':[True,False],  # fit_intercept: A Boolean indicating whether or not to calculate the intercept for the model. Default is True.\n",
    "              'copy_X':[True, False], # copy_X: A Boolean indicating whether or not to copy the input features before fitting the model. Default is True.\n",
    "              'n_jobs':[-1] # n_jobs: The number of jobs to use for the computation. This will only provide speedup for n_targets > 1 and sufficient large problems. None means 1 unless in a joblib.parallel_backend context. -1 means using all processors.\n",
    "              } "
   ]
  },
  {
   "cell_type": "code",
   "execution_count": 336,
   "metadata": {},
   "outputs": [],
   "source": [
    "LinearRegression_gridSearch = GridSearchCV(LinearRegression(), # estimator: This is the estimator object on which GridSearchCV will perform parameter tuning. It should be a scikit-learn estimator object\n",
    "                                           parameters, # param_grid: This is the dictionary with parameters names (string) as keys and lists of parameter settings to try as values.\n",
    "                                           scoring='neg_mean_squared_error', # scoring: This is the scoring method to evaluate the predictions on the test set. The default scoring option used is r2.\n",
    "                                           cv=5, # cv: This is the number of folds to be used for cross validation. The default value is 5.\n",
    "                                           n_jobs=-1, # n_jobs: This is the number of jobs to run in parallel. None means 1 unless in a joblib.parallel_backend context. -1 means using all processors.\n",
    "                                           verbose=1 # verbose: Controls the verbosity: the higher, the more messages. The default value is 0.\n",
    "                                           )\n"
   ]
  },
  {
   "cell_type": "code",
   "execution_count": 337,
   "metadata": {},
   "outputs": [
    {
     "name": "stdout",
     "output_type": "stream",
     "text": [
      "Fitting 5 folds for each of 4 candidates, totalling 20 fits\n"
     ]
    },
    {
     "data": {
      "text/html": [
       "<style>#sk-container-id-4 {color: black;background-color: white;}#sk-container-id-4 pre{padding: 0;}#sk-container-id-4 div.sk-toggleable {background-color: white;}#sk-container-id-4 label.sk-toggleable__label {cursor: pointer;display: block;width: 100%;margin-bottom: 0;padding: 0.3em;box-sizing: border-box;text-align: center;}#sk-container-id-4 label.sk-toggleable__label-arrow:before {content: \"▸\";float: left;margin-right: 0.25em;color: #696969;}#sk-container-id-4 label.sk-toggleable__label-arrow:hover:before {color: black;}#sk-container-id-4 div.sk-estimator:hover label.sk-toggleable__label-arrow:before {color: black;}#sk-container-id-4 div.sk-toggleable__content {max-height: 0;max-width: 0;overflow: hidden;text-align: left;background-color: #f0f8ff;}#sk-container-id-4 div.sk-toggleable__content pre {margin: 0.2em;color: black;border-radius: 0.25em;background-color: #f0f8ff;}#sk-container-id-4 input.sk-toggleable__control:checked~div.sk-toggleable__content {max-height: 200px;max-width: 100%;overflow: auto;}#sk-container-id-4 input.sk-toggleable__control:checked~label.sk-toggleable__label-arrow:before {content: \"▾\";}#sk-container-id-4 div.sk-estimator input.sk-toggleable__control:checked~label.sk-toggleable__label {background-color: #d4ebff;}#sk-container-id-4 div.sk-label input.sk-toggleable__control:checked~label.sk-toggleable__label {background-color: #d4ebff;}#sk-container-id-4 input.sk-hidden--visually {border: 0;clip: rect(1px 1px 1px 1px);clip: rect(1px, 1px, 1px, 1px);height: 1px;margin: -1px;overflow: hidden;padding: 0;position: absolute;width: 1px;}#sk-container-id-4 div.sk-estimator {font-family: monospace;background-color: #f0f8ff;border: 1px dotted black;border-radius: 0.25em;box-sizing: border-box;margin-bottom: 0.5em;}#sk-container-id-4 div.sk-estimator:hover {background-color: #d4ebff;}#sk-container-id-4 div.sk-parallel-item::after {content: \"\";width: 100%;border-bottom: 1px solid gray;flex-grow: 1;}#sk-container-id-4 div.sk-label:hover label.sk-toggleable__label {background-color: #d4ebff;}#sk-container-id-4 div.sk-serial::before {content: \"\";position: absolute;border-left: 1px solid gray;box-sizing: border-box;top: 0;bottom: 0;left: 50%;z-index: 0;}#sk-container-id-4 div.sk-serial {display: flex;flex-direction: column;align-items: center;background-color: white;padding-right: 0.2em;padding-left: 0.2em;position: relative;}#sk-container-id-4 div.sk-item {position: relative;z-index: 1;}#sk-container-id-4 div.sk-parallel {display: flex;align-items: stretch;justify-content: center;background-color: white;position: relative;}#sk-container-id-4 div.sk-item::before, #sk-container-id-4 div.sk-parallel-item::before {content: \"\";position: absolute;border-left: 1px solid gray;box-sizing: border-box;top: 0;bottom: 0;left: 50%;z-index: -1;}#sk-container-id-4 div.sk-parallel-item {display: flex;flex-direction: column;z-index: 1;position: relative;background-color: white;}#sk-container-id-4 div.sk-parallel-item:first-child::after {align-self: flex-end;width: 50%;}#sk-container-id-4 div.sk-parallel-item:last-child::after {align-self: flex-start;width: 50%;}#sk-container-id-4 div.sk-parallel-item:only-child::after {width: 0;}#sk-container-id-4 div.sk-dashed-wrapped {border: 1px dashed gray;margin: 0 0.4em 0.5em 0.4em;box-sizing: border-box;padding-bottom: 0.4em;background-color: white;}#sk-container-id-4 div.sk-label label {font-family: monospace;font-weight: bold;display: inline-block;line-height: 1.2em;}#sk-container-id-4 div.sk-label-container {text-align: center;}#sk-container-id-4 div.sk-container {/* jupyter's `normalize.less` sets `[hidden] { display: none; }` but bootstrap.min.css set `[hidden] { display: none !important; }` so we also need the `!important` here to be able to override the default hidden behavior on the sphinx rendered scikit-learn.org. See: https://github.com/scikit-learn/scikit-learn/issues/21755 */display: inline-block !important;position: relative;}#sk-container-id-4 div.sk-text-repr-fallback {display: none;}</style><div id=\"sk-container-id-4\" class=\"sk-top-container\"><div class=\"sk-text-repr-fallback\"><pre>GridSearchCV(cv=5, estimator=LinearRegression(), n_jobs=-1,\n",
       "             param_grid={&#x27;copy_X&#x27;: [True, False],\n",
       "                         &#x27;fit_intercept&#x27;: [True, False], &#x27;n_jobs&#x27;: [-1]},\n",
       "             scoring=&#x27;neg_mean_squared_error&#x27;, verbose=1)</pre><b>In a Jupyter environment, please rerun this cell to show the HTML representation or trust the notebook. <br />On GitHub, the HTML representation is unable to render, please try loading this page with nbviewer.org.</b></div><div class=\"sk-container\" hidden><div class=\"sk-item sk-dashed-wrapped\"><div class=\"sk-label-container\"><div class=\"sk-label sk-toggleable\"><input class=\"sk-toggleable__control sk-hidden--visually\" id=\"sk-estimator-id-8\" type=\"checkbox\" ><label for=\"sk-estimator-id-8\" class=\"sk-toggleable__label sk-toggleable__label-arrow\">GridSearchCV</label><div class=\"sk-toggleable__content\"><pre>GridSearchCV(cv=5, estimator=LinearRegression(), n_jobs=-1,\n",
       "             param_grid={&#x27;copy_X&#x27;: [True, False],\n",
       "                         &#x27;fit_intercept&#x27;: [True, False], &#x27;n_jobs&#x27;: [-1]},\n",
       "             scoring=&#x27;neg_mean_squared_error&#x27;, verbose=1)</pre></div></div></div><div class=\"sk-parallel\"><div class=\"sk-parallel-item\"><div class=\"sk-item\"><div class=\"sk-label-container\"><div class=\"sk-label sk-toggleable\"><input class=\"sk-toggleable__control sk-hidden--visually\" id=\"sk-estimator-id-9\" type=\"checkbox\" ><label for=\"sk-estimator-id-9\" class=\"sk-toggleable__label sk-toggleable__label-arrow\">estimator: LinearRegression</label><div class=\"sk-toggleable__content\"><pre>LinearRegression()</pre></div></div></div><div class=\"sk-serial\"><div class=\"sk-item\"><div class=\"sk-estimator sk-toggleable\"><input class=\"sk-toggleable__control sk-hidden--visually\" id=\"sk-estimator-id-10\" type=\"checkbox\" ><label for=\"sk-estimator-id-10\" class=\"sk-toggleable__label sk-toggleable__label-arrow\">LinearRegression</label><div class=\"sk-toggleable__content\"><pre>LinearRegression()</pre></div></div></div></div></div></div></div></div></div></div>"
      ],
      "text/plain": [
       "GridSearchCV(cv=5, estimator=LinearRegression(), n_jobs=-1,\n",
       "             param_grid={'copy_X': [True, False],\n",
       "                         'fit_intercept': [True, False], 'n_jobs': [-1]},\n",
       "             scoring='neg_mean_squared_error', verbose=1)"
      ]
     },
     "execution_count": 337,
     "metadata": {},
     "output_type": "execute_result"
    }
   ],
   "source": [
    "# fit the model\n",
    "LinearRegression_gridSearch.fit(X_train, y_train)"
   ]
  },
  {
   "cell_type": "code",
   "execution_count": 338,
   "metadata": {},
   "outputs": [
    {
     "data": {
      "text/plain": [
       "0.4395310867732686"
      ]
     },
     "execution_count": 338,
     "metadata": {},
     "output_type": "execute_result"
    }
   ],
   "source": [
    "# show the best parameters\n",
    "LinearRegression_gridSearch.best_params_\n",
    "# show the best score\n",
    "-LinearRegression_gridSearch.best_score_"
   ]
  },
  {
   "cell_type": "code",
   "execution_count": 339,
   "metadata": {},
   "outputs": [],
   "source": [
    "# create a linear regression model with the best parameters\n",
    "LinearRegression_model = LinearRegression_gridSearch.best_estimator_"
   ]
  },
  {
   "cell_type": "code",
   "execution_count": 340,
   "metadata": {},
   "outputs": [
    {
     "data": {
      "text/html": [
       "<style>#sk-container-id-5 {color: black;background-color: white;}#sk-container-id-5 pre{padding: 0;}#sk-container-id-5 div.sk-toggleable {background-color: white;}#sk-container-id-5 label.sk-toggleable__label {cursor: pointer;display: block;width: 100%;margin-bottom: 0;padding: 0.3em;box-sizing: border-box;text-align: center;}#sk-container-id-5 label.sk-toggleable__label-arrow:before {content: \"▸\";float: left;margin-right: 0.25em;color: #696969;}#sk-container-id-5 label.sk-toggleable__label-arrow:hover:before {color: black;}#sk-container-id-5 div.sk-estimator:hover label.sk-toggleable__label-arrow:before {color: black;}#sk-container-id-5 div.sk-toggleable__content {max-height: 0;max-width: 0;overflow: hidden;text-align: left;background-color: #f0f8ff;}#sk-container-id-5 div.sk-toggleable__content pre {margin: 0.2em;color: black;border-radius: 0.25em;background-color: #f0f8ff;}#sk-container-id-5 input.sk-toggleable__control:checked~div.sk-toggleable__content {max-height: 200px;max-width: 100%;overflow: auto;}#sk-container-id-5 input.sk-toggleable__control:checked~label.sk-toggleable__label-arrow:before {content: \"▾\";}#sk-container-id-5 div.sk-estimator input.sk-toggleable__control:checked~label.sk-toggleable__label {background-color: #d4ebff;}#sk-container-id-5 div.sk-label input.sk-toggleable__control:checked~label.sk-toggleable__label {background-color: #d4ebff;}#sk-container-id-5 input.sk-hidden--visually {border: 0;clip: rect(1px 1px 1px 1px);clip: rect(1px, 1px, 1px, 1px);height: 1px;margin: -1px;overflow: hidden;padding: 0;position: absolute;width: 1px;}#sk-container-id-5 div.sk-estimator {font-family: monospace;background-color: #f0f8ff;border: 1px dotted black;border-radius: 0.25em;box-sizing: border-box;margin-bottom: 0.5em;}#sk-container-id-5 div.sk-estimator:hover {background-color: #d4ebff;}#sk-container-id-5 div.sk-parallel-item::after {content: \"\";width: 100%;border-bottom: 1px solid gray;flex-grow: 1;}#sk-container-id-5 div.sk-label:hover label.sk-toggleable__label {background-color: #d4ebff;}#sk-container-id-5 div.sk-serial::before {content: \"\";position: absolute;border-left: 1px solid gray;box-sizing: border-box;top: 0;bottom: 0;left: 50%;z-index: 0;}#sk-container-id-5 div.sk-serial {display: flex;flex-direction: column;align-items: center;background-color: white;padding-right: 0.2em;padding-left: 0.2em;position: relative;}#sk-container-id-5 div.sk-item {position: relative;z-index: 1;}#sk-container-id-5 div.sk-parallel {display: flex;align-items: stretch;justify-content: center;background-color: white;position: relative;}#sk-container-id-5 div.sk-item::before, #sk-container-id-5 div.sk-parallel-item::before {content: \"\";position: absolute;border-left: 1px solid gray;box-sizing: border-box;top: 0;bottom: 0;left: 50%;z-index: -1;}#sk-container-id-5 div.sk-parallel-item {display: flex;flex-direction: column;z-index: 1;position: relative;background-color: white;}#sk-container-id-5 div.sk-parallel-item:first-child::after {align-self: flex-end;width: 50%;}#sk-container-id-5 div.sk-parallel-item:last-child::after {align-self: flex-start;width: 50%;}#sk-container-id-5 div.sk-parallel-item:only-child::after {width: 0;}#sk-container-id-5 div.sk-dashed-wrapped {border: 1px dashed gray;margin: 0 0.4em 0.5em 0.4em;box-sizing: border-box;padding-bottom: 0.4em;background-color: white;}#sk-container-id-5 div.sk-label label {font-family: monospace;font-weight: bold;display: inline-block;line-height: 1.2em;}#sk-container-id-5 div.sk-label-container {text-align: center;}#sk-container-id-5 div.sk-container {/* jupyter's `normalize.less` sets `[hidden] { display: none; }` but bootstrap.min.css set `[hidden] { display: none !important; }` so we also need the `!important` here to be able to override the default hidden behavior on the sphinx rendered scikit-learn.org. See: https://github.com/scikit-learn/scikit-learn/issues/21755 */display: inline-block !important;position: relative;}#sk-container-id-5 div.sk-text-repr-fallback {display: none;}</style><div id=\"sk-container-id-5\" class=\"sk-top-container\"><div class=\"sk-text-repr-fallback\"><pre>LinearRegression(n_jobs=-1)</pre><b>In a Jupyter environment, please rerun this cell to show the HTML representation or trust the notebook. <br />On GitHub, the HTML representation is unable to render, please try loading this page with nbviewer.org.</b></div><div class=\"sk-container\" hidden><div class=\"sk-item\"><div class=\"sk-estimator sk-toggleable\"><input class=\"sk-toggleable__control sk-hidden--visually\" id=\"sk-estimator-id-11\" type=\"checkbox\" checked><label for=\"sk-estimator-id-11\" class=\"sk-toggleable__label sk-toggleable__label-arrow\">LinearRegression</label><div class=\"sk-toggleable__content\"><pre>LinearRegression(n_jobs=-1)</pre></div></div></div></div></div>"
      ],
      "text/plain": [
       "LinearRegression(n_jobs=-1)"
      ]
     },
     "execution_count": 340,
     "metadata": {},
     "output_type": "execute_result"
    }
   ],
   "source": [
    "# fit the model\n",
    "LinearRegression_model.fit(X_train, y_train)"
   ]
  },
  {
   "cell_type": "code",
   "execution_count": 341,
   "metadata": {},
   "outputs": [
    {
     "name": "stdout",
     "output_type": "stream",
     "text": [
      "predicted results: [[51.52051459 -0.08507989  2.21394395]\n",
      " [51.51442784 -0.08816599  1.60570072]\n",
      " [51.51512838 -0.09082142  2.47954565]\n",
      " [51.51435928 -0.08522188  1.57855185]\n",
      " [51.51275285 -0.09010269  1.98255017]]\n",
      "actual results: [[51.517244 -0.080376  2.      ]\n",
      " [51.517032 -0.089451  3.      ]\n",
      " [51.522615 -0.077253  2.      ]\n",
      " [51.516508 -0.079398  2.      ]\n",
      " [51.515606 -0.094094  1.      ]]\n"
     ]
    }
   ],
   "source": [
    "# predict the test data\n",
    "y_pred = LinearRegression_model.predict(X_test)\n",
    "# show the first 5 predictions\n",
    "print(\"predicted results:\", y_pred[:5])\n",
    "# show the first 5 actual results\n",
    "print(\"actual results:\", y_test[:5].values)"
   ]
  },
  {
   "cell_type": "code",
   "execution_count": 342,
   "metadata": {},
   "outputs": [
    {
     "name": "stdout",
     "output_type": "stream",
     "text": [
      "Mean squared error:  0.3950096714793609\n"
     ]
    }
   ],
   "source": [
    "# calculate the mean squared error\n",
    "mse = mean_squared_error(y_test, y_pred)\n",
    "# show the mean squared error in 10f format\n",
    "print(\"Mean squared error: \", mse)"
   ]
  },
  {
   "attachments": {},
   "cell_type": "markdown",
   "metadata": {},
   "source": [
    "# Check the learning curve"
   ]
  },
  {
   "cell_type": "code",
   "execution_count": 343,
   "metadata": {},
   "outputs": [
    {
     "data": {
      "image/png": "[encoded data removed]",
      "text/plain": [
       "<Figure size 640x480 with 1 Axes>"
      ]
     },
     "metadata": {},
     "output_type": "display_data"
    }
   ],
   "source": [
    "import numpy as np\n",
    "import matplotlib.pyplot as plt\n",
    "from sklearn.model_selection import learning_curve\n",
    "\n",
    "train_sizes, train_scores, test_scores = learning_curve(estimator=LinearRegression_model, X=X_train, y=y_train,\n",
    "                                                        train_sizes=np.linspace(0.1, 1.0, 10),\n",
    "                                                        scoring='neg_mean_squared_error', cv=5)\n",
    "\n",
    "train_mean = -np.mean(train_scores, axis=1)\n",
    "train_std = np.std(train_scores, axis=1)\n",
    "test_mean = -np.mean(test_scores, axis=1)\n",
    "test_std = np.std(test_scores, axis=1)\n",
    "\n",
    "plt.plot(train_sizes, train_mean, color='blue', marker='o', markersize=5, label='training error')\n",
    "plt.fill_between(train_sizes, train_mean - train_std, train_mean + train_std, alpha=0.15, color='blue')\n",
    "plt.plot(train_sizes, test_mean, color='green', linestyle='--', marker='s', markersize=5, label='validation error')\n",
    "plt.fill_between(train_sizes, test_mean - test_std, test_mean + test_std, alpha=0.15, color='green')\n",
    "plt.grid()\n",
    "plt.xlabel('Number of training examples')\n",
    "plt.ylabel('Negative mean squared error')\n",
    "plt.legend(loc='best')\n",
    "plt.ylim()\n",
    "plt.show()\n"
   ]
  },
  {
   "attachments": {},
   "cell_type": "markdown",
   "metadata": {},
   "source": [
    "--------------------------------------------"
   ]
  },
  {
   "attachments": {},
   "cell_type": "markdown",
   "metadata": {},
   "source": [
    "# Random Forest Regressor"
   ]
  },
  {
   "cell_type": "code",
   "execution_count": 344,
   "metadata": {},
   "outputs": [],
   "source": [
    "# import libraries for the model\n",
    "from sklearn.ensemble import RandomForestRegressor\n",
    "from sklearn.metrics import mean_squared_error\n",
    "from sklearn.model_selection import GridSearchCV"
   ]
  },
  {
   "cell_type": "code",
   "execution_count": 345,
   "metadata": {},
   "outputs": [],
   "source": [
    "# create random forest regressor model with a random state of 42\n",
    "RandomForestRegressor_model = RandomForestRegressor(random_state=42)"
   ]
  },
  {
   "cell_type": "code",
   "execution_count": 346,
   "metadata": {},
   "outputs": [],
   "source": [
    "parameters = {'n_estimators':[100, 200, 300], # n_estimators: The number of trees in the forest.\n",
    "              'max_depth':[5, 10, 15], # max_depth: The maximum depth of the tree.\n",
    "              'min_samples_split':[2, 5, 10], # min_samples_split: The minimum number of samples required to split an internal node.\n",
    "              'min_samples_leaf':[1, 2, 5, ], # min_samples_leaf: The minimum number of samples required to be at a leaf node.\n",
    "              'max_features':['auto', 'sqrt', 'log2'] # max_features: The number of features to consider when looking for the best split.\n",
    "              }"
   ]
  },
  {
   "cell_type": "code",
   "execution_count": 347,
   "metadata": {},
   "outputs": [],
   "source": [
    "# grid search for the model\n",
    "RandomForestRegressor_gridSearch = GridSearchCV(RandomForestRegressor_model, # estimator: This is the estimator object on which GridSearchCV will perform parameter tuning. It should be a scikit-learn estimator object\n",
    "                                                parameters, # param_grid: This is the dictionary with parameters names (string) as keys and lists of parameter settings to try as values.\n",
    "                                                scoring='neg_mean_squared_error', # scoring: This is the scoring method to evaluate the predictions on the test set. The default scoring option used is r2.\n",
    "                                                cv=5, # cv: This is the number of folds to be used for cross validation. The default value is 5.\n",
    "                                                n_jobs=-1, # n_jobs: This is the number of jobs to run in parallel. None means 1 unless in a joblib.parallel_backend context. -1 means using all processors.\n",
    "                                                verbose=1 # verbose: Controls the verbosity: the higher, the more messages. The default value is 0.\n",
    "                                                )"
   ]
  },
  {
   "cell_type": "code",
   "execution_count": 348,
   "metadata": {},
   "outputs": [
    {
     "name": "stdout",
     "output_type": "stream",
     "text": [
      "Fitting 5 folds for each of 243 candidates, totalling 1215 fits\n"
     ]
    },
    {
     "name": "stderr",
     "output_type": "stream",
     "text": [
      "c:\\Users\\admin\\anaconda3\\envs\\ai\\lib\\site-packages\\sklearn\\ensemble\\_forest.py:413: FutureWarning: `max_features='auto'` has been deprecated in 1.1 and will be removed in 1.3. To keep the past behaviour, explicitly set `max_features=1.0` or remove this parameter as it is also the default value for RandomForestRegressors and ExtraTreesRegressors.\n",
      "  warn(\n"
     ]
    },
    {
     "data": {
      "text/html": [
       "<style>#sk-container-id-6 {color: black;background-color: white;}#sk-container-id-6 pre{padding: 0;}#sk-container-id-6 div.sk-toggleable {background-color: white;}#sk-container-id-6 label.sk-toggleable__label {cursor: pointer;display: block;width: 100%;margin-bottom: 0;padding: 0.3em;box-sizing: border-box;text-align: center;}#sk-container-id-6 label.sk-toggleable__label-arrow:before {content: \"▸\";float: left;margin-right: 0.25em;color: #696969;}#sk-container-id-6 label.sk-toggleable__label-arrow:hover:before {color: black;}#sk-container-id-6 div.sk-estimator:hover label.sk-toggleable__label-arrow:before {color: black;}#sk-container-id-6 div.sk-toggleable__content {max-height: 0;max-width: 0;overflow: hidden;text-align: left;background-color: #f0f8ff;}#sk-container-id-6 div.sk-toggleable__content pre {margin: 0.2em;color: black;border-radius: 0.25em;background-color: #f0f8ff;}#sk-container-id-6 input.sk-toggleable__control:checked~div.sk-toggleable__content {max-height: 200px;max-width: 100%;overflow: auto;}#sk-container-id-6 input.sk-toggleable__control:checked~label.sk-toggleable__label-arrow:before {content: \"▾\";}#sk-container-id-6 div.sk-estimator input.sk-toggleable__control:checked~label.sk-toggleable__label {background-color: #d4ebff;}#sk-container-id-6 div.sk-label input.sk-toggleable__control:checked~label.sk-toggleable__label {background-color: #d4ebff;}#sk-container-id-6 input.sk-hidden--visually {border: 0;clip: rect(1px 1px 1px 1px);clip: rect(1px, 1px, 1px, 1px);height: 1px;margin: -1px;overflow: hidden;padding: 0;position: absolute;width: 1px;}#sk-container-id-6 div.sk-estimator {font-family: monospace;background-color: #f0f8ff;border: 1px dotted black;border-radius: 0.25em;box-sizing: border-box;margin-bottom: 0.5em;}#sk-container-id-6 div.sk-estimator:hover {background-color: #d4ebff;}#sk-container-id-6 div.sk-parallel-item::after {content: \"\";width: 100%;border-bottom: 1px solid gray;flex-grow: 1;}#sk-container-id-6 div.sk-label:hover label.sk-toggleable__label {background-color: #d4ebff;}#sk-container-id-6 div.sk-serial::before {content: \"\";position: absolute;border-left: 1px solid gray;box-sizing: border-box;top: 0;bottom: 0;left: 50%;z-index: 0;}#sk-container-id-6 div.sk-serial {display: flex;flex-direction: column;align-items: center;background-color: white;padding-right: 0.2em;padding-left: 0.2em;position: relative;}#sk-container-id-6 div.sk-item {position: relative;z-index: 1;}#sk-container-id-6 div.sk-parallel {display: flex;align-items: stretch;justify-content: center;background-color: white;position: relative;}#sk-container-id-6 div.sk-item::before, #sk-container-id-6 div.sk-parallel-item::before {content: \"\";position: absolute;border-left: 1px solid gray;box-sizing: border-box;top: 0;bottom: 0;left: 50%;z-index: -1;}#sk-container-id-6 div.sk-parallel-item {display: flex;flex-direction: column;z-index: 1;position: relative;background-color: white;}#sk-container-id-6 div.sk-parallel-item:first-child::after {align-self: flex-end;width: 50%;}#sk-container-id-6 div.sk-parallel-item:last-child::after {align-self: flex-start;width: 50%;}#sk-container-id-6 div.sk-parallel-item:only-child::after {width: 0;}#sk-container-id-6 div.sk-dashed-wrapped {border: 1px dashed gray;margin: 0 0.4em 0.5em 0.4em;box-sizing: border-box;padding-bottom: 0.4em;background-color: white;}#sk-container-id-6 div.sk-label label {font-family: monospace;font-weight: bold;display: inline-block;line-height: 1.2em;}#sk-container-id-6 div.sk-label-container {text-align: center;}#sk-container-id-6 div.sk-container {/* jupyter's `normalize.less` sets `[hidden] { display: none; }` but bootstrap.min.css set `[hidden] { display: none !important; }` so we also need the `!important` here to be able to override the default hidden behavior on the sphinx rendered scikit-learn.org. See: https://github.com/scikit-learn/scikit-learn/issues/21755 */display: inline-block !important;position: relative;}#sk-container-id-6 div.sk-text-repr-fallback {display: none;}</style><div id=\"sk-container-id-6\" class=\"sk-top-container\"><div class=\"sk-text-repr-fallback\"><pre>GridSearchCV(cv=5, estimator=RandomForestRegressor(random_state=42), n_jobs=-1,\n",
       "             param_grid={&#x27;max_depth&#x27;: [5, 10, 15],\n",
       "                         &#x27;max_features&#x27;: [&#x27;auto&#x27;, &#x27;sqrt&#x27;, &#x27;log2&#x27;],\n",
       "                         &#x27;min_samples_leaf&#x27;: [1, 2, 5],\n",
       "                         &#x27;min_samples_split&#x27;: [2, 5, 10],\n",
       "                         &#x27;n_estimators&#x27;: [100, 200, 300]},\n",
       "             scoring=&#x27;neg_mean_squared_error&#x27;, verbose=1)</pre><b>In a Jupyter environment, please rerun this cell to show the HTML representation or trust the notebook. <br />On GitHub, the HTML representation is unable to render, please try loading this page with nbviewer.org.</b></div><div class=\"sk-container\" hidden><div class=\"sk-item sk-dashed-wrapped\"><div class=\"sk-label-container\"><div class=\"sk-label sk-toggleable\"><input class=\"sk-toggleable__control sk-hidden--visually\" id=\"sk-estimator-id-12\" type=\"checkbox\" ><label for=\"sk-estimator-id-12\" class=\"sk-toggleable__label sk-toggleable__label-arrow\">GridSearchCV</label><div class=\"sk-toggleable__content\"><pre>GridSearchCV(cv=5, estimator=RandomForestRegressor(random_state=42), n_jobs=-1,\n",
       "             param_grid={&#x27;max_depth&#x27;: [5, 10, 15],\n",
       "                         &#x27;max_features&#x27;: [&#x27;auto&#x27;, &#x27;sqrt&#x27;, &#x27;log2&#x27;],\n",
       "                         &#x27;min_samples_leaf&#x27;: [1, 2, 5],\n",
       "                         &#x27;min_samples_split&#x27;: [2, 5, 10],\n",
       "                         &#x27;n_estimators&#x27;: [100, 200, 300]},\n",
       "             scoring=&#x27;neg_mean_squared_error&#x27;, verbose=1)</pre></div></div></div><div class=\"sk-parallel\"><div class=\"sk-parallel-item\"><div class=\"sk-item\"><div class=\"sk-label-container\"><div class=\"sk-label sk-toggleable\"><input class=\"sk-toggleable__control sk-hidden--visually\" id=\"sk-estimator-id-13\" type=\"checkbox\" ><label for=\"sk-estimator-id-13\" class=\"sk-toggleable__label sk-toggleable__label-arrow\">estimator: RandomForestRegressor</label><div class=\"sk-toggleable__content\"><pre>RandomForestRegressor(random_state=42)</pre></div></div></div><div class=\"sk-serial\"><div class=\"sk-item\"><div class=\"sk-estimator sk-toggleable\"><input class=\"sk-toggleable__control sk-hidden--visually\" id=\"sk-estimator-id-14\" type=\"checkbox\" ><label for=\"sk-estimator-id-14\" class=\"sk-toggleable__label sk-toggleable__label-arrow\">RandomForestRegressor</label><div class=\"sk-toggleable__content\"><pre>RandomForestRegressor(random_state=42)</pre></div></div></div></div></div></div></div></div></div></div>"
      ],
      "text/plain": [
       "GridSearchCV(cv=5, estimator=RandomForestRegressor(random_state=42), n_jobs=-1,\n",
       "             param_grid={'max_depth': [5, 10, 15],\n",
       "                         'max_features': ['auto', 'sqrt', 'log2'],\n",
       "                         'min_samples_leaf': [1, 2, 5],\n",
       "                         'min_samples_split': [2, 5, 10],\n",
       "                         'n_estimators': [100, 200, 300]},\n",
       "             scoring='neg_mean_squared_error', verbose=1)"
      ]
     },
     "execution_count": 348,
     "metadata": {},
     "output_type": "execute_result"
    }
   ],
   "source": [
    "# fit the model\n",
    "RandomForestRegressor_gridSearch.fit(X_train, y_train)"
   ]
  },
  {
   "cell_type": "code",
   "execution_count": 349,
   "metadata": {},
   "outputs": [
    {
     "data": {
      "text/plain": [
       "0.380175056446277"
      ]
     },
     "execution_count": 349,
     "metadata": {},
     "output_type": "execute_result"
    }
   ],
   "source": [
    "# show the best parameters\n",
    "RandomForestRegressor_gridSearch.best_params_\n",
    "# show the best score\n",
    "-RandomForestRegressor_gridSearch.best_score_"
   ]
  },
  {
   "cell_type": "code",
   "execution_count": 350,
   "metadata": {},
   "outputs": [
    {
     "name": "stdout",
     "output_type": "stream",
     "text": [
      "predicted results: [[51.51450646 -0.08712152  2.07413895]\n",
      " [51.51417849 -0.08765541  1.62373253]\n",
      " [51.51446588 -0.08744433  2.46295801]\n",
      " [51.51467617 -0.08682819  2.23016356]\n",
      " [51.51468431 -0.08836984  2.21415783]]\n",
      "actual results: [[51.517244 -0.080376  2.      ]\n",
      " [51.517032 -0.089451  3.      ]\n",
      " [51.522615 -0.077253  2.      ]\n",
      " [51.516508 -0.079398  2.      ]\n",
      " [51.515606 -0.094094  1.      ]]\n",
      "Mean squared error:  0.3667001129026039\n"
     ]
    }
   ],
   "source": [
    "# predict the test data\n",
    "y_pred = RandomForestRegressor_gridSearch.predict(X_test)\n",
    "# show the first 5 predictions\n",
    "print(\"predicted results:\", y_pred[:5])\n",
    "# show the first 5 actual results\n",
    "print(\"actual results:\", y_test[:5].values)\n",
    "\n",
    "# calculate the mean squared error\n",
    "mse = mean_squared_error(y_test, y_pred)\n",
    "# show the mean squared error in 10f format\n",
    "print(\"Mean squared error: \", mse)"
   ]
  },
  {
   "cell_type": "code",
   "execution_count": 351,
   "metadata": {},
   "outputs": [
    {
     "data": {
      "image/png": "[encoded data removed]",
      "text/plain": [
       "<Figure size 640x480 with 1 Axes>"
      ]
     },
     "metadata": {},
     "output_type": "display_data"
    }
   ],
   "source": [
    "import numpy as np\n",
    "import matplotlib.pyplot as plt\n",
    "from sklearn.model_selection import learning_curve\n",
    "\n",
    "train_sizes, train_scores, test_scores = learning_curve(estimator=RandomForestRegressor_model, X=X_train, y=y_train,\n",
    "                                                        train_sizes=np.linspace(0.1, 1.0, 10),\n",
    "                                                        scoring='neg_mean_squared_error', cv=5)\n",
    "\n",
    "train_mean = -np.mean(train_scores, axis=1)\n",
    "train_std = np.std(train_scores, axis=1)\n",
    "test_mean = -np.mean(test_scores, axis=1)\n",
    "test_std = np.std(test_scores, axis=1)\n",
    "\n",
    "plt.plot(train_sizes, train_mean, color='blue', marker='o', markersize=5, label='training error')\n",
    "plt.fill_between(train_sizes, train_mean - train_std, train_mean + train_std, alpha=0.15, color='blue')\n",
    "plt.plot(train_sizes, test_mean, color='green', linestyle='--', marker='s', markersize=5, label='validation error')\n",
    "plt.fill_between(train_sizes, test_mean - test_std, test_mean + test_std, alpha=0.15, color='green')\n",
    "plt.grid()\n",
    "plt.xlabel('Number of training examples')\n",
    "plt.ylabel('Negative mean squared error')\n",
    "plt.legend(loc='best')\n",
    "plt.ylim()\n",
    "plt.show()\n"
   ]
  },
  {
   "attachments": {},
   "cell_type": "markdown",
   "metadata": {},
   "source": [
    "----------------------"
   ]
  },
  {
   "attachments": {},
   "cell_type": "markdown",
   "metadata": {},
   "source": [
    "# LSTM"
   ]
  },
  {
   "cell_type": "code",
   "execution_count": 352,
   "metadata": {},
   "outputs": [],
   "source": [
    "# define x as df\n",
    "X = df\n",
    "# define y as target Latitude, Longitude, Time\n",
    "y = df[['Latitude', 'Longitude', 'Time']]"
   ]
  },
  {
   "cell_type": "code",
   "execution_count": 353,
   "metadata": {},
   "outputs": [],
   "source": [
    "# apply min-max scaler\n",
    "from sklearn.preprocessing import MinMaxScaler\n",
    "scaler = MinMaxScaler(feature_range=(0, 1))\n",
    "X = scaler.fit_transform(X)"
   ]
  },
  {
   "cell_type": "code",
   "execution_count": 354,
   "metadata": {},
   "outputs": [],
   "source": [
    "np.set_printoptions(suppress=True)"
   ]
  },
  {
   "cell_type": "code",
   "execution_count": 355,
   "metadata": {},
   "outputs": [],
   "source": [
    "def create_time_windows(x, y, window_size, step_size):\n",
    "    X = []\n",
    "    y_new = []\n",
    "    for i in range(0, len(x) - window_size, step_size):\n",
    "        X.append(x[i:i + window_size])\n",
    "        y_new.append(y.iloc[i + window_size])\n",
    "    return np.array(X), np.array(y_new)\n"
   ]
  },
  {
   "cell_type": "code",
   "execution_count": 356,
   "metadata": {},
   "outputs": [],
   "source": [
    "window_size = 365\n",
    "step_size = 1\n",
    "\n",
    "X, y_new = create_time_windows(X, y, window_size, step_size)\n"
   ]
  },
  {
   "cell_type": "code",
   "execution_count": 357,
   "metadata": {},
   "outputs": [
    {
     "name": "stdout",
     "output_type": "stream",
     "text": [
      "(1717, 365, 12)\n",
      "(1717, 3)\n"
     ]
    }
   ],
   "source": [
    "# check both X and y_new shapes\n",
    "print(X.shape)\n",
    "print(y_new.shape)"
   ]
  },
  {
   "cell_type": "code",
   "execution_count": 358,
   "metadata": {},
   "outputs": [
    {
     "name": "stdout",
     "output_type": "stream",
     "text": [
      "(1717, 1, 3)\n"
     ]
    }
   ],
   "source": [
    "y_new_3d = y_new.reshape(y_new.shape[0], 1, y_new.shape[1])\n",
    "print(y_new_3d.shape)"
   ]
  },
  {
   "cell_type": "code",
   "execution_count": 359,
   "metadata": {},
   "outputs": [],
   "source": [
    "from sklearn.model_selection import train_test_split\n",
    "\n",
    "# split the data into training and testing sets\n",
    "X_train, X_test, y_train, y_test = train_test_split(X, y_new_3d, test_size=0.2, random_state=42)\n"
   ]
  },
  {
   "cell_type": "code",
   "execution_count": 360,
   "metadata": {},
   "outputs": [
    {
     "name": "stdout",
     "output_type": "stream",
     "text": [
      "(1373, 365, 12)\n",
      "(344, 365, 12)\n",
      "(1373, 1, 3)\n",
      "(344, 1, 3)\n"
     ]
    }
   ],
   "source": [
    "# print x_train shape\n",
    "print(X_train.shape)\n",
    "# print x_test shape\n",
    "print(X_test.shape)\n",
    "# print y_train shape\n",
    "print(y_train.shape)\n",
    "# print y_test shape\n",
    "print(y_test.shape)\n"
   ]
  },
  {
   "cell_type": "code",
   "execution_count": 361,
   "metadata": {},
   "outputs": [],
   "source": [
    "import numpy as np\n",
    "from keras.models import Sequential\n",
    "from keras.layers import LSTM, Dense\n",
    "from keras.wrappers.scikit_learn import KerasRegressor\n",
    "from sklearn.model_selection import GridSearchCV"
   ]
  },
  {
   "cell_type": "code",
   "execution_count": 362,
   "metadata": {},
   "outputs": [],
   "source": [
    "import numpy as np\n",
    "from tensorflow.keras.models import Sequential\n",
    "from tensorflow.keras.layers import Dense, LSTM\n",
    "from tensorflow.keras.wrappers.scikit_learn import KerasRegressor\n",
    "from sklearn.model_selection import GridSearchCV\n",
    "from sklearn.metrics import mean_squared_error, make_scorer\n",
    "from math import sqrt\n"
   ]
  },
  {
   "cell_type": "code",
   "execution_count": 363,
   "metadata": {},
   "outputs": [],
   "source": [
    "\n",
    "# define LSTM model\n",
    "def create_lstm_model(n_units):\n",
    "    model = Sequential()\n",
    "    model.add(LSTM(n_units, input_shape=(X_train.shape[1], X_train.shape[2])))\n",
    "    # flatten the output\n",
    "    model.add(Dense(3))\n",
    "    model.compile(loss='mse', optimizer='rmsprop')\n",
    "    return model\n"
   ]
  },
  {
   "cell_type": "code",
   "execution_count": 364,
   "metadata": {},
   "outputs": [],
   "source": [
    "def mse(y_true, y_pred):\n",
    "    return mean_squared_error(y_true.reshape(-1, 3), y_pred.reshape(-1, 3))\n"
   ]
  },
  {
   "cell_type": "code",
   "execution_count": 365,
   "metadata": {},
   "outputs": [
    {
     "name": "stderr",
     "output_type": "stream",
     "text": [
      "C:\\Users\\admin\\AppData\\Local\\Temp\\ipykernel_39180\\4164623522.py:2: DeprecationWarning: KerasRegressor is deprecated, use Sci-Keras (https://github.com/adriangb/scikeras) instead. See https://www.adriangb.com/scikeras/stable/migration.html for help migrating.\n",
      "  model = KerasRegressor(build_fn=create_lstm_model, verbose=1)\n"
     ]
    }
   ],
   "source": [
    "# create LSTM model\n",
    "model = KerasRegressor(build_fn=create_lstm_model, verbose=1)\n"
   ]
  },
  {
   "cell_type": "code",
   "execution_count": 369,
   "metadata": {},
   "outputs": [],
   "source": [
    "# define grid search parameters\n",
    "param_grid = {'n_units': [32, 64, 128],\n",
    "              'batch_size': [1, 16, 32],\n",
    "              'epochs': [3, 5, 10]\n",
    "              }\n"
   ]
  },
  {
   "cell_type": "code",
   "execution_count": 370,
   "metadata": {},
   "outputs": [],
   "source": [
    "\n",
    "# create scoring object\n",
    "scoring = make_scorer(mse, greater_is_better=False)"
   ]
  },
  {
   "cell_type": "code",
   "execution_count": 371,
   "metadata": {},
   "outputs": [
    {
     "name": "stdout",
     "output_type": "stream",
     "text": [
      "Epoch 1/3\n",
      "1098/1098 [==============================] - 17s 14ms/step - loss: 270.6825\n",
      "Epoch 2/3\n",
      "1098/1098 [==============================] - 15s 14ms/step - loss: 2.4878\n",
      "Epoch 3/3\n",
      "1098/1098 [==============================] - 15s 14ms/step - loss: 0.6200\n",
      "275/275 [==============================] - 2s 6ms/step\n",
      "Epoch 1/3\n",
      "1098/1098 [==============================] - 16s 14ms/step - loss: 284.3959\n",
      "Epoch 2/3\n",
      "1098/1098 [==============================] - 15s 14ms/step - loss: 3.0524\n",
      "Epoch 3/3\n",
      "1098/1098 [==============================] - 15s 14ms/step - loss: 0.6265\n",
      "275/275 [==============================] - 2s 6ms/step\n",
      "Epoch 1/3\n",
      "1098/1098 [==============================] - 16s 14ms/step - loss: 288.4891\n",
      "Epoch 2/3\n",
      "1098/1098 [==============================] - 15s 14ms/step - loss: 3.2459\n",
      "Epoch 3/3\n",
      "1098/1098 [==============================] - 15s 14ms/step - loss: 0.6405\n",
      "275/275 [==============================] - 2s 6ms/step\n",
      "Epoch 1/3\n",
      "1099/1099 [==============================] - 16s 14ms/step - loss: 285.0833\n",
      "Epoch 2/3\n",
      "1099/1099 [==============================] - 15s 14ms/step - loss: 3.0189\n",
      "Epoch 3/3\n",
      "1099/1099 [==============================] - 15s 14ms/step - loss: 0.6213\n",
      "274/274 [==============================] - 2s 6ms/step\n",
      "Epoch 1/3\n",
      "1099/1099 [==============================] - 16s 14ms/step - loss: 297.5585\n",
      "Epoch 2/3\n",
      "1099/1099 [==============================] - 15s 14ms/step - loss: 3.6516\n",
      "Epoch 3/3\n",
      "1099/1099 [==============================] - 15s 14ms/step - loss: 0.6388\n",
      "274/274 [==============================] - 2s 6ms/step\n",
      "Epoch 1/3\n",
      "1098/1098 [==============================] - 18s 15ms/step - loss: 120.6577\n",
      "Epoch 2/3\n",
      "1098/1098 [==============================] - 17s 15ms/step - loss: 0.6316\n",
      "Epoch 3/3\n",
      "1098/1098 [==============================] - 17s 15ms/step - loss: 0.6288\n",
      "275/275 [==============================] - 2s 6ms/step\n",
      "Epoch 1/3\n",
      "1098/1098 [==============================] - 18s 15ms/step - loss: 121.2950\n",
      "Epoch 2/3\n",
      "1098/1098 [==============================] - 17s 15ms/step - loss: 0.6271\n",
      "Epoch 3/3\n",
      "1098/1098 [==============================] - 17s 15ms/step - loss: 0.6124\n",
      "275/275 [==============================] - 2s 6ms/step\n",
      "Epoch 1/3\n",
      "1098/1098 [==============================] - 18s 15ms/step - loss: 113.1080\n",
      "Epoch 2/3\n",
      "1098/1098 [==============================] - 17s 15ms/step - loss: 0.6477\n",
      "Epoch 3/3\n",
      "1098/1098 [==============================] - 17s 15ms/step - loss: 0.6539\n",
      "275/275 [==============================] - 2s 6ms/step\n",
      "Epoch 1/3\n",
      "1099/1099 [==============================] - 18s 15ms/step - loss: 112.5358\n",
      "Epoch 2/3\n",
      "1099/1099 [==============================] - 17s 15ms/step - loss: 0.6314\n",
      "Epoch 3/3\n",
      "1099/1099 [==============================] - 17s 15ms/step - loss: 0.6242\n",
      "274/274 [==============================] - 2s 6ms/step\n",
      "Epoch 1/3\n",
      "1099/1099 [==============================] - 18s 15ms/step - loss: 115.9644\n",
      "Epoch 2/3\n",
      "1099/1099 [==============================] - 17s 15ms/step - loss: 0.6464\n",
      "Epoch 3/3\n",
      "1099/1099 [==============================] - 17s 15ms/step - loss: 0.6409\n",
      "274/274 [==============================] - 2s 6ms/step\n",
      "Epoch 1/3\n",
      "1098/1098 [==============================] - 185s 168ms/step - loss: 49.0060\n",
      "Epoch 2/3\n",
      "1098/1098 [==============================] - 115s 105ms/step - loss: 0.6487\n",
      "Epoch 3/3\n",
      "1098/1098 [==============================] - 231s 211ms/step - loss: 0.6454\n",
      "275/275 [==============================] - 25s 89ms/step\n",
      "Epoch 1/3\n",
      "1098/1098 [==============================] - 72s 64ms/step - loss: 44.9670\n",
      "Epoch 2/3\n",
      "1098/1098 [==============================] - 26s 24ms/step - loss: 0.6566\n",
      "Epoch 3/3\n",
      "1098/1098 [==============================] - 29s 27ms/step - loss: 0.6512\n",
      "275/275 [==============================] - 5s 18ms/step\n",
      "Epoch 1/3\n",
      "1098/1098 [==============================] - 30s 26ms/step - loss: 48.1643\n",
      "Epoch 2/3\n",
      "1098/1098 [==============================] - 33s 30ms/step - loss: 0.6657\n",
      "Epoch 3/3\n",
      "1098/1098 [==============================] - 28s 25ms/step - loss: 0.6637\n",
      "275/275 [==============================] - 6s 22ms/step\n",
      "Epoch 1/3\n",
      "1099/1099 [==============================] - 28s 25ms/step - loss: 45.1884\n",
      "Epoch 2/3\n",
      "1099/1099 [==============================] - 24s 21ms/step - loss: 0.6419\n",
      "Epoch 3/3\n",
      "1099/1099 [==============================] - 28s 25ms/step - loss: 0.6451\n",
      "274/274 [==============================] - 4s 13ms/step\n",
      "Epoch 1/3\n",
      "1099/1099 [==============================] - 25s 22ms/step - loss: 45.9734\n",
      "Epoch 2/3\n",
      "1099/1099 [==============================] - 29s 26ms/step - loss: 0.6615\n",
      "Epoch 3/3\n",
      "1099/1099 [==============================] - 29s 27ms/step - loss: 0.6582\n",
      "274/274 [==============================] - 9s 32ms/step\n",
      "Epoch 1/5\n",
      "1098/1098 [==============================] - 15s 12ms/step - loss: 292.1524\n",
      "Epoch 2/5\n",
      "1098/1098 [==============================] - 14s 12ms/step - loss: 3.3549\n",
      "Epoch 3/5\n",
      "1098/1098 [==============================] - 14s 12ms/step - loss: 0.6195\n",
      "Epoch 4/5\n",
      "1098/1098 [==============================] - 15s 13ms/step - loss: 0.6213\n",
      "Epoch 5/5\n",
      "1098/1098 [==============================] - 14s 13ms/step - loss: 0.6216\n",
      "275/275 [==============================] - 2s 6ms/step\n",
      "Epoch 1/5\n",
      "1098/1098 [==============================] - 15s 13ms/step - loss: 269.4386\n",
      "Epoch 2/5\n",
      "1098/1098 [==============================] - 15s 13ms/step - loss: 2.4420\n",
      "Epoch 3/5\n",
      "1098/1098 [==============================] - 14s 13ms/step - loss: 0.6269\n",
      "Epoch 4/5\n",
      "1098/1098 [==============================] - 14s 12ms/step - loss: 0.6273\n",
      "Epoch 5/5\n",
      "1098/1098 [==============================] - 14s 13ms/step - loss: 0.6294\n",
      "275/275 [==============================] - 2s 6ms/step\n",
      "Epoch 1/5\n",
      "1098/1098 [==============================] - 15s 13ms/step - loss: 279.5374\n",
      "Epoch 2/5\n",
      "1098/1098 [==============================] - 14s 13ms/step - loss: 2.8738\n",
      "Epoch 3/5\n",
      "1098/1098 [==============================] - 15s 13ms/step - loss: 0.6393\n",
      "Epoch 4/5\n",
      "1098/1098 [==============================] - 15s 13ms/step - loss: 0.6391\n",
      "Epoch 5/5\n",
      "1098/1098 [==============================] - 15s 14ms/step - loss: 0.6409\n",
      "275/275 [==============================] - 2s 7ms/step\n",
      "Epoch 1/5\n",
      "1099/1099 [==============================] - 16s 13ms/step - loss: 269.7013\n",
      "Epoch 2/5\n",
      "1099/1099 [==============================] - 15s 13ms/step - loss: 2.4039\n",
      "Epoch 3/5\n",
      "1099/1099 [==============================] - 15s 14ms/step - loss: 0.6162\n",
      "Epoch 4/5\n",
      "1099/1099 [==============================] - 16s 14ms/step - loss: 0.6225\n",
      "Epoch 5/5\n",
      "1099/1099 [==============================] - 14s 13ms/step - loss: 0.6198\n",
      "274/274 [==============================] - 2s 6ms/step\n",
      "Epoch 1/5\n",
      "1099/1099 [==============================] - 15s 13ms/step - loss: 290.7778\n",
      "Epoch 2/5\n",
      "1099/1099 [==============================] - 16s 14ms/step - loss: 3.3582\n",
      "Epoch 3/5\n",
      "1099/1099 [==============================] - 16s 15ms/step - loss: 0.6376\n",
      "Epoch 4/5\n",
      "1099/1099 [==============================] - 15s 14ms/step - loss: 0.6393\n",
      "Epoch 5/5\n",
      "1099/1099 [==============================] - 15s 14ms/step - loss: 0.6385\n",
      "274/274 [==============================] - 2s 5ms/step\n",
      "Epoch 1/5\n",
      "1098/1098 [==============================] - 17s 15ms/step - loss: 108.7884\n",
      "Epoch 2/5\n",
      "1098/1098 [==============================] - 17s 15ms/step - loss: 0.6262\n",
      "Epoch 3/5\n",
      "1098/1098 [==============================] - 16s 14ms/step - loss: 0.6312\n",
      "Epoch 4/5\n",
      "1098/1098 [==============================] - 16s 15ms/step - loss: 0.6263\n",
      "Epoch 5/5\n",
      "1098/1098 [==============================] - 16s 15ms/step - loss: 0.6272\n",
      "275/275 [==============================] - 2s 6ms/step\n",
      "Epoch 1/5\n",
      "1098/1098 [==============================] - 16s 14ms/step - loss: 125.6412\n",
      "Epoch 2/5\n",
      "1098/1098 [==============================] - 15s 14ms/step - loss: 0.6347\n",
      "Epoch 3/5\n",
      "1098/1098 [==============================] - 15s 14ms/step - loss: 0.6332\n",
      "Epoch 4/5\n",
      "1098/1098 [==============================] - 15s 14ms/step - loss: 0.6322\n",
      "Epoch 5/5\n",
      "1098/1098 [==============================] - 15s 14ms/step - loss: 0.6355\n",
      "275/275 [==============================] - 2s 6ms/step\n",
      "Epoch 1/5\n",
      "1098/1098 [==============================] - 16s 14ms/step - loss: 123.5989\n",
      "Epoch 2/5\n",
      "1098/1098 [==============================] - 15s 14ms/step - loss: 0.6464\n",
      "Epoch 3/5\n",
      "1098/1098 [==============================] - 16s 14ms/step - loss: 0.6132\n",
      "Epoch 4/5\n",
      "1098/1098 [==============================] - 15s 14ms/step - loss: 0.5832\n",
      "Epoch 5/5\n",
      "1098/1098 [==============================] - 15s 14ms/step - loss: 0.5744\n",
      "275/275 [==============================] - 2s 6ms/step\n",
      "Epoch 1/5\n",
      "1099/1099 [==============================] - 16s 14ms/step - loss: 122.0014\n",
      "Epoch 2/5\n",
      "1099/1099 [==============================] - 15s 14ms/step - loss: 0.6264\n",
      "Epoch 3/5\n",
      "1099/1099 [==============================] - 15s 14ms/step - loss: 0.6293\n",
      "Epoch 4/5\n",
      "1099/1099 [==============================] - 15s 14ms/step - loss: 0.6292\n",
      "Epoch 5/5\n",
      "1099/1099 [==============================] - 16s 14ms/step - loss: 0.6287\n",
      "274/274 [==============================] - 2s 6ms/step\n",
      "Epoch 1/5\n",
      "1099/1099 [==============================] - 16s 14ms/step - loss: 118.8186\n",
      "Epoch 2/5\n",
      "1099/1099 [==============================] - 15s 14ms/step - loss: 0.6451\n",
      "Epoch 3/5\n",
      "1099/1099 [==============================] - 16s 14ms/step - loss: 0.6450\n",
      "Epoch 4/5\n",
      "1099/1099 [==============================] - 16s 14ms/step - loss: 0.6465\n",
      "Epoch 5/5\n",
      "1099/1099 [==============================] - 15s 14ms/step - loss: 0.6448\n",
      "274/274 [==============================] - 2s 6ms/step\n",
      "Epoch 1/5\n",
      "1098/1098 [==============================] - 148s 134ms/step - loss: 47.8768\n",
      "Epoch 2/5\n",
      "1098/1098 [==============================] - 24s 22ms/step - loss: 0.6462\n",
      "Epoch 3/5\n",
      "1098/1098 [==============================] - 24s 22ms/step - loss: 0.6448\n",
      "Epoch 4/5\n",
      "1098/1098 [==============================] - 26s 24ms/step - loss: 0.6485\n",
      "Epoch 5/5\n",
      "1098/1098 [==============================] - 27s 25ms/step - loss: 0.6309\n",
      "275/275 [==============================] - 7s 24ms/step\n",
      "Epoch 1/5\n",
      "1098/1098 [==============================] - 32s 28ms/step - loss: 48.7066\n",
      "Epoch 2/5\n",
      "1098/1098 [==============================] - 28s 25ms/step - loss: 0.6515\n",
      "Epoch 3/5\n",
      "1098/1098 [==============================] - 25s 23ms/step - loss: 0.6463\n",
      "Epoch 4/5\n",
      "1098/1098 [==============================] - 35s 32ms/step - loss: 0.6245\n",
      "Epoch 5/5\n",
      "1098/1098 [==============================] - 38s 35ms/step - loss: 0.5752\n",
      "275/275 [==============================] - 5s 17ms/step\n",
      "Epoch 1/5\n",
      "1098/1098 [==============================] - 31s 28ms/step - loss: 47.9384\n",
      "Epoch 2/5\n",
      "1098/1098 [==============================] - 28s 26ms/step - loss: 0.6648\n",
      "Epoch 3/5\n",
      "1098/1098 [==============================] - 34s 31ms/step - loss: 0.6713\n",
      "Epoch 4/5\n",
      "1098/1098 [==============================] - 43s 39ms/step - loss: 0.6592\n",
      "Epoch 5/5\n",
      "1098/1098 [==============================] - 35s 32ms/step - loss: 0.6571\n",
      "107/275 [==========>...................] - ETA: 21s"
     ]
    },
    {
     "ename": "KeyboardInterrupt",
     "evalue": "",
     "output_type": "error",
     "traceback": [
      "\u001b[1;31m---------------------------------------------------------------------------\u001b[0m",
      "\u001b[1;31mKeyboardInterrupt\u001b[0m                         Traceback (most recent call last)",
      "Cell \u001b[1;32mIn[371], line 7\u001b[0m\n\u001b[0;32m      1\u001b[0m \u001b[39m# perform the grid search\u001b[39;00m\n\u001b[0;32m      2\u001b[0m grid \u001b[39m=\u001b[39m GridSearchCV(estimator\u001b[39m=\u001b[39mmodel, \n\u001b[0;32m      3\u001b[0m                     param_grid\u001b[39m=\u001b[39mparam_grid, \n\u001b[0;32m      4\u001b[0m                     scoring\u001b[39m=\u001b[39mscoring,\n\u001b[0;32m      5\u001b[0m                     cv\u001b[39m=\u001b[39m\u001b[39m5\u001b[39m, \n\u001b[0;32m      6\u001b[0m                     n_jobs\u001b[39m=\u001b[39m\u001b[39m1\u001b[39m)\n\u001b[1;32m----> 7\u001b[0m grid_result \u001b[39m=\u001b[39m grid\u001b[39m.\u001b[39;49mfit(X_train, y_train)\n\u001b[0;32m      9\u001b[0m \u001b[39m# print results\u001b[39;00m\n\u001b[0;32m     10\u001b[0m \u001b[39mprint\u001b[39m(\u001b[39m\"\u001b[39m\u001b[39mBest parameters: \u001b[39m\u001b[39m\"\u001b[39m, grid_result\u001b[39m.\u001b[39mbest_params_)\n",
      "File \u001b[1;32mc:\\Users\\admin\\anaconda3\\envs\\ai\\lib\\site-packages\\sklearn\\model_selection\\_search.py:874\u001b[0m, in \u001b[0;36mBaseSearchCV.fit\u001b[1;34m(self, X, y, groups, **fit_params)\u001b[0m\n\u001b[0;32m    868\u001b[0m     results \u001b[39m=\u001b[39m \u001b[39mself\u001b[39m\u001b[39m.\u001b[39m_format_results(\n\u001b[0;32m    869\u001b[0m         all_candidate_params, n_splits, all_out, all_more_results\n\u001b[0;32m    870\u001b[0m     )\n\u001b[0;32m    872\u001b[0m     \u001b[39mreturn\u001b[39;00m results\n\u001b[1;32m--> 874\u001b[0m \u001b[39mself\u001b[39;49m\u001b[39m.\u001b[39;49m_run_search(evaluate_candidates)\n\u001b[0;32m    876\u001b[0m \u001b[39m# multimetric is determined here because in the case of a callable\u001b[39;00m\n\u001b[0;32m    877\u001b[0m \u001b[39m# self.scoring the return type is only known after calling\u001b[39;00m\n\u001b[0;32m    878\u001b[0m first_test_score \u001b[39m=\u001b[39m all_out[\u001b[39m0\u001b[39m][\u001b[39m\"\u001b[39m\u001b[39mtest_scores\u001b[39m\u001b[39m\"\u001b[39m]\n",
      "File \u001b[1;32mc:\\Users\\admin\\anaconda3\\envs\\ai\\lib\\site-packages\\sklearn\\model_selection\\_search.py:1388\u001b[0m, in \u001b[0;36mGridSearchCV._run_search\u001b[1;34m(self, evaluate_candidates)\u001b[0m\n\u001b[0;32m   1386\u001b[0m \u001b[39mdef\u001b[39;00m \u001b[39m_run_search\u001b[39m(\u001b[39mself\u001b[39m, evaluate_candidates):\n\u001b[0;32m   1387\u001b[0m \u001b[39m    \u001b[39m\u001b[39m\"\"\"Search all candidates in param_grid\"\"\"\u001b[39;00m\n\u001b[1;32m-> 1388\u001b[0m     evaluate_candidates(ParameterGrid(\u001b[39mself\u001b[39;49m\u001b[39m.\u001b[39;49mparam_grid))\n",
      "File \u001b[1;32mc:\\Users\\admin\\anaconda3\\envs\\ai\\lib\\site-packages\\sklearn\\model_selection\\_search.py:821\u001b[0m, in \u001b[0;36mBaseSearchCV.fit.<locals>.evaluate_candidates\u001b[1;34m(candidate_params, cv, more_results)\u001b[0m\n\u001b[0;32m    813\u001b[0m \u001b[39mif\u001b[39;00m \u001b[39mself\u001b[39m\u001b[39m.\u001b[39mverbose \u001b[39m>\u001b[39m \u001b[39m0\u001b[39m:\n\u001b[0;32m    814\u001b[0m     \u001b[39mprint\u001b[39m(\n\u001b[0;32m    815\u001b[0m         \u001b[39m\"\u001b[39m\u001b[39mFitting \u001b[39m\u001b[39m{0}\u001b[39;00m\u001b[39m folds for each of \u001b[39m\u001b[39m{1}\u001b[39;00m\u001b[39m candidates,\u001b[39m\u001b[39m\"\u001b[39m\n\u001b[0;32m    816\u001b[0m         \u001b[39m\"\u001b[39m\u001b[39m totalling \u001b[39m\u001b[39m{2}\u001b[39;00m\u001b[39m fits\u001b[39m\u001b[39m\"\u001b[39m\u001b[39m.\u001b[39mformat(\n\u001b[0;32m    817\u001b[0m             n_splits, n_candidates, n_candidates \u001b[39m*\u001b[39m n_splits\n\u001b[0;32m    818\u001b[0m         )\n\u001b[0;32m    819\u001b[0m     )\n\u001b[1;32m--> 821\u001b[0m out \u001b[39m=\u001b[39m parallel(\n\u001b[0;32m    822\u001b[0m     delayed(_fit_and_score)(\n\u001b[0;32m    823\u001b[0m         clone(base_estimator),\n\u001b[0;32m    824\u001b[0m         X,\n\u001b[0;32m    825\u001b[0m         y,\n\u001b[0;32m    826\u001b[0m         train\u001b[39m=\u001b[39;49mtrain,\n\u001b[0;32m    827\u001b[0m         test\u001b[39m=\u001b[39;49mtest,\n\u001b[0;32m    828\u001b[0m         parameters\u001b[39m=\u001b[39;49mparameters,\n\u001b[0;32m    829\u001b[0m         split_progress\u001b[39m=\u001b[39;49m(split_idx, n_splits),\n\u001b[0;32m    830\u001b[0m         candidate_progress\u001b[39m=\u001b[39;49m(cand_idx, n_candidates),\n\u001b[0;32m    831\u001b[0m         \u001b[39m*\u001b[39;49m\u001b[39m*\u001b[39;49mfit_and_score_kwargs,\n\u001b[0;32m    832\u001b[0m     )\n\u001b[0;32m    833\u001b[0m     \u001b[39mfor\u001b[39;49;00m (cand_idx, parameters), (split_idx, (train, test)) \u001b[39min\u001b[39;49;00m product(\n\u001b[0;32m    834\u001b[0m         \u001b[39menumerate\u001b[39;49m(candidate_params), \u001b[39menumerate\u001b[39;49m(cv\u001b[39m.\u001b[39;49msplit(X, y, groups))\n\u001b[0;32m    835\u001b[0m     )\n\u001b[0;32m    836\u001b[0m )\n\u001b[0;32m    838\u001b[0m \u001b[39mif\u001b[39;00m \u001b[39mlen\u001b[39m(out) \u001b[39m<\u001b[39m \u001b[39m1\u001b[39m:\n\u001b[0;32m    839\u001b[0m     \u001b[39mraise\u001b[39;00m \u001b[39mValueError\u001b[39;00m(\n\u001b[0;32m    840\u001b[0m         \u001b[39m\"\u001b[39m\u001b[39mNo fits were performed. \u001b[39m\u001b[39m\"\u001b[39m\n\u001b[0;32m    841\u001b[0m         \u001b[39m\"\u001b[39m\u001b[39mWas the CV iterator empty? \u001b[39m\u001b[39m\"\u001b[39m\n\u001b[0;32m    842\u001b[0m         \u001b[39m\"\u001b[39m\u001b[39mWere there no candidates?\u001b[39m\u001b[39m\"\u001b[39m\n\u001b[0;32m    843\u001b[0m     )\n",
      "File \u001b[1;32mc:\\Users\\admin\\anaconda3\\envs\\ai\\lib\\site-packages\\sklearn\\utils\\parallel.py:63\u001b[0m, in \u001b[0;36mParallel.__call__\u001b[1;34m(self, iterable)\u001b[0m\n\u001b[0;32m     58\u001b[0m config \u001b[39m=\u001b[39m get_config()\n\u001b[0;32m     59\u001b[0m iterable_with_config \u001b[39m=\u001b[39m (\n\u001b[0;32m     60\u001b[0m     (_with_config(delayed_func, config), args, kwargs)\n\u001b[0;32m     61\u001b[0m     \u001b[39mfor\u001b[39;00m delayed_func, args, kwargs \u001b[39min\u001b[39;00m iterable\n\u001b[0;32m     62\u001b[0m )\n\u001b[1;32m---> 63\u001b[0m \u001b[39mreturn\u001b[39;00m \u001b[39msuper\u001b[39;49m()\u001b[39m.\u001b[39;49m\u001b[39m__call__\u001b[39;49m(iterable_with_config)\n",
      "File \u001b[1;32mc:\\Users\\admin\\anaconda3\\envs\\ai\\lib\\site-packages\\joblib\\parallel.py:1088\u001b[0m, in \u001b[0;36mParallel.__call__\u001b[1;34m(self, iterable)\u001b[0m\n\u001b[0;32m   1085\u001b[0m \u001b[39mif\u001b[39;00m \u001b[39mself\u001b[39m\u001b[39m.\u001b[39mdispatch_one_batch(iterator):\n\u001b[0;32m   1086\u001b[0m     \u001b[39mself\u001b[39m\u001b[39m.\u001b[39m_iterating \u001b[39m=\u001b[39m \u001b[39mself\u001b[39m\u001b[39m.\u001b[39m_original_iterator \u001b[39mis\u001b[39;00m \u001b[39mnot\u001b[39;00m \u001b[39mNone\u001b[39;00m\n\u001b[1;32m-> 1088\u001b[0m \u001b[39mwhile\u001b[39;00m \u001b[39mself\u001b[39;49m\u001b[39m.\u001b[39;49mdispatch_one_batch(iterator):\n\u001b[0;32m   1089\u001b[0m     \u001b[39mpass\u001b[39;00m\n\u001b[0;32m   1091\u001b[0m \u001b[39mif\u001b[39;00m pre_dispatch \u001b[39m==\u001b[39m \u001b[39m\"\u001b[39m\u001b[39mall\u001b[39m\u001b[39m\"\u001b[39m \u001b[39mor\u001b[39;00m n_jobs \u001b[39m==\u001b[39m \u001b[39m1\u001b[39m:\n\u001b[0;32m   1092\u001b[0m     \u001b[39m# The iterable was consumed all at once by the above for loop.\u001b[39;00m\n\u001b[0;32m   1093\u001b[0m     \u001b[39m# No need to wait for async callbacks to trigger to\u001b[39;00m\n\u001b[0;32m   1094\u001b[0m     \u001b[39m# consumption.\u001b[39;00m\n",
      "File \u001b[1;32mc:\\Users\\admin\\anaconda3\\envs\\ai\\lib\\site-packages\\joblib\\parallel.py:901\u001b[0m, in \u001b[0;36mParallel.dispatch_one_batch\u001b[1;34m(self, iterator)\u001b[0m\n\u001b[0;32m    899\u001b[0m     \u001b[39mreturn\u001b[39;00m \u001b[39mFalse\u001b[39;00m\n\u001b[0;32m    900\u001b[0m \u001b[39melse\u001b[39;00m:\n\u001b[1;32m--> 901\u001b[0m     \u001b[39mself\u001b[39;49m\u001b[39m.\u001b[39;49m_dispatch(tasks)\n\u001b[0;32m    902\u001b[0m     \u001b[39mreturn\u001b[39;00m \u001b[39mTrue\u001b[39;00m\n",
      "File \u001b[1;32mc:\\Users\\admin\\anaconda3\\envs\\ai\\lib\\site-packages\\joblib\\parallel.py:819\u001b[0m, in \u001b[0;36mParallel._dispatch\u001b[1;34m(self, batch)\u001b[0m\n\u001b[0;32m    817\u001b[0m \u001b[39mwith\u001b[39;00m \u001b[39mself\u001b[39m\u001b[39m.\u001b[39m_lock:\n\u001b[0;32m    818\u001b[0m     job_idx \u001b[39m=\u001b[39m \u001b[39mlen\u001b[39m(\u001b[39mself\u001b[39m\u001b[39m.\u001b[39m_jobs)\n\u001b[1;32m--> 819\u001b[0m     job \u001b[39m=\u001b[39m \u001b[39mself\u001b[39;49m\u001b[39m.\u001b[39;49m_backend\u001b[39m.\u001b[39;49mapply_async(batch, callback\u001b[39m=\u001b[39;49mcb)\n\u001b[0;32m    820\u001b[0m     \u001b[39m# A job can complete so quickly than its callback is\u001b[39;00m\n\u001b[0;32m    821\u001b[0m     \u001b[39m# called before we get here, causing self._jobs to\u001b[39;00m\n\u001b[0;32m    822\u001b[0m     \u001b[39m# grow. To ensure correct results ordering, .insert is\u001b[39;00m\n\u001b[0;32m    823\u001b[0m     \u001b[39m# used (rather than .append) in the following line\u001b[39;00m\n\u001b[0;32m    824\u001b[0m     \u001b[39mself\u001b[39m\u001b[39m.\u001b[39m_jobs\u001b[39m.\u001b[39minsert(job_idx, job)\n",
      "File \u001b[1;32mc:\\Users\\admin\\anaconda3\\envs\\ai\\lib\\site-packages\\joblib\\_parallel_backends.py:208\u001b[0m, in \u001b[0;36mSequentialBackend.apply_async\u001b[1;34m(self, func, callback)\u001b[0m\n\u001b[0;32m    206\u001b[0m \u001b[39mdef\u001b[39;00m \u001b[39mapply_async\u001b[39m(\u001b[39mself\u001b[39m, func, callback\u001b[39m=\u001b[39m\u001b[39mNone\u001b[39;00m):\n\u001b[0;32m    207\u001b[0m \u001b[39m    \u001b[39m\u001b[39m\"\"\"Schedule a func to be run\"\"\"\u001b[39;00m\n\u001b[1;32m--> 208\u001b[0m     result \u001b[39m=\u001b[39m ImmediateResult(func)\n\u001b[0;32m    209\u001b[0m     \u001b[39mif\u001b[39;00m callback:\n\u001b[0;32m    210\u001b[0m         callback(result)\n",
      "File \u001b[1;32mc:\\Users\\admin\\anaconda3\\envs\\ai\\lib\\site-packages\\joblib\\_parallel_backends.py:597\u001b[0m, in \u001b[0;36mImmediateResult.__init__\u001b[1;34m(self, batch)\u001b[0m\n\u001b[0;32m    594\u001b[0m \u001b[39mdef\u001b[39;00m \u001b[39m__init__\u001b[39m(\u001b[39mself\u001b[39m, batch):\n\u001b[0;32m    595\u001b[0m     \u001b[39m# Don't delay the application, to avoid keeping the input\u001b[39;00m\n\u001b[0;32m    596\u001b[0m     \u001b[39m# arguments in memory\u001b[39;00m\n\u001b[1;32m--> 597\u001b[0m     \u001b[39mself\u001b[39m\u001b[39m.\u001b[39mresults \u001b[39m=\u001b[39m batch()\n",
      "File \u001b[1;32mc:\\Users\\admin\\anaconda3\\envs\\ai\\lib\\site-packages\\joblib\\parallel.py:288\u001b[0m, in \u001b[0;36mBatchedCalls.__call__\u001b[1;34m(self)\u001b[0m\n\u001b[0;32m    284\u001b[0m \u001b[39mdef\u001b[39;00m \u001b[39m__call__\u001b[39m(\u001b[39mself\u001b[39m):\n\u001b[0;32m    285\u001b[0m     \u001b[39m# Set the default nested backend to self._backend but do not set the\u001b[39;00m\n\u001b[0;32m    286\u001b[0m     \u001b[39m# change the default number of processes to -1\u001b[39;00m\n\u001b[0;32m    287\u001b[0m     \u001b[39mwith\u001b[39;00m parallel_backend(\u001b[39mself\u001b[39m\u001b[39m.\u001b[39m_backend, n_jobs\u001b[39m=\u001b[39m\u001b[39mself\u001b[39m\u001b[39m.\u001b[39m_n_jobs):\n\u001b[1;32m--> 288\u001b[0m         \u001b[39mreturn\u001b[39;00m [func(\u001b[39m*\u001b[39margs, \u001b[39m*\u001b[39m\u001b[39m*\u001b[39mkwargs)\n\u001b[0;32m    289\u001b[0m                 \u001b[39mfor\u001b[39;00m func, args, kwargs \u001b[39min\u001b[39;00m \u001b[39mself\u001b[39m\u001b[39m.\u001b[39mitems]\n",
      "File \u001b[1;32mc:\\Users\\admin\\anaconda3\\envs\\ai\\lib\\site-packages\\joblib\\parallel.py:288\u001b[0m, in \u001b[0;36m<listcomp>\u001b[1;34m(.0)\u001b[0m\n\u001b[0;32m    284\u001b[0m \u001b[39mdef\u001b[39;00m \u001b[39m__call__\u001b[39m(\u001b[39mself\u001b[39m):\n\u001b[0;32m    285\u001b[0m     \u001b[39m# Set the default nested backend to self._backend but do not set the\u001b[39;00m\n\u001b[0;32m    286\u001b[0m     \u001b[39m# change the default number of processes to -1\u001b[39;00m\n\u001b[0;32m    287\u001b[0m     \u001b[39mwith\u001b[39;00m parallel_backend(\u001b[39mself\u001b[39m\u001b[39m.\u001b[39m_backend, n_jobs\u001b[39m=\u001b[39m\u001b[39mself\u001b[39m\u001b[39m.\u001b[39m_n_jobs):\n\u001b[1;32m--> 288\u001b[0m         \u001b[39mreturn\u001b[39;00m [func(\u001b[39m*\u001b[39margs, \u001b[39m*\u001b[39m\u001b[39m*\u001b[39mkwargs)\n\u001b[0;32m    289\u001b[0m                 \u001b[39mfor\u001b[39;00m func, args, kwargs \u001b[39min\u001b[39;00m \u001b[39mself\u001b[39m\u001b[39m.\u001b[39mitems]\n",
      "File \u001b[1;32mc:\\Users\\admin\\anaconda3\\envs\\ai\\lib\\site-packages\\sklearn\\utils\\parallel.py:123\u001b[0m, in \u001b[0;36m_FuncWrapper.__call__\u001b[1;34m(self, *args, **kwargs)\u001b[0m\n\u001b[0;32m    121\u001b[0m     config \u001b[39m=\u001b[39m {}\n\u001b[0;32m    122\u001b[0m \u001b[39mwith\u001b[39;00m config_context(\u001b[39m*\u001b[39m\u001b[39m*\u001b[39mconfig):\n\u001b[1;32m--> 123\u001b[0m     \u001b[39mreturn\u001b[39;00m \u001b[39mself\u001b[39m\u001b[39m.\u001b[39mfunction(\u001b[39m*\u001b[39margs, \u001b[39m*\u001b[39m\u001b[39m*\u001b[39mkwargs)\n",
      "File \u001b[1;32mc:\\Users\\admin\\anaconda3\\envs\\ai\\lib\\site-packages\\sklearn\\model_selection\\_validation.py:708\u001b[0m, in \u001b[0;36m_fit_and_score\u001b[1;34m(estimator, X, y, scorer, train, test, verbose, parameters, fit_params, return_train_score, return_parameters, return_n_test_samples, return_times, return_estimator, split_progress, candidate_progress, error_score)\u001b[0m\n\u001b[0;32m    705\u001b[0m result[\u001b[39m\"\u001b[39m\u001b[39mfit_error\u001b[39m\u001b[39m\"\u001b[39m] \u001b[39m=\u001b[39m \u001b[39mNone\u001b[39;00m\n\u001b[0;32m    707\u001b[0m fit_time \u001b[39m=\u001b[39m time\u001b[39m.\u001b[39mtime() \u001b[39m-\u001b[39m start_time\n\u001b[1;32m--> 708\u001b[0m test_scores \u001b[39m=\u001b[39m _score(estimator, X_test, y_test, scorer, error_score)\n\u001b[0;32m    709\u001b[0m score_time \u001b[39m=\u001b[39m time\u001b[39m.\u001b[39mtime() \u001b[39m-\u001b[39m start_time \u001b[39m-\u001b[39m fit_time\n\u001b[0;32m    710\u001b[0m \u001b[39mif\u001b[39;00m return_train_score:\n",
      "File \u001b[1;32mc:\\Users\\admin\\anaconda3\\envs\\ai\\lib\\site-packages\\sklearn\\model_selection\\_validation.py:767\u001b[0m, in \u001b[0;36m_score\u001b[1;34m(estimator, X_test, y_test, scorer, error_score)\u001b[0m\n\u001b[0;32m    765\u001b[0m         scores \u001b[39m=\u001b[39m scorer(estimator, X_test)\n\u001b[0;32m    766\u001b[0m     \u001b[39melse\u001b[39;00m:\n\u001b[1;32m--> 767\u001b[0m         scores \u001b[39m=\u001b[39m scorer(estimator, X_test, y_test)\n\u001b[0;32m    768\u001b[0m \u001b[39mexcept\u001b[39;00m \u001b[39mException\u001b[39;00m:\n\u001b[0;32m    769\u001b[0m     \u001b[39mif\u001b[39;00m \u001b[39misinstance\u001b[39m(scorer, _MultimetricScorer):\n\u001b[0;32m    770\u001b[0m         \u001b[39m# If `_MultimetricScorer` raises exception, the `error_score`\u001b[39;00m\n\u001b[0;32m    771\u001b[0m         \u001b[39m# parameter is equal to \"raise\".\u001b[39;00m\n",
      "File \u001b[1;32mc:\\Users\\admin\\anaconda3\\envs\\ai\\lib\\site-packages\\sklearn\\metrics\\_scorer.py:234\u001b[0m, in \u001b[0;36m_BaseScorer.__call__\u001b[1;34m(self, estimator, X, y_true, sample_weight)\u001b[0m\n\u001b[0;32m    211\u001b[0m \u001b[39mdef\u001b[39;00m \u001b[39m__call__\u001b[39m(\u001b[39mself\u001b[39m, estimator, X, y_true, sample_weight\u001b[39m=\u001b[39m\u001b[39mNone\u001b[39;00m):\n\u001b[0;32m    212\u001b[0m \u001b[39m    \u001b[39m\u001b[39m\"\"\"Evaluate predicted target values for X relative to y_true.\u001b[39;00m\n\u001b[0;32m    213\u001b[0m \n\u001b[0;32m    214\u001b[0m \u001b[39m    Parameters\u001b[39;00m\n\u001b[1;32m   (...)\u001b[0m\n\u001b[0;32m    232\u001b[0m \u001b[39m        Score function applied to prediction of estimator on X.\u001b[39;00m\n\u001b[0;32m    233\u001b[0m \u001b[39m    \"\"\"\u001b[39;00m\n\u001b[1;32m--> 234\u001b[0m     \u001b[39mreturn\u001b[39;00m \u001b[39mself\u001b[39;49m\u001b[39m.\u001b[39;49m_score(\n\u001b[0;32m    235\u001b[0m         partial(_cached_call, \u001b[39mNone\u001b[39;49;00m),\n\u001b[0;32m    236\u001b[0m         estimator,\n\u001b[0;32m    237\u001b[0m         X,\n\u001b[0;32m    238\u001b[0m         y_true,\n\u001b[0;32m    239\u001b[0m         sample_weight\u001b[39m=\u001b[39;49msample_weight,\n\u001b[0;32m    240\u001b[0m     )\n",
      "File \u001b[1;32mc:\\Users\\admin\\anaconda3\\envs\\ai\\lib\\site-packages\\sklearn\\metrics\\_scorer.py:276\u001b[0m, in \u001b[0;36m_PredictScorer._score\u001b[1;34m(self, method_caller, estimator, X, y_true, sample_weight)\u001b[0m\n\u001b[0;32m    248\u001b[0m \u001b[39mdef\u001b[39;00m \u001b[39m_score\u001b[39m(\u001b[39mself\u001b[39m, method_caller, estimator, X, y_true, sample_weight\u001b[39m=\u001b[39m\u001b[39mNone\u001b[39;00m):\n\u001b[0;32m    249\u001b[0m \u001b[39m    \u001b[39m\u001b[39m\"\"\"Evaluate predicted target values for X relative to y_true.\u001b[39;00m\n\u001b[0;32m    250\u001b[0m \n\u001b[0;32m    251\u001b[0m \u001b[39m    Parameters\u001b[39;00m\n\u001b[1;32m   (...)\u001b[0m\n\u001b[0;32m    273\u001b[0m \u001b[39m        Score function applied to prediction of estimator on X.\u001b[39;00m\n\u001b[0;32m    274\u001b[0m \u001b[39m    \"\"\"\u001b[39;00m\n\u001b[1;32m--> 276\u001b[0m     y_pred \u001b[39m=\u001b[39m method_caller(estimator, \u001b[39m\"\u001b[39;49m\u001b[39mpredict\u001b[39;49m\u001b[39m\"\u001b[39;49m, X)\n\u001b[0;32m    277\u001b[0m     \u001b[39mif\u001b[39;00m sample_weight \u001b[39mis\u001b[39;00m \u001b[39mnot\u001b[39;00m \u001b[39mNone\u001b[39;00m:\n\u001b[0;32m    278\u001b[0m         \u001b[39mreturn\u001b[39;00m \u001b[39mself\u001b[39m\u001b[39m.\u001b[39m_sign \u001b[39m*\u001b[39m \u001b[39mself\u001b[39m\u001b[39m.\u001b[39m_score_func(\n\u001b[0;32m    279\u001b[0m             y_true, y_pred, sample_weight\u001b[39m=\u001b[39msample_weight, \u001b[39m*\u001b[39m\u001b[39m*\u001b[39m\u001b[39mself\u001b[39m\u001b[39m.\u001b[39m_kwargs\n\u001b[0;32m    280\u001b[0m         )\n",
      "File \u001b[1;32mc:\\Users\\admin\\anaconda3\\envs\\ai\\lib\\site-packages\\sklearn\\metrics\\_scorer.py:73\u001b[0m, in \u001b[0;36m_cached_call\u001b[1;34m(cache, estimator, method, *args, **kwargs)\u001b[0m\n\u001b[0;32m     71\u001b[0m \u001b[39m\u001b[39m\u001b[39m\"\"\"Call estimator with method and args and kwargs.\"\"\"\u001b[39;00m\n\u001b[0;32m     72\u001b[0m \u001b[39mif\u001b[39;00m cache \u001b[39mis\u001b[39;00m \u001b[39mNone\u001b[39;00m:\n\u001b[1;32m---> 73\u001b[0m     \u001b[39mreturn\u001b[39;00m \u001b[39mgetattr\u001b[39m(estimator, method)(\u001b[39m*\u001b[39margs, \u001b[39m*\u001b[39m\u001b[39m*\u001b[39mkwargs)\n\u001b[0;32m     75\u001b[0m \u001b[39mtry\u001b[39;00m:\n\u001b[0;32m     76\u001b[0m     \u001b[39mreturn\u001b[39;00m cache[method]\n",
      "File \u001b[1;32mc:\\Users\\admin\\anaconda3\\envs\\ai\\lib\\site-packages\\keras\\wrappers\\scikit_learn.py:379\u001b[0m, in \u001b[0;36mKerasRegressor.predict\u001b[1;34m(self, x, **kwargs)\u001b[0m\n\u001b[0;32m    365\u001b[0m \u001b[39m\u001b[39m\u001b[39m\"\"\"Returns predictions for the given test data.\u001b[39;00m\n\u001b[0;32m    366\u001b[0m \n\u001b[0;32m    367\u001b[0m \u001b[39mArgs:\u001b[39;00m\n\u001b[1;32m   (...)\u001b[0m\n\u001b[0;32m    376\u001b[0m \u001b[39m        Predictions.\u001b[39;00m\n\u001b[0;32m    377\u001b[0m \u001b[39m\"\"\"\u001b[39;00m\n\u001b[0;32m    378\u001b[0m kwargs \u001b[39m=\u001b[39m \u001b[39mself\u001b[39m\u001b[39m.\u001b[39mfilter_sk_params(Sequential\u001b[39m.\u001b[39mpredict, kwargs)\n\u001b[1;32m--> 379\u001b[0m \u001b[39mreturn\u001b[39;00m np\u001b[39m.\u001b[39msqueeze(\u001b[39mself\u001b[39m\u001b[39m.\u001b[39mmodel\u001b[39m.\u001b[39mpredict(x, \u001b[39m*\u001b[39m\u001b[39m*\u001b[39mkwargs))\n",
      "File \u001b[1;32mc:\\Users\\admin\\anaconda3\\envs\\ai\\lib\\site-packages\\keras\\utils\\traceback_utils.py:65\u001b[0m, in \u001b[0;36mfilter_traceback.<locals>.error_handler\u001b[1;34m(*args, **kwargs)\u001b[0m\n\u001b[0;32m     63\u001b[0m filtered_tb \u001b[39m=\u001b[39m \u001b[39mNone\u001b[39;00m\n\u001b[0;32m     64\u001b[0m \u001b[39mtry\u001b[39;00m:\n\u001b[1;32m---> 65\u001b[0m     \u001b[39mreturn\u001b[39;00m fn(\u001b[39m*\u001b[39margs, \u001b[39m*\u001b[39m\u001b[39m*\u001b[39mkwargs)\n\u001b[0;32m     66\u001b[0m \u001b[39mexcept\u001b[39;00m \u001b[39mException\u001b[39;00m \u001b[39mas\u001b[39;00m e:\n\u001b[0;32m     67\u001b[0m     filtered_tb \u001b[39m=\u001b[39m _process_traceback_frames(e\u001b[39m.\u001b[39m__traceback__)\n",
      "File \u001b[1;32mc:\\Users\\admin\\anaconda3\\envs\\ai\\lib\\site-packages\\keras\\engine\\training.py:2253\u001b[0m, in \u001b[0;36mModel.predict\u001b[1;34m(self, x, batch_size, verbose, steps, callbacks, max_queue_size, workers, use_multiprocessing)\u001b[0m\n\u001b[0;32m   2251\u001b[0m \u001b[39mfor\u001b[39;00m step \u001b[39min\u001b[39;00m data_handler\u001b[39m.\u001b[39msteps():\n\u001b[0;32m   2252\u001b[0m     callbacks\u001b[39m.\u001b[39mon_predict_batch_begin(step)\n\u001b[1;32m-> 2253\u001b[0m     tmp_batch_outputs \u001b[39m=\u001b[39m \u001b[39mself\u001b[39;49m\u001b[39m.\u001b[39;49mpredict_function(iterator)\n\u001b[0;32m   2254\u001b[0m     \u001b[39mif\u001b[39;00m data_handler\u001b[39m.\u001b[39mshould_sync:\n\u001b[0;32m   2255\u001b[0m         context\u001b[39m.\u001b[39masync_wait()\n",
      "File \u001b[1;32mc:\\Users\\admin\\anaconda3\\envs\\ai\\lib\\site-packages\\tensorflow\\python\\util\\traceback_utils.py:150\u001b[0m, in \u001b[0;36mfilter_traceback.<locals>.error_handler\u001b[1;34m(*args, **kwargs)\u001b[0m\n\u001b[0;32m    148\u001b[0m filtered_tb \u001b[39m=\u001b[39m \u001b[39mNone\u001b[39;00m\n\u001b[0;32m    149\u001b[0m \u001b[39mtry\u001b[39;00m:\n\u001b[1;32m--> 150\u001b[0m   \u001b[39mreturn\u001b[39;00m fn(\u001b[39m*\u001b[39margs, \u001b[39m*\u001b[39m\u001b[39m*\u001b[39mkwargs)\n\u001b[0;32m    151\u001b[0m \u001b[39mexcept\u001b[39;00m \u001b[39mException\u001b[39;00m \u001b[39mas\u001b[39;00m e:\n\u001b[0;32m    152\u001b[0m   filtered_tb \u001b[39m=\u001b[39m _process_traceback_frames(e\u001b[39m.\u001b[39m__traceback__)\n",
      "File \u001b[1;32mc:\\Users\\admin\\anaconda3\\envs\\ai\\lib\\site-packages\\tensorflow\\python\\eager\\def_function.py:915\u001b[0m, in \u001b[0;36mFunction.__call__\u001b[1;34m(self, *args, **kwds)\u001b[0m\n\u001b[0;32m    912\u001b[0m compiler \u001b[39m=\u001b[39m \u001b[39m\"\u001b[39m\u001b[39mxla\u001b[39m\u001b[39m\"\u001b[39m \u001b[39mif\u001b[39;00m \u001b[39mself\u001b[39m\u001b[39m.\u001b[39m_jit_compile \u001b[39melse\u001b[39;00m \u001b[39m\"\u001b[39m\u001b[39mnonXla\u001b[39m\u001b[39m\"\u001b[39m\n\u001b[0;32m    914\u001b[0m \u001b[39mwith\u001b[39;00m OptionalXlaContext(\u001b[39mself\u001b[39m\u001b[39m.\u001b[39m_jit_compile):\n\u001b[1;32m--> 915\u001b[0m   result \u001b[39m=\u001b[39m \u001b[39mself\u001b[39m\u001b[39m.\u001b[39m_call(\u001b[39m*\u001b[39margs, \u001b[39m*\u001b[39m\u001b[39m*\u001b[39mkwds)\n\u001b[0;32m    917\u001b[0m new_tracing_count \u001b[39m=\u001b[39m \u001b[39mself\u001b[39m\u001b[39m.\u001b[39mexperimental_get_tracing_count()\n\u001b[0;32m    918\u001b[0m without_tracing \u001b[39m=\u001b[39m (tracing_count \u001b[39m==\u001b[39m new_tracing_count)\n",
      "File \u001b[1;32mc:\\Users\\admin\\anaconda3\\envs\\ai\\lib\\site-packages\\tensorflow\\python\\eager\\def_function.py:954\u001b[0m, in \u001b[0;36mFunction._call\u001b[1;34m(self, *args, **kwds)\u001b[0m\n\u001b[0;32m    951\u001b[0m \u001b[39mself\u001b[39m\u001b[39m.\u001b[39m_lock\u001b[39m.\u001b[39mrelease()\n\u001b[0;32m    952\u001b[0m \u001b[39m# In this case we have not created variables on the first call. So we can\u001b[39;00m\n\u001b[0;32m    953\u001b[0m \u001b[39m# run the first trace but we should fail if variables are created.\u001b[39;00m\n\u001b[1;32m--> 954\u001b[0m results \u001b[39m=\u001b[39m \u001b[39mself\u001b[39m\u001b[39m.\u001b[39m_stateful_fn(\u001b[39m*\u001b[39margs, \u001b[39m*\u001b[39m\u001b[39m*\u001b[39mkwds)\n\u001b[0;32m    955\u001b[0m \u001b[39mif\u001b[39;00m \u001b[39mself\u001b[39m\u001b[39m.\u001b[39m_created_variables \u001b[39mand\u001b[39;00m \u001b[39mnot\u001b[39;00m ALLOW_DYNAMIC_VARIABLE_CREATION:\n\u001b[0;32m    956\u001b[0m   \u001b[39mraise\u001b[39;00m \u001b[39mValueError\u001b[39;00m(\u001b[39m\"\u001b[39m\u001b[39mCreating variables on a non-first call to a function\u001b[39m\u001b[39m\"\u001b[39m\n\u001b[0;32m    957\u001b[0m                    \u001b[39m\"\u001b[39m\u001b[39m decorated with tf.function.\u001b[39m\u001b[39m\"\u001b[39m)\n",
      "File \u001b[1;32mc:\\Users\\admin\\anaconda3\\envs\\ai\\lib\\site-packages\\tensorflow\\python\\eager\\function.py:2496\u001b[0m, in \u001b[0;36mFunction.__call__\u001b[1;34m(self, *args, **kwargs)\u001b[0m\n\u001b[0;32m   2493\u001b[0m \u001b[39mwith\u001b[39;00m \u001b[39mself\u001b[39m\u001b[39m.\u001b[39m_lock:\n\u001b[0;32m   2494\u001b[0m   (graph_function,\n\u001b[0;32m   2495\u001b[0m    filtered_flat_args) \u001b[39m=\u001b[39m \u001b[39mself\u001b[39m\u001b[39m.\u001b[39m_maybe_define_function(args, kwargs)\n\u001b[1;32m-> 2496\u001b[0m \u001b[39mreturn\u001b[39;00m graph_function\u001b[39m.\u001b[39;49m_call_flat(\n\u001b[0;32m   2497\u001b[0m     filtered_flat_args, captured_inputs\u001b[39m=\u001b[39;49mgraph_function\u001b[39m.\u001b[39;49mcaptured_inputs)\n",
      "File \u001b[1;32mc:\\Users\\admin\\anaconda3\\envs\\ai\\lib\\site-packages\\tensorflow\\python\\eager\\function.py:1862\u001b[0m, in \u001b[0;36mConcreteFunction._call_flat\u001b[1;34m(self, args, captured_inputs, cancellation_manager)\u001b[0m\n\u001b[0;32m   1858\u001b[0m possible_gradient_type \u001b[39m=\u001b[39m gradients_util\u001b[39m.\u001b[39mPossibleTapeGradientTypes(args)\n\u001b[0;32m   1859\u001b[0m \u001b[39mif\u001b[39;00m (possible_gradient_type \u001b[39m==\u001b[39m gradients_util\u001b[39m.\u001b[39mPOSSIBLE_GRADIENT_TYPES_NONE\n\u001b[0;32m   1860\u001b[0m     \u001b[39mand\u001b[39;00m executing_eagerly):\n\u001b[0;32m   1861\u001b[0m   \u001b[39m# No tape is watching; skip to running the function.\u001b[39;00m\n\u001b[1;32m-> 1862\u001b[0m   \u001b[39mreturn\u001b[39;00m \u001b[39mself\u001b[39m\u001b[39m.\u001b[39m_build_call_outputs(\u001b[39mself\u001b[39;49m\u001b[39m.\u001b[39;49m_inference_function\u001b[39m.\u001b[39;49mcall(\n\u001b[0;32m   1863\u001b[0m       ctx, args, cancellation_manager\u001b[39m=\u001b[39;49mcancellation_manager))\n\u001b[0;32m   1864\u001b[0m forward_backward \u001b[39m=\u001b[39m \u001b[39mself\u001b[39m\u001b[39m.\u001b[39m_select_forward_and_backward_functions(\n\u001b[0;32m   1865\u001b[0m     args,\n\u001b[0;32m   1866\u001b[0m     possible_gradient_type,\n\u001b[0;32m   1867\u001b[0m     executing_eagerly)\n\u001b[0;32m   1868\u001b[0m forward_function, args_with_tangents \u001b[39m=\u001b[39m forward_backward\u001b[39m.\u001b[39mforward()\n",
      "File \u001b[1;32mc:\\Users\\admin\\anaconda3\\envs\\ai\\lib\\site-packages\\tensorflow\\python\\eager\\function.py:499\u001b[0m, in \u001b[0;36m_EagerDefinedFunction.call\u001b[1;34m(self, ctx, args, cancellation_manager)\u001b[0m\n\u001b[0;32m    497\u001b[0m \u001b[39mwith\u001b[39;00m _InterpolateFunctionError(\u001b[39mself\u001b[39m):\n\u001b[0;32m    498\u001b[0m   \u001b[39mif\u001b[39;00m cancellation_manager \u001b[39mis\u001b[39;00m \u001b[39mNone\u001b[39;00m:\n\u001b[1;32m--> 499\u001b[0m     outputs \u001b[39m=\u001b[39m execute\u001b[39m.\u001b[39;49mexecute(\n\u001b[0;32m    500\u001b[0m         \u001b[39mstr\u001b[39;49m(\u001b[39mself\u001b[39;49m\u001b[39m.\u001b[39;49msignature\u001b[39m.\u001b[39;49mname),\n\u001b[0;32m    501\u001b[0m         num_outputs\u001b[39m=\u001b[39;49m\u001b[39mself\u001b[39;49m\u001b[39m.\u001b[39;49m_num_outputs,\n\u001b[0;32m    502\u001b[0m         inputs\u001b[39m=\u001b[39;49margs,\n\u001b[0;32m    503\u001b[0m         attrs\u001b[39m=\u001b[39;49mattrs,\n\u001b[0;32m    504\u001b[0m         ctx\u001b[39m=\u001b[39;49mctx)\n\u001b[0;32m    505\u001b[0m   \u001b[39melse\u001b[39;00m:\n\u001b[0;32m    506\u001b[0m     outputs \u001b[39m=\u001b[39m execute\u001b[39m.\u001b[39mexecute_with_cancellation(\n\u001b[0;32m    507\u001b[0m         \u001b[39mstr\u001b[39m(\u001b[39mself\u001b[39m\u001b[39m.\u001b[39msignature\u001b[39m.\u001b[39mname),\n\u001b[0;32m    508\u001b[0m         num_outputs\u001b[39m=\u001b[39m\u001b[39mself\u001b[39m\u001b[39m.\u001b[39m_num_outputs,\n\u001b[1;32m   (...)\u001b[0m\n\u001b[0;32m    511\u001b[0m         ctx\u001b[39m=\u001b[39mctx,\n\u001b[0;32m    512\u001b[0m         cancellation_manager\u001b[39m=\u001b[39mcancellation_manager)\n",
      "File \u001b[1;32mc:\\Users\\admin\\anaconda3\\envs\\ai\\lib\\site-packages\\tensorflow\\python\\eager\\execute.py:54\u001b[0m, in \u001b[0;36mquick_execute\u001b[1;34m(op_name, num_outputs, inputs, attrs, ctx, name)\u001b[0m\n\u001b[0;32m     52\u001b[0m \u001b[39mtry\u001b[39;00m:\n\u001b[0;32m     53\u001b[0m   ctx\u001b[39m.\u001b[39mensure_initialized()\n\u001b[1;32m---> 54\u001b[0m   tensors \u001b[39m=\u001b[39m pywrap_tfe\u001b[39m.\u001b[39;49mTFE_Py_Execute(ctx\u001b[39m.\u001b[39;49m_handle, device_name, op_name,\n\u001b[0;32m     55\u001b[0m                                       inputs, attrs, num_outputs)\n\u001b[0;32m     56\u001b[0m \u001b[39mexcept\u001b[39;00m core\u001b[39m.\u001b[39m_NotOkStatusException \u001b[39mas\u001b[39;00m e:\n\u001b[0;32m     57\u001b[0m   \u001b[39mif\u001b[39;00m name \u001b[39mis\u001b[39;00m \u001b[39mnot\u001b[39;00m \u001b[39mNone\u001b[39;00m:\n",
      "\u001b[1;31mKeyboardInterrupt\u001b[0m: "
     ]
    }
   ],
   "source": [
    "\n",
    "# perform the grid search\n",
    "grid = GridSearchCV(estimator=model, \n",
    "                    param_grid=param_grid, \n",
    "                    scoring=scoring,\n",
    "                    cv=5, \n",
    "                    n_jobs=1)\n",
    "grid_result = grid.fit(X_train, y_train)\n",
    "\n",
    "# print results\n",
    "print(\"Best parameters: \", grid_result.best_params_)\n",
    "print(\"Best MSE: \", abs(grid_result.best_score_))"
   ]
  },
  {
   "attachments": {},
   "cell_type": "markdown",
   "metadata": {},
   "source": [
    "Best parameters:  {'batch_size': 1, 'epochs': 10, 'n_units': 128}\n",
    "Best MSE:  0.586749796456449"
   ]
  },
  {
   "cell_type": "code",
   "execution_count": 372,
   "metadata": {},
   "outputs": [
    {
     "ename": "NameError",
     "evalue": "name 'grid_result' is not defined",
     "output_type": "error",
     "traceback": [
      "\u001b[1;31m---------------------------------------------------------------------------\u001b[0m",
      "\u001b[1;31mNameError\u001b[0m                                 Traceback (most recent call last)",
      "Cell \u001b[1;32mIn[372], line 1\u001b[0m\n\u001b[1;32m----> 1\u001b[0m best_model \u001b[39m=\u001b[39m grid_result\u001b[39m.\u001b[39mbest_estimator_\n",
      "\u001b[1;31mNameError\u001b[0m: name 'grid_result' is not defined"
     ]
    }
   ],
   "source": [
    "best_model = grid_result.best_estimator_"
   ]
  },
  {
   "cell_type": "code",
   "execution_count": null,
   "metadata": {},
   "outputs": [
    {
     "name": "stdout",
     "output_type": "stream",
     "text": [
      "Epoch 1/10\n",
      "1391/1391 [==============================] - 27s 19ms/step - loss: 35.9381\n",
      "Epoch 2/10\n",
      "1391/1391 [==============================] - 23s 16ms/step - loss: 0.6801\n",
      "Epoch 3/10\n",
      "1391/1391 [==============================] - 23s 16ms/step - loss: 0.6746\n",
      "Epoch 4/10\n",
      "1391/1391 [==============================] - 23s 17ms/step - loss: 0.6653\n",
      "Epoch 5/10\n",
      "1391/1391 [==============================] - 24s 17ms/step - loss: 0.6709\n",
      "Epoch 6/10\n",
      "1391/1391 [==============================] - 23s 16ms/step - loss: 0.6658\n",
      "Epoch 7/10\n",
      "1391/1391 [==============================] - 23s 16ms/step - loss: 0.6487\n",
      "Epoch 8/10\n",
      "1391/1391 [==============================] - 23s 16ms/step - loss: 0.6143\n",
      "Epoch 9/10\n",
      "1391/1391 [==============================] - 23s 16ms/step - loss: 0.5736\n",
      "Epoch 10/10\n",
      "1391/1391 [==============================] - 23s 16ms/step - loss: 0.5569\n"
     ]
    },
    {
     "data": {
      "text/plain": [
       "<keras.callbacks.History at 0x1c42953be20>"
      ]
     },
     "execution_count": 110,
     "metadata": {},
     "output_type": "execute_result"
    }
   ],
   "source": [
    "# fit the model\n",
    "best_model.fit(X_train, y_train)"
   ]
  },
  {
   "cell_type": "code",
   "execution_count": 112,
   "metadata": {},
   "outputs": [
    {
     "name": "stdout",
     "output_type": "stream",
     "text": [
      "348/348 [==============================] - 3s 8ms/step\n",
      "predicted results: [[51.40367    -0.10463642  2.0250916 ]\n",
      " [51.40492    -0.10256998  3.502437  ]\n",
      " [51.38947    -0.10985653  1.854328  ]\n",
      " [51.358753   -0.1026005   1.9126248 ]\n",
      " [51.387424   -0.10997765  1.9385458 ]]\n",
      "actual results: [[[51.510671 -0.084284  2.      ]]\n",
      "\n",
      " [[51.515894 -0.075922  6.      ]]\n",
      "\n",
      " [[51.514457 -0.073849  1.      ]]\n",
      "\n",
      " [[51.512598 -0.084967  1.      ]]\n",
      "\n",
      " [[51.510961 -0.10269   2.      ]]]\n"
     ]
    }
   ],
   "source": [
    "# make predictions\n",
    "y_pred = best_model.predict(X_test)\n",
    "# show the first 5 predictions\n",
    "print(\"predicted results:\", y_pred[:5])\n",
    "\n",
    "# real results\n",
    "print(\"actual results:\", y_test[:5])"
   ]
  },
  {
   "cell_type": "code",
   "execution_count": 88,
   "metadata": {},
   "outputs": [],
   "source": [
    "# # calculate the distance between the predicted and actual long and lat results using geodesic \n",
    "# def calculate_distance(y_pred, y_test):\n",
    "#     distance = []\n",
    "#     for i in range(len(y_pred)):\n",
    "#         distance.append(geodesic((y_pred[i][0], y_pred[i][1]), (y_test[i][0], y_test[i][1])).meters)\n",
    "#     return distance\n",
    "\n",
    "# # calculate the distance between the predicted and actual long and lat results using geodesic\n",
    "# distance = calculate_distance(y_pred, y_test_2d)"
   ]
  }
 ],
 "metadata": {
  "kernelspec": {
   "display_name": "ai",
   "language": "python",
   "name": "python3"
  },
  "language_info": {
   "codemirror_mode": {
    "name": "ipython",
    "version": 3
   },
   "file_extension": ".py",
   "mimetype": "text/x-python",
   "name": "python",
   "nbconvert_exporter": "python",
   "pygments_lexer": "ipython3",
   "version": "3.9.16"
  },
  "orig_nbformat": 4
 },
 "nbformat": 4,
 "nbformat_minor": 2
}
