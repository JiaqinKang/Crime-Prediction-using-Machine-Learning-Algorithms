{
 "cells": [
  {
   "cell_type": "code",
   "execution_count": 1,
   "metadata": {},
   "outputs": [],
   "source": [
    "# import libraries \n",
    "import pandas as pd"
   ]
  },
  {
   "cell_type": "code",
   "execution_count": 2,
   "metadata": {},
   "outputs": [],
   "source": [
    "# read the data\n",
    "df = pd.read_csv(\"seventhClean.csv\",date_parser=['Date'])\n",
    "\n",
    "# drop the first column\n",
    "df.drop(df.columns[0], axis=1, inplace=True)"
   ]
  },
  {
   "attachments": {},
   "cell_type": "markdown",
   "metadata": {},
   "source": [
    "<li>Date</li>\n",
    "<li>Latitude</li>\n",
    "<li>Longitude</li>\n",
    "<li>Time difference(seconds)</li>"
   ]
  },
  {
   "cell_type": "code",
   "execution_count": 3,
   "metadata": {},
   "outputs": [
    {
     "data": {
      "text/html": [
       "<div>\n",
       "<style scoped>\n",
       "    .dataframe tbody tr th:only-of-type {\n",
       "        vertical-align: middle;\n",
       "    }\n",
       "\n",
       "    .dataframe tbody tr th {\n",
       "        vertical-align: top;\n",
       "    }\n",
       "\n",
       "    .dataframe thead th {\n",
       "        text-align: right;\n",
       "    }\n",
       "</style>\n",
       "<table border=\"1\" class=\"dataframe\">\n",
       "  <thead>\n",
       "    <tr style=\"text-align: right;\">\n",
       "      <th></th>\n",
       "      <th>Date</th>\n",
       "      <th>Latitude</th>\n",
       "      <th>Longitude</th>\n",
       "      <th>Time difference</th>\n",
       "    </tr>\n",
       "  </thead>\n",
       "  <tbody>\n",
       "    <tr>\n",
       "      <th>0</th>\n",
       "      <td>2019-12-03 09:48:08+00:00</td>\n",
       "      <td>51.517431</td>\n",
       "      <td>-0.082458</td>\n",
       "      <td>61518.0</td>\n",
       "    </tr>\n",
       "    <tr>\n",
       "      <th>1</th>\n",
       "      <td>2019-12-04 02:53:26+00:00</td>\n",
       "      <td>51.516814</td>\n",
       "      <td>-0.081620</td>\n",
       "      <td>1351.0</td>\n",
       "    </tr>\n",
       "    <tr>\n",
       "      <th>2</th>\n",
       "      <td>2019-12-04 03:15:57+00:00</td>\n",
       "      <td>51.513114</td>\n",
       "      <td>-0.086272</td>\n",
       "      <td>12022.0</td>\n",
       "    </tr>\n",
       "    <tr>\n",
       "      <th>3</th>\n",
       "      <td>2019-12-04 06:36:19+00:00</td>\n",
       "      <td>51.518060</td>\n",
       "      <td>-0.110683</td>\n",
       "      <td>21659.0</td>\n",
       "    </tr>\n",
       "    <tr>\n",
       "      <th>4</th>\n",
       "      <td>2019-12-04 12:37:18+00:00</td>\n",
       "      <td>51.517680</td>\n",
       "      <td>-0.078484</td>\n",
       "      <td>63350.0</td>\n",
       "    </tr>\n",
       "  </tbody>\n",
       "</table>\n",
       "</div>"
      ],
      "text/plain": [
       "                        Date   Latitude  Longitude  Time difference\n",
       "0  2019-12-03 09:48:08+00:00  51.517431  -0.082458          61518.0\n",
       "1  2019-12-04 02:53:26+00:00  51.516814  -0.081620           1351.0\n",
       "2  2019-12-04 03:15:57+00:00  51.513114  -0.086272          12022.0\n",
       "3  2019-12-04 06:36:19+00:00  51.518060  -0.110683          21659.0\n",
       "4  2019-12-04 12:37:18+00:00  51.517680  -0.078484          63350.0"
      ]
     },
     "execution_count": 3,
     "metadata": {},
     "output_type": "execute_result"
    }
   ],
   "source": [
    "df.head()"
   ]
  },
  {
   "cell_type": "code",
   "execution_count": 4,
   "metadata": {},
   "outputs": [
    {
     "data": {
      "text/html": [
       "<div>\n",
       "<style scoped>\n",
       "    .dataframe tbody tr th:only-of-type {\n",
       "        vertical-align: middle;\n",
       "    }\n",
       "\n",
       "    .dataframe tbody tr th {\n",
       "        vertical-align: top;\n",
       "    }\n",
       "\n",
       "    .dataframe thead th {\n",
       "        text-align: right;\n",
       "    }\n",
       "</style>\n",
       "<table border=\"1\" class=\"dataframe\">\n",
       "  <thead>\n",
       "    <tr style=\"text-align: right;\">\n",
       "      <th></th>\n",
       "      <th>Latitude</th>\n",
       "      <th>Longitude</th>\n",
       "      <th>Time difference</th>\n",
       "    </tr>\n",
       "  </thead>\n",
       "  <tbody>\n",
       "    <tr>\n",
       "      <th>count</th>\n",
       "      <td>1333.000000</td>\n",
       "      <td>1333.000000</td>\n",
       "      <td>1332.000000</td>\n",
       "    </tr>\n",
       "    <tr>\n",
       "      <th>mean</th>\n",
       "      <td>51.514669</td>\n",
       "      <td>-0.086765</td>\n",
       "      <td>70678.316817</td>\n",
       "    </tr>\n",
       "    <tr>\n",
       "      <th>std</th>\n",
       "      <td>0.005592</td>\n",
       "      <td>0.012269</td>\n",
       "      <td>98584.496219</td>\n",
       "    </tr>\n",
       "    <tr>\n",
       "      <th>min</th>\n",
       "      <td>51.503196</td>\n",
       "      <td>-0.127032</td>\n",
       "      <td>0.000000</td>\n",
       "    </tr>\n",
       "    <tr>\n",
       "      <th>25%</th>\n",
       "      <td>51.511794</td>\n",
       "      <td>-0.094720</td>\n",
       "      <td>3873.500000</td>\n",
       "    </tr>\n",
       "    <tr>\n",
       "      <th>50%</th>\n",
       "      <td>51.514457</td>\n",
       "      <td>-0.084701</td>\n",
       "      <td>29088.000000</td>\n",
       "    </tr>\n",
       "    <tr>\n",
       "      <th>75%</th>\n",
       "      <td>51.517032</td>\n",
       "      <td>-0.078484</td>\n",
       "      <td>88748.750000</td>\n",
       "    </tr>\n",
       "    <tr>\n",
       "      <th>max</th>\n",
       "      <td>51.592365</td>\n",
       "      <td>0.004717</td>\n",
       "      <td>768764.000000</td>\n",
       "    </tr>\n",
       "  </tbody>\n",
       "</table>\n",
       "</div>"
      ],
      "text/plain": [
       "          Latitude    Longitude  Time difference\n",
       "count  1333.000000  1333.000000      1332.000000\n",
       "mean     51.514669    -0.086765     70678.316817\n",
       "std       0.005592     0.012269     98584.496219\n",
       "min      51.503196    -0.127032         0.000000\n",
       "25%      51.511794    -0.094720      3873.500000\n",
       "50%      51.514457    -0.084701     29088.000000\n",
       "75%      51.517032    -0.078484     88748.750000\n",
       "max      51.592365     0.004717    768764.000000"
      ]
     },
     "execution_count": 4,
     "metadata": {},
     "output_type": "execute_result"
    }
   ],
   "source": [
    "df.describe()"
   ]
  },
  {
   "cell_type": "code",
   "execution_count": 5,
   "metadata": {},
   "outputs": [
    {
     "data": {
      "text/plain": [
       "Date               0\n",
       "Latitude           0\n",
       "Longitude          0\n",
       "Time difference    1\n",
       "dtype: int64"
      ]
     },
     "execution_count": 5,
     "metadata": {},
     "output_type": "execute_result"
    }
   ],
   "source": [
    "# check for null values\n",
    "df.isnull().sum()"
   ]
  },
  {
   "cell_type": "code",
   "execution_count": 6,
   "metadata": {},
   "outputs": [
    {
     "data": {
      "text/html": [
       "<div>\n",
       "<style scoped>\n",
       "    .dataframe tbody tr th:only-of-type {\n",
       "        vertical-align: middle;\n",
       "    }\n",
       "\n",
       "    .dataframe tbody tr th {\n",
       "        vertical-align: top;\n",
       "    }\n",
       "\n",
       "    .dataframe thead th {\n",
       "        text-align: right;\n",
       "    }\n",
       "</style>\n",
       "<table border=\"1\" class=\"dataframe\">\n",
       "  <thead>\n",
       "    <tr style=\"text-align: right;\">\n",
       "      <th></th>\n",
       "      <th>Date</th>\n",
       "      <th>Latitude</th>\n",
       "      <th>Longitude</th>\n",
       "      <th>Time difference</th>\n",
       "    </tr>\n",
       "  </thead>\n",
       "  <tbody>\n",
       "    <tr>\n",
       "      <th>0</th>\n",
       "      <td>2019-12-03 09:48:08+00:00</td>\n",
       "      <td>51.517431</td>\n",
       "      <td>-0.082458</td>\n",
       "      <td>NaN</td>\n",
       "    </tr>\n",
       "    <tr>\n",
       "      <th>1</th>\n",
       "      <td>2019-12-04 02:53:26+00:00</td>\n",
       "      <td>51.516814</td>\n",
       "      <td>-0.081620</td>\n",
       "      <td>61518.0</td>\n",
       "    </tr>\n",
       "    <tr>\n",
       "      <th>2</th>\n",
       "      <td>2019-12-04 03:15:57+00:00</td>\n",
       "      <td>51.513114</td>\n",
       "      <td>-0.086272</td>\n",
       "      <td>1351.0</td>\n",
       "    </tr>\n",
       "    <tr>\n",
       "      <th>3</th>\n",
       "      <td>2019-12-04 06:36:19+00:00</td>\n",
       "      <td>51.518060</td>\n",
       "      <td>-0.110683</td>\n",
       "      <td>12022.0</td>\n",
       "    </tr>\n",
       "    <tr>\n",
       "      <th>4</th>\n",
       "      <td>2019-12-04 12:37:18+00:00</td>\n",
       "      <td>51.517680</td>\n",
       "      <td>-0.078484</td>\n",
       "      <td>21659.0</td>\n",
       "    </tr>\n",
       "  </tbody>\n",
       "</table>\n",
       "</div>"
      ],
      "text/plain": [
       "                        Date   Latitude  Longitude  Time difference\n",
       "0  2019-12-03 09:48:08+00:00  51.517431  -0.082458              NaN\n",
       "1  2019-12-04 02:53:26+00:00  51.516814  -0.081620          61518.0\n",
       "2  2019-12-04 03:15:57+00:00  51.513114  -0.086272           1351.0\n",
       "3  2019-12-04 06:36:19+00:00  51.518060  -0.110683          12022.0\n",
       "4  2019-12-04 12:37:18+00:00  51.517680  -0.078484          21659.0"
      ]
     },
     "execution_count": 6,
     "metadata": {},
     "output_type": "execute_result"
    }
   ],
   "source": [
    "# shift time difference rows by 1\n",
    "df['Time difference'] = df['Time difference'].shift(1)\n",
    "df.head()"
   ]
  },
  {
   "cell_type": "code",
   "execution_count": 7,
   "metadata": {},
   "outputs": [],
   "source": [
    "# drop the first row\n",
    "df.drop(df.index[0], inplace=True)"
   ]
  },
  {
   "cell_type": "code",
   "execution_count": 8,
   "metadata": {},
   "outputs": [
    {
     "data": {
      "text/html": [
       "<div>\n",
       "<style scoped>\n",
       "    .dataframe tbody tr th:only-of-type {\n",
       "        vertical-align: middle;\n",
       "    }\n",
       "\n",
       "    .dataframe tbody tr th {\n",
       "        vertical-align: top;\n",
       "    }\n",
       "\n",
       "    .dataframe thead th {\n",
       "        text-align: right;\n",
       "    }\n",
       "</style>\n",
       "<table border=\"1\" class=\"dataframe\">\n",
       "  <thead>\n",
       "    <tr style=\"text-align: right;\">\n",
       "      <th></th>\n",
       "      <th>Date</th>\n",
       "      <th>Latitude</th>\n",
       "      <th>Longitude</th>\n",
       "      <th>Time difference</th>\n",
       "    </tr>\n",
       "  </thead>\n",
       "  <tbody>\n",
       "    <tr>\n",
       "      <th>1</th>\n",
       "      <td>2019-12-04 02:53:26+00:00</td>\n",
       "      <td>51.516814</td>\n",
       "      <td>-0.081620</td>\n",
       "      <td>61518.0</td>\n",
       "    </tr>\n",
       "    <tr>\n",
       "      <th>2</th>\n",
       "      <td>2019-12-04 03:15:57+00:00</td>\n",
       "      <td>51.513114</td>\n",
       "      <td>-0.086272</td>\n",
       "      <td>1351.0</td>\n",
       "    </tr>\n",
       "    <tr>\n",
       "      <th>3</th>\n",
       "      <td>2019-12-04 06:36:19+00:00</td>\n",
       "      <td>51.518060</td>\n",
       "      <td>-0.110683</td>\n",
       "      <td>12022.0</td>\n",
       "    </tr>\n",
       "    <tr>\n",
       "      <th>4</th>\n",
       "      <td>2019-12-04 12:37:18+00:00</td>\n",
       "      <td>51.517680</td>\n",
       "      <td>-0.078484</td>\n",
       "      <td>21659.0</td>\n",
       "    </tr>\n",
       "    <tr>\n",
       "      <th>5</th>\n",
       "      <td>2019-12-05 06:13:08+00:00</td>\n",
       "      <td>51.516814</td>\n",
       "      <td>-0.081620</td>\n",
       "      <td>63350.0</td>\n",
       "    </tr>\n",
       "  </tbody>\n",
       "</table>\n",
       "</div>"
      ],
      "text/plain": [
       "                        Date   Latitude  Longitude  Time difference\n",
       "1  2019-12-04 02:53:26+00:00  51.516814  -0.081620          61518.0\n",
       "2  2019-12-04 03:15:57+00:00  51.513114  -0.086272           1351.0\n",
       "3  2019-12-04 06:36:19+00:00  51.518060  -0.110683          12022.0\n",
       "4  2019-12-04 12:37:18+00:00  51.517680  -0.078484          21659.0\n",
       "5  2019-12-05 06:13:08+00:00  51.516814  -0.081620          63350.0"
      ]
     },
     "execution_count": 8,
     "metadata": {},
     "output_type": "execute_result"
    }
   ],
   "source": [
    "df.head()"
   ]
  },
  {
   "cell_type": "code",
   "execution_count": 9,
   "metadata": {},
   "outputs": [],
   "source": [
    "import sklearn\n",
    "from sklearn.preprocessing import StandardScaler\n",
    "scaler = StandardScaler()"
   ]
  },
  {
   "cell_type": "code",
   "execution_count": 10,
   "metadata": {},
   "outputs": [
    {
     "name": "stdout",
     "output_type": "stream",
     "text": [
      "(1332, 3)\n",
      "(1332, 3)\n"
     ]
    }
   ],
   "source": [
    "# define x and y \n",
    "x = df.drop(['Date'], axis=1)\n",
    "# y with latitude and longitude and time\n",
    "y = df[['Latitude','Longitude','Time difference']]\n",
    "print(x.shape)\n",
    "print(y.shape)"
   ]
  },
  {
   "cell_type": "code",
   "execution_count": 11,
   "metadata": {},
   "outputs": [],
   "source": [
    "# scale the data\n",
    "x_scaled = scaler.fit_transform(x)\n",
    "y_scaled = scaler.fit_transform(y)"
   ]
  },
  {
   "cell_type": "code",
   "execution_count": 12,
   "metadata": {},
   "outputs": [
    {
     "name": "stdout",
     "output_type": "stream",
     "text": [
      "(1332, 3)\n",
      "(1332, 3)\n"
     ]
    }
   ],
   "source": [
    "print(x.shape)\n",
    "print(y.shape)"
   ]
  },
  {
   "cell_type": "code",
   "execution_count": 13,
   "metadata": {},
   "outputs": [
    {
     "data": {
      "text/html": [
       "<div>\n",
       "<style scoped>\n",
       "    .dataframe tbody tr th:only-of-type {\n",
       "        vertical-align: middle;\n",
       "    }\n",
       "\n",
       "    .dataframe tbody tr th {\n",
       "        vertical-align: top;\n",
       "    }\n",
       "\n",
       "    .dataframe thead th {\n",
       "        text-align: right;\n",
       "    }\n",
       "</style>\n",
       "<table border=\"1\" class=\"dataframe\">\n",
       "  <thead>\n",
       "    <tr style=\"text-align: right;\">\n",
       "      <th></th>\n",
       "      <th>Latitude</th>\n",
       "      <th>Longitude</th>\n",
       "      <th>Time difference</th>\n",
       "    </tr>\n",
       "  </thead>\n",
       "  <tbody>\n",
       "    <tr>\n",
       "      <th>1</th>\n",
       "      <td>51.516814</td>\n",
       "      <td>-0.081620</td>\n",
       "      <td>61518.0</td>\n",
       "    </tr>\n",
       "    <tr>\n",
       "      <th>2</th>\n",
       "      <td>51.513114</td>\n",
       "      <td>-0.086272</td>\n",
       "      <td>1351.0</td>\n",
       "    </tr>\n",
       "    <tr>\n",
       "      <th>3</th>\n",
       "      <td>51.518060</td>\n",
       "      <td>-0.110683</td>\n",
       "      <td>12022.0</td>\n",
       "    </tr>\n",
       "    <tr>\n",
       "      <th>4</th>\n",
       "      <td>51.517680</td>\n",
       "      <td>-0.078484</td>\n",
       "      <td>21659.0</td>\n",
       "    </tr>\n",
       "    <tr>\n",
       "      <th>5</th>\n",
       "      <td>51.516814</td>\n",
       "      <td>-0.081620</td>\n",
       "      <td>63350.0</td>\n",
       "    </tr>\n",
       "  </tbody>\n",
       "</table>\n",
       "</div>"
      ],
      "text/plain": [
       "    Latitude  Longitude  Time difference\n",
       "1  51.516814  -0.081620          61518.0\n",
       "2  51.513114  -0.086272           1351.0\n",
       "3  51.518060  -0.110683          12022.0\n",
       "4  51.517680  -0.078484          21659.0\n",
       "5  51.516814  -0.081620          63350.0"
      ]
     },
     "execution_count": 13,
     "metadata": {},
     "output_type": "execute_result"
    }
   ],
   "source": [
    "# print x.head()\n",
    "x.head()"
   ]
  },
  {
   "cell_type": "code",
   "execution_count": 14,
   "metadata": {},
   "outputs": [
    {
     "data": {
      "text/html": [
       "<div>\n",
       "<style scoped>\n",
       "    .dataframe tbody tr th:only-of-type {\n",
       "        vertical-align: middle;\n",
       "    }\n",
       "\n",
       "    .dataframe tbody tr th {\n",
       "        vertical-align: top;\n",
       "    }\n",
       "\n",
       "    .dataframe thead th {\n",
       "        text-align: right;\n",
       "    }\n",
       "</style>\n",
       "<table border=\"1\" class=\"dataframe\">\n",
       "  <thead>\n",
       "    <tr style=\"text-align: right;\">\n",
       "      <th></th>\n",
       "      <th>Latitude</th>\n",
       "      <th>Longitude</th>\n",
       "      <th>Time difference</th>\n",
       "    </tr>\n",
       "  </thead>\n",
       "  <tbody>\n",
       "    <tr>\n",
       "      <th>1</th>\n",
       "      <td>51.516814</td>\n",
       "      <td>-0.081620</td>\n",
       "      <td>61518.0</td>\n",
       "    </tr>\n",
       "    <tr>\n",
       "      <th>2</th>\n",
       "      <td>51.513114</td>\n",
       "      <td>-0.086272</td>\n",
       "      <td>1351.0</td>\n",
       "    </tr>\n",
       "    <tr>\n",
       "      <th>3</th>\n",
       "      <td>51.518060</td>\n",
       "      <td>-0.110683</td>\n",
       "      <td>12022.0</td>\n",
       "    </tr>\n",
       "    <tr>\n",
       "      <th>4</th>\n",
       "      <td>51.517680</td>\n",
       "      <td>-0.078484</td>\n",
       "      <td>21659.0</td>\n",
       "    </tr>\n",
       "    <tr>\n",
       "      <th>5</th>\n",
       "      <td>51.516814</td>\n",
       "      <td>-0.081620</td>\n",
       "      <td>63350.0</td>\n",
       "    </tr>\n",
       "  </tbody>\n",
       "</table>\n",
       "</div>"
      ],
      "text/plain": [
       "    Latitude  Longitude  Time difference\n",
       "1  51.516814  -0.081620          61518.0\n",
       "2  51.513114  -0.086272           1351.0\n",
       "3  51.518060  -0.110683          12022.0\n",
       "4  51.517680  -0.078484          21659.0\n",
       "5  51.516814  -0.081620          63350.0"
      ]
     },
     "execution_count": 14,
     "metadata": {},
     "output_type": "execute_result"
    }
   ],
   "source": [
    "# print y.head()\n",
    "y.head()"
   ]
  },
  {
   "cell_type": "code",
   "execution_count": 15,
   "metadata": {},
   "outputs": [],
   "source": [
    "import numpy as np\n",
    "np.set_printoptions(suppress=True) # avoid scientific notation in numpy array so that it is easier to read and understand"
   ]
  },
  {
   "cell_type": "code",
   "execution_count": 16,
   "metadata": {},
   "outputs": [],
   "source": [
    "def create_dataset(x,y,time_steps=1):\n",
    "    Xs,ys = [],[]\n",
    "    for i in range(len(x)-time_steps):\n",
    "        v = x[i:(i+time_steps)]\n",
    "        Xs.append(v)\n",
    "        ys.append(y[i+time_steps])\n",
    "    return np.array(Xs), np.array(ys)"
   ]
  },
  {
   "cell_type": "code",
   "execution_count": 17,
   "metadata": {},
   "outputs": [],
   "source": [
    "# create the dataset\n",
    "time_steps = 10\n",
    "X, Y = create_dataset(x_scaled, y_scaled, time_steps)"
   ]
  },
  {
   "cell_type": "code",
   "execution_count": 18,
   "metadata": {},
   "outputs": [
    {
     "name": "stdout",
     "output_type": "stream",
     "text": [
      "(1322, 10, 3)\n",
      "(1322, 3)\n"
     ]
    }
   ],
   "source": [
    "print(X.shape)\n",
    "print(Y.shape)"
   ]
  },
  {
   "cell_type": "code",
   "execution_count": 19,
   "metadata": {},
   "outputs": [
    {
     "name": "stdout",
     "output_type": "stream",
     "text": [
      "[[[ 0.3839403   0.41961434 -0.09295333]\n",
      "  [-0.27780743  0.04043452 -0.7034915 ]\n",
      "  [ 0.60678832 -1.94928144 -0.59520867]\n",
      "  [ 0.53882504  0.67522653 -0.49741825]\n",
      "  [ 0.3839403   0.41961434 -0.07436331]\n",
      "  [ 0.42292976 -0.21868256  0.90949744]\n",
      "  [ 0.42292976 -0.21868256 -0.70599791]\n",
      "  [-0.27458811 -0.32130238 -0.5443195 ]\n",
      "  [ 0.07291887  0.75437176  1.19300544]\n",
      "  [-0.28907502 -1.40463837  0.15000569]]]\n",
      "[[0.3839403  0.41961434 0.9925234 ]]\n"
     ]
    }
   ],
   "source": [
    "# print the first 1 rows of the dataset\n",
    "print(X[0:1])\n",
    "print(Y[0:1])"
   ]
  },
  {
   "cell_type": "code",
   "execution_count": 20,
   "metadata": {},
   "outputs": [],
   "source": [
    "# transform Y to 3Dimensional\n",
    "Y = Y.reshape(Y.shape[0], Y.shape[1], 1)"
   ]
  },
  {
   "cell_type": "code",
   "execution_count": 21,
   "metadata": {},
   "outputs": [
    {
     "name": "stdout",
     "output_type": "stream",
     "text": [
      "(1322, 3, 1)\n"
     ]
    }
   ],
   "source": [
    "print(Y.shape)"
   ]
  },
  {
   "cell_type": "code",
   "execution_count": 22,
   "metadata": {},
   "outputs": [],
   "source": [
    "# split the dataset into train and test\n",
    "from sklearn.model_selection import train_test_split\n",
    "X_train, X_test, y_train, y_test = train_test_split(X, Y, test_size=0.2, random_state=42)"
   ]
  },
  {
   "cell_type": "code",
   "execution_count": 23,
   "metadata": {},
   "outputs": [],
   "source": [
    "# create lstm model\n",
    "import keras\n",
    "from tensorflow.keras import layers\n",
    "from tensorflow.keras import models"
   ]
  },
  {
   "cell_type": "code",
   "execution_count": 24,
   "metadata": {},
   "outputs": [],
   "source": [
    "def create_model():\n",
    "    model = models.Sequential()\n",
    "    model.add(layers.LSTM(512, return_sequences=True, input_shape=(X_train.shape[1], X_train.shape[2])))\n",
    "    model.add(layers.LSTM(512, return_sequences=True))\n",
    "    model.add(layers.LSTM(128))\n",
    "    model.add(layers.Dense(3))\n",
    "    model.compile(optimizer='rmsprop', loss='mse', metrics=['mae'])\n",
    "    return model\n"
   ]
  },
  {
   "cell_type": "code",
   "execution_count": 25,
   "metadata": {},
   "outputs": [
    {
     "name": "stdout",
     "output_type": "stream",
     "text": [
      "Model: \"sequential\"\n",
      "_________________________________________________________________\n",
      " Layer (type)                Output Shape              Param #   \n",
      "=================================================================\n",
      " lstm (LSTM)                 (None, 10, 512)           1056768   \n",
      "                                                                 \n",
      " lstm_1 (LSTM)               (None, 10, 512)           2099200   \n",
      "                                                                 \n",
      " lstm_2 (LSTM)               (None, 128)               328192    \n",
      "                                                                 \n",
      " dense (Dense)               (None, 3)                 387       \n",
      "                                                                 \n",
      "=================================================================\n",
      "Total params: 3,484,547\n",
      "Trainable params: 3,484,547\n",
      "Non-trainable params: 0\n",
      "_________________________________________________________________\n"
     ]
    }
   ],
   "source": [
    "# model summary\n",
    "model = create_model()"
   ]
  },
  {
   "cell_type": "code",
   "execution_count": 26,
   "metadata": {},
   "outputs": [
    {
     "name": "stdout",
     "output_type": "stream",
     "text": [
      "Epoch 1/90\n",
      "3/3 [==============================] - 5s 404ms/step - loss: 1.1093 - mae: 0.7304 - val_loss: 0.7735 - val_mae: 0.6490\n",
      "Epoch 2/90\n",
      "3/3 [==============================] - 0s 30ms/step - loss: 1.0668 - mae: 0.7075 - val_loss: 0.7852 - val_mae: 0.6473\n",
      "Epoch 3/90\n",
      "3/3 [==============================] - 0s 30ms/step - loss: 1.0661 - mae: 0.7117 - val_loss: 0.7698 - val_mae: 0.6472\n",
      "Epoch 4/90\n",
      "3/3 [==============================] - 0s 30ms/step - loss: 1.0588 - mae: 0.7100 - val_loss: 0.7682 - val_mae: 0.6425\n",
      "Epoch 5/90\n",
      "3/3 [==============================] - 0s 30ms/step - loss: 1.0562 - mae: 0.7024 - val_loss: 0.7682 - val_mae: 0.6377\n",
      "Epoch 6/90\n",
      "3/3 [==============================] - 0s 31ms/step - loss: 1.0541 - mae: 0.6983 - val_loss: 0.7991 - val_mae: 0.6527\n",
      "Epoch 7/90\n",
      "3/3 [==============================] - 0s 30ms/step - loss: 1.0562 - mae: 0.7072 - val_loss: 0.7805 - val_mae: 0.6529\n",
      "Epoch 8/90\n",
      "3/3 [==============================] - 0s 35ms/step - loss: 1.0479 - mae: 0.7079 - val_loss: 0.7643 - val_mae: 0.6436\n",
      "Epoch 9/90\n",
      "3/3 [==============================] - 0s 30ms/step - loss: 1.0579 - mae: 0.7068 - val_loss: 0.7626 - val_mae: 0.6393\n",
      "Epoch 10/90\n",
      "3/3 [==============================] - 0s 31ms/step - loss: 1.0502 - mae: 0.7009 - val_loss: 0.9066 - val_mae: 0.7046\n",
      "Epoch 11/90\n",
      "3/3 [==============================] - 0s 32ms/step - loss: 1.0957 - mae: 0.7373 - val_loss: 0.7752 - val_mae: 0.6510\n",
      "Epoch 12/90\n",
      "3/3 [==============================] - 0s 31ms/step - loss: 1.0488 - mae: 0.7079 - val_loss: 0.7678 - val_mae: 0.6465\n",
      "Epoch 13/90\n",
      "3/3 [==============================] - 0s 30ms/step - loss: 1.0432 - mae: 0.7059 - val_loss: 0.7765 - val_mae: 0.6544\n",
      "Epoch 14/90\n",
      "3/3 [==============================] - 0s 31ms/step - loss: 1.0484 - mae: 0.7122 - val_loss: 0.7741 - val_mae: 0.6522\n",
      "Epoch 15/90\n",
      "3/3 [==============================] - 0s 30ms/step - loss: 1.0466 - mae: 0.7092 - val_loss: 0.7817 - val_mae: 0.6564\n",
      "Epoch 16/90\n",
      "3/3 [==============================] - 0s 31ms/step - loss: 1.0438 - mae: 0.7118 - val_loss: 0.7701 - val_mae: 0.6491\n",
      "Epoch 17/90\n",
      "3/3 [==============================] - 0s 31ms/step - loss: 1.0388 - mae: 0.7070 - val_loss: 0.7845 - val_mae: 0.6543\n",
      "Epoch 18/90\n",
      "3/3 [==============================] - 0s 32ms/step - loss: 1.0412 - mae: 0.7099 - val_loss: 0.7710 - val_mae: 0.6433\n",
      "Epoch 19/90\n",
      "3/3 [==============================] - 0s 36ms/step - loss: 1.0372 - mae: 0.6998 - val_loss: 0.7740 - val_mae: 0.6462\n",
      "Epoch 20/90\n",
      "3/3 [==============================] - 0s 31ms/step - loss: 1.0424 - mae: 0.7015 - val_loss: 0.7670 - val_mae: 0.6464\n",
      "Epoch 21/90\n",
      "3/3 [==============================] - 0s 31ms/step - loss: 1.0386 - mae: 0.7063 - val_loss: 0.7976 - val_mae: 0.6597\n",
      "Epoch 22/90\n",
      "3/3 [==============================] - 0s 30ms/step - loss: 1.0368 - mae: 0.7103 - val_loss: 0.7636 - val_mae: 0.6428\n",
      "Epoch 23/90\n",
      "3/3 [==============================] - 0s 29ms/step - loss: 1.0421 - mae: 0.7016 - val_loss: 0.7600 - val_mae: 0.6359\n",
      "Epoch 24/90\n",
      "3/3 [==============================] - 0s 31ms/step - loss: 1.0319 - mae: 0.6969 - val_loss: 0.8356 - val_mae: 0.6533\n",
      "Epoch 25/90\n",
      "3/3 [==============================] - 0s 30ms/step - loss: 1.0615 - mae: 0.7005 - val_loss: 0.7680 - val_mae: 0.6466\n",
      "Epoch 26/90\n",
      "3/3 [==============================] - 0s 33ms/step - loss: 1.0211 - mae: 0.6994 - val_loss: 0.8429 - val_mae: 0.6776\n",
      "Epoch 27/90\n",
      "3/3 [==============================] - 0s 34ms/step - loss: 1.0621 - mae: 0.7172 - val_loss: 0.7661 - val_mae: 0.6440\n",
      "Epoch 28/90\n",
      "3/3 [==============================] - 0s 35ms/step - loss: 1.0265 - mae: 0.6975 - val_loss: 0.7764 - val_mae: 0.6522\n",
      "Epoch 29/90\n",
      "3/3 [==============================] - 0s 35ms/step - loss: 1.0350 - mae: 0.7070 - val_loss: 0.8165 - val_mae: 0.6710\n",
      "Epoch 30/90\n",
      "3/3 [==============================] - 0s 32ms/step - loss: 1.0347 - mae: 0.7117 - val_loss: 0.8040 - val_mae: 0.6617\n",
      "Epoch 31/90\n",
      "3/3 [==============================] - 0s 32ms/step - loss: 1.0180 - mae: 0.7036 - val_loss: 0.7788 - val_mae: 0.6510\n",
      "Epoch 32/90\n",
      "3/3 [==============================] - 0s 31ms/step - loss: 1.0280 - mae: 0.6998 - val_loss: 0.8143 - val_mae: 0.6634\n",
      "Epoch 33/90\n",
      "3/3 [==============================] - 0s 30ms/step - loss: 1.0283 - mae: 0.7066 - val_loss: 0.7862 - val_mae: 0.6543\n",
      "Epoch 34/90\n",
      "3/3 [==============================] - 0s 31ms/step - loss: 1.0197 - mae: 0.7018 - val_loss: 0.7819 - val_mae: 0.6512\n",
      "Epoch 35/90\n",
      "3/3 [==============================] - 0s 31ms/step - loss: 1.0096 - mae: 0.6980 - val_loss: 0.8099 - val_mae: 0.6582\n",
      "Epoch 36/90\n",
      "3/3 [==============================] - 0s 30ms/step - loss: 1.0151 - mae: 0.7015 - val_loss: 0.7827 - val_mae: 0.6563\n",
      "Epoch 37/90\n",
      "3/3 [==============================] - 0s 30ms/step - loss: 1.0274 - mae: 0.7046 - val_loss: 0.7806 - val_mae: 0.6566\n",
      "Epoch 38/90\n",
      "3/3 [==============================] - 0s 31ms/step - loss: 1.0233 - mae: 0.7071 - val_loss: 0.7586 - val_mae: 0.6348\n",
      "Epoch 39/90\n",
      "3/3 [==============================] - 0s 35ms/step - loss: 1.0097 - mae: 0.6918 - val_loss: 0.8307 - val_mae: 0.6755\n",
      "Epoch 40/90\n",
      "3/3 [==============================] - 0s 32ms/step - loss: 1.0208 - mae: 0.7080 - val_loss: 0.7713 - val_mae: 0.6513\n",
      "Epoch 41/90\n",
      "3/3 [==============================] - 0s 32ms/step - loss: 1.0009 - mae: 0.7003 - val_loss: 0.7992 - val_mae: 0.6596\n",
      "Epoch 42/90\n",
      "3/3 [==============================] - 0s 31ms/step - loss: 1.0220 - mae: 0.7059 - val_loss: 0.7718 - val_mae: 0.6466\n",
      "Epoch 43/90\n",
      "3/3 [==============================] - 0s 32ms/step - loss: 0.9934 - mae: 0.6947 - val_loss: 1.0338 - val_mae: 0.7240\n",
      "Epoch 44/90\n",
      "3/3 [==============================] - 0s 31ms/step - loss: 1.0837 - mae: 0.7343 - val_loss: 0.7915 - val_mae: 0.6558\n",
      "Epoch 45/90\n",
      "3/3 [==============================] - 0s 32ms/step - loss: 0.9886 - mae: 0.6955 - val_loss: 0.7934 - val_mae: 0.6500\n",
      "Epoch 46/90\n",
      "3/3 [==============================] - 0s 31ms/step - loss: 0.9768 - mae: 0.6904 - val_loss: 0.8102 - val_mae: 0.6551\n",
      "Epoch 47/90\n",
      "3/3 [==============================] - 0s 32ms/step - loss: 0.9733 - mae: 0.6883 - val_loss: 0.7925 - val_mae: 0.6486\n",
      "Epoch 48/90\n",
      "3/3 [==============================] - 0s 30ms/step - loss: 0.9681 - mae: 0.6907 - val_loss: 0.8012 - val_mae: 0.6588\n",
      "Epoch 49/90\n",
      "3/3 [==============================] - 0s 34ms/step - loss: 0.9729 - mae: 0.7001 - val_loss: 0.7854 - val_mae: 0.6465\n",
      "Epoch 50/90\n",
      "3/3 [==============================] - 0s 34ms/step - loss: 0.9716 - mae: 0.6871 - val_loss: 1.0844 - val_mae: 0.7238\n",
      "Epoch 51/90\n",
      "3/3 [==============================] - 0s 33ms/step - loss: 1.0796 - mae: 0.7200 - val_loss: 0.8267 - val_mae: 0.6621\n",
      "Epoch 52/90\n",
      "3/3 [==============================] - 0s 33ms/step - loss: 0.9623 - mae: 0.6903 - val_loss: 0.8563 - val_mae: 0.6730\n",
      "Epoch 53/90\n",
      "3/3 [==============================] - 0s 34ms/step - loss: 0.9643 - mae: 0.6940 - val_loss: 0.8108 - val_mae: 0.6551\n",
      "Epoch 54/90\n",
      "3/3 [==============================] - 0s 33ms/step - loss: 0.9439 - mae: 0.6900 - val_loss: 0.8532 - val_mae: 0.6656\n",
      "Epoch 55/90\n",
      "3/3 [==============================] - 0s 33ms/step - loss: 0.9464 - mae: 0.6912 - val_loss: 0.8172 - val_mae: 0.6601\n",
      "Epoch 56/90\n",
      "3/3 [==============================] - 0s 33ms/step - loss: 0.9306 - mae: 0.6890 - val_loss: 0.8505 - val_mae: 0.6701\n",
      "Epoch 57/90\n",
      "3/3 [==============================] - 0s 33ms/step - loss: 0.9434 - mae: 0.6907 - val_loss: 0.8511 - val_mae: 0.6637\n",
      "Epoch 58/90\n",
      "3/3 [==============================] - 0s 32ms/step - loss: 0.9247 - mae: 0.6868 - val_loss: 0.8147 - val_mae: 0.6620\n",
      "Epoch 59/90\n",
      "3/3 [==============================] - 0s 35ms/step - loss: 0.9765 - mae: 0.6922 - val_loss: 0.7917 - val_mae: 0.6499\n",
      "Epoch 60/90\n",
      "3/3 [==============================] - 0s 32ms/step - loss: 0.9436 - mae: 0.6873 - val_loss: 0.7786 - val_mae: 0.6488\n",
      "Epoch 61/90\n",
      "3/3 [==============================] - 0s 32ms/step - loss: 0.9442 - mae: 0.6882 - val_loss: 0.7773 - val_mae: 0.6463\n",
      "Epoch 62/90\n",
      "3/3 [==============================] - 0s 32ms/step - loss: 0.9243 - mae: 0.6885 - val_loss: 0.7940 - val_mae: 0.6488\n",
      "Epoch 63/90\n",
      "3/3 [==============================] - 0s 31ms/step - loss: 0.9014 - mae: 0.6843 - val_loss: 0.8200 - val_mae: 0.6576\n",
      "Epoch 64/90\n",
      "3/3 [==============================] - 0s 32ms/step - loss: 0.9054 - mae: 0.6839 - val_loss: 1.2636 - val_mae: 0.7539\n",
      "Epoch 65/90\n",
      "3/3 [==============================] - 0s 31ms/step - loss: 1.2099 - mae: 0.7424 - val_loss: 0.8299 - val_mae: 0.6553\n",
      "Epoch 66/90\n",
      "3/3 [==============================] - 0s 31ms/step - loss: 0.9122 - mae: 0.6791 - val_loss: 0.8340 - val_mae: 0.6677\n",
      "Epoch 67/90\n",
      "3/3 [==============================] - 0s 32ms/step - loss: 0.8906 - mae: 0.6873 - val_loss: 0.8588 - val_mae: 0.6628\n",
      "Epoch 68/90\n",
      "3/3 [==============================] - 0s 31ms/step - loss: 0.8927 - mae: 0.6775 - val_loss: 0.8331 - val_mae: 0.6577\n",
      "Epoch 69/90\n",
      "3/3 [==============================] - 0s 33ms/step - loss: 0.8733 - mae: 0.6762 - val_loss: 0.8256 - val_mae: 0.6605\n",
      "Epoch 70/90\n",
      "3/3 [==============================] - 0s 31ms/step - loss: 0.8592 - mae: 0.6749 - val_loss: 0.8213 - val_mae: 0.6592\n",
      "Epoch 71/90\n",
      "3/3 [==============================] - 0s 30ms/step - loss: 0.8904 - mae: 0.6824 - val_loss: 0.8618 - val_mae: 0.6766\n",
      "Epoch 72/90\n",
      "3/3 [==============================] - 0s 31ms/step - loss: 0.8598 - mae: 0.6830 - val_loss: 0.8221 - val_mae: 0.6576\n",
      "Epoch 73/90\n",
      "3/3 [==============================] - 0s 32ms/step - loss: 0.8550 - mae: 0.6738 - val_loss: 0.8735 - val_mae: 0.6623\n",
      "Epoch 74/90\n",
      "3/3 [==============================] - 0s 31ms/step - loss: 0.9578 - mae: 0.6791 - val_loss: 0.8110 - val_mae: 0.6407\n",
      "Epoch 75/90\n",
      "3/3 [==============================] - 0s 31ms/step - loss: 0.9186 - mae: 0.6706 - val_loss: 0.8660 - val_mae: 0.6756\n",
      "Epoch 76/90\n",
      "3/3 [==============================] - 0s 31ms/step - loss: 0.8656 - mae: 0.6795 - val_loss: 0.8392 - val_mae: 0.6563\n",
      "Epoch 77/90\n",
      "3/3 [==============================] - 0s 31ms/step - loss: 0.8434 - mae: 0.6644 - val_loss: 0.8618 - val_mae: 0.6629\n",
      "Epoch 78/90\n",
      "3/3 [==============================] - 0s 31ms/step - loss: 0.8431 - mae: 0.6638 - val_loss: 0.8767 - val_mae: 0.6750\n",
      "Epoch 79/90\n",
      "3/3 [==============================] - 0s 35ms/step - loss: 0.8367 - mae: 0.6664 - val_loss: 0.8488 - val_mae: 0.6596\n",
      "Epoch 80/90\n",
      "3/3 [==============================] - 0s 32ms/step - loss: 0.8442 - mae: 0.6631 - val_loss: 0.8567 - val_mae: 0.6678\n",
      "Epoch 81/90\n",
      "3/3 [==============================] - 0s 32ms/step - loss: 0.8538 - mae: 0.6676 - val_loss: 0.8221 - val_mae: 0.6591\n",
      "Epoch 82/90\n",
      "3/3 [==============================] - 0s 32ms/step - loss: 0.8640 - mae: 0.6728 - val_loss: 0.8652 - val_mae: 0.6548\n",
      "Epoch 83/90\n",
      "3/3 [==============================] - 0s 31ms/step - loss: 0.8654 - mae: 0.6618 - val_loss: 0.8396 - val_mae: 0.6554\n",
      "Epoch 84/90\n",
      "3/3 [==============================] - 0s 34ms/step - loss: 0.8325 - mae: 0.6584 - val_loss: 0.9018 - val_mae: 0.6872\n",
      "Epoch 85/90\n",
      "3/3 [==============================] - 0s 33ms/step - loss: 0.8384 - mae: 0.6733 - val_loss: 0.9087 - val_mae: 0.6953\n",
      "Epoch 86/90\n",
      "3/3 [==============================] - 0s 32ms/step - loss: 0.8250 - mae: 0.6736 - val_loss: 0.9204 - val_mae: 0.6844\n",
      "Epoch 87/90\n",
      "3/3 [==============================] - 0s 32ms/step - loss: 0.8393 - mae: 0.6681 - val_loss: 0.8607 - val_mae: 0.6599\n",
      "Epoch 88/90\n",
      "3/3 [==============================] - 0s 32ms/step - loss: 0.8119 - mae: 0.6573 - val_loss: 0.8648 - val_mae: 0.6785\n",
      "Epoch 89/90\n",
      "3/3 [==============================] - 0s 35ms/step - loss: 0.8256 - mae: 0.6736 - val_loss: 1.0001 - val_mae: 0.6999\n",
      "Epoch 90/90\n",
      "3/3 [==============================] - 0s 32ms/step - loss: 0.8854 - mae: 0.6841 - val_loss: 0.8680 - val_mae: 0.6800\n"
     ]
    }
   ],
   "source": [
    "# fit the model\n",
    "history = model.fit(X_train, y_train, epochs=90, batch_size=512, validation_data=(X_test, y_test), verbose=1)"
   ]
  },
  {
   "cell_type": "code",
   "execution_count": 27,
   "metadata": {},
   "outputs": [
    {
     "data": {
      "image/png": "[encoded data removed]",
      "text/plain": [
       "<Figure size 640x480 with 1 Axes>"
      ]
     },
     "metadata": {},
     "output_type": "display_data"
    }
   ],
   "source": [
    "# plot the mae\n",
    "import matplotlib.pyplot as plt\n",
    "plt.plot(history.history['mae'], label='mae')\n",
    "plt.plot(history.history['val_mae'], label = 'val_mae')\n",
    "plt.xlabel('Epoch')\n",
    "plt.ylabel('MAE')\n",
    "plt.legend(loc='lower right')\n",
    "plt.show()\n"
   ]
  },
  {
   "cell_type": "code",
   "execution_count": 28,
   "metadata": {},
   "outputs": [
    {
     "name": "stdout",
     "output_type": "stream",
     "text": [
      "9/9 [==============================] - 1s 8ms/step\n"
     ]
    }
   ],
   "source": [
    "# model prediction on test data\n",
    "y_pred = model.predict(X_test)"
   ]
  },
  {
   "cell_type": "code",
   "execution_count": 29,
   "metadata": {},
   "outputs": [],
   "source": [
    "# inverse transform the data\n",
    "y_pred = scaler.inverse_transform(y_pred)"
   ]
  },
  {
   "cell_type": "code",
   "execution_count": 30,
   "metadata": {},
   "outputs": [
    {
     "name": "stdout",
     "output_type": "stream",
     "text": [
      "[[   51.515373      -0.08573383 51216.402     ]]\n"
     ]
    }
   ],
   "source": [
    "# print the first 1 rows of the dataset\n",
    "print(y_pred[0:1])"
   ]
  },
  {
   "cell_type": "code",
   "execution_count": 31,
   "metadata": {},
   "outputs": [],
   "source": [
    "# print the actual values and inverse transform the data\n",
    "y_test_orig = scaler.inverse_transform(y_test.reshape(y_test.shape[0], y_test.shape[1]))"
   ]
  },
  {
   "cell_type": "code",
   "execution_count": 32,
   "metadata": {},
   "outputs": [
    {
     "name": "stdout",
     "output_type": "stream",
     "text": [
      "[[   51.513377    -0.096363 83269.      ]]\n"
     ]
    }
   ],
   "source": [
    "# get the actual values 1\n",
    "print(y_test_orig[0:1])"
   ]
  }
 ],
 "metadata": {
  "kernelspec": {
   "display_name": "ai",
   "language": "python",
   "name": "python3"
  },
  "language_info": {
   "codemirror_mode": {
    "name": "ipython",
    "version": 3
   },
   "file_extension": ".py",
   "mimetype": "text/x-python",
   "name": "python",
   "nbconvert_exporter": "python",
   "pygments_lexer": "ipython3",
   "version": "3.9.15"
  },
  "orig_nbformat": 4,
  "vscode": {
   "interpreter": {
    "hash": "9548126b74178bf8513988b24648c73f54e3d2613940c1700419013f4e139858"
   }
  }
 },
 "nbformat": 4,
 "nbformat_minor": 2
}
