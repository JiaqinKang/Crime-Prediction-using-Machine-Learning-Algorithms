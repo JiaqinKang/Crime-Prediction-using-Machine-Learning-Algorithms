{
 "cells": [
  {
   "cell_type": "code",
   "execution_count": 66,
   "metadata": {},
   "outputs": [],
   "source": [
    "# import libraries \n",
    "import pandas as pd"
   ]
  },
  {
   "cell_type": "code",
   "execution_count": 67,
   "metadata": {},
   "outputs": [],
   "source": [
    "seed = 42\n",
    "import tensorflow as tf\n",
    "import numpy as np\n",
    "np.random.seed(seed)\n",
    "tf.random.set_seed(seed)"
   ]
  },
  {
   "cell_type": "code",
   "execution_count": 68,
   "metadata": {},
   "outputs": [],
   "source": [
    "# read the data\n",
    "df = pd.read_csv(\"eighthClean.csv\",date_parser=['Date'])\n",
    "\n",
    "# drop the first column\n",
    "df.drop(df.columns[0], axis=1, inplace=True)"
   ]
  },
  {
   "attachments": {},
   "cell_type": "markdown",
   "metadata": {},
   "source": [
    "<li>Date</li>\n",
    "<li>Latitude</li>\n",
    "<li>Longitude</li>\n",
    "<li>Time difference(hour)</li>"
   ]
  },
  {
   "cell_type": "code",
   "execution_count": 69,
   "metadata": {},
   "outputs": [
    {
     "data": {
      "text/html": [
       "<div>\n",
       "<style scoped>\n",
       "    .dataframe tbody tr th:only-of-type {\n",
       "        vertical-align: middle;\n",
       "    }\n",
       "\n",
       "    .dataframe tbody tr th {\n",
       "        vertical-align: top;\n",
       "    }\n",
       "\n",
       "    .dataframe thead th {\n",
       "        text-align: right;\n",
       "    }\n",
       "</style>\n",
       "<table border=\"1\" class=\"dataframe\">\n",
       "  <thead>\n",
       "    <tr style=\"text-align: right;\">\n",
       "      <th></th>\n",
       "      <th>Date</th>\n",
       "      <th>Latitude</th>\n",
       "      <th>Longitude</th>\n",
       "      <th>Time difference</th>\n",
       "      <th>Time difference in months</th>\n",
       "      <th>Time difference in weeks</th>\n",
       "      <th>Time difference in hours</th>\n",
       "    </tr>\n",
       "  </thead>\n",
       "  <tbody>\n",
       "    <tr>\n",
       "      <th>0</th>\n",
       "      <td>2019-12-03 09:48:08+00:00</td>\n",
       "      <td>51.517431</td>\n",
       "      <td>-0.082458</td>\n",
       "      <td>0 days 17:05:18</td>\n",
       "      <td>0.0</td>\n",
       "      <td>0.0</td>\n",
       "      <td>17.088333</td>\n",
       "    </tr>\n",
       "    <tr>\n",
       "      <th>1</th>\n",
       "      <td>2019-12-04 02:53:26+00:00</td>\n",
       "      <td>51.516814</td>\n",
       "      <td>-0.081620</td>\n",
       "      <td>0 days 00:22:31</td>\n",
       "      <td>0.0</td>\n",
       "      <td>0.0</td>\n",
       "      <td>0.375278</td>\n",
       "    </tr>\n",
       "    <tr>\n",
       "      <th>2</th>\n",
       "      <td>2019-12-04 03:15:57+00:00</td>\n",
       "      <td>51.513114</td>\n",
       "      <td>-0.086272</td>\n",
       "      <td>0 days 03:20:22</td>\n",
       "      <td>0.0</td>\n",
       "      <td>0.0</td>\n",
       "      <td>3.339444</td>\n",
       "    </tr>\n",
       "    <tr>\n",
       "      <th>3</th>\n",
       "      <td>2019-12-04 06:36:19+00:00</td>\n",
       "      <td>51.518060</td>\n",
       "      <td>-0.110683</td>\n",
       "      <td>0 days 06:00:59</td>\n",
       "      <td>0.0</td>\n",
       "      <td>0.0</td>\n",
       "      <td>6.016389</td>\n",
       "    </tr>\n",
       "    <tr>\n",
       "      <th>4</th>\n",
       "      <td>2019-12-04 12:37:18+00:00</td>\n",
       "      <td>51.517680</td>\n",
       "      <td>-0.078484</td>\n",
       "      <td>0 days 17:35:50</td>\n",
       "      <td>0.0</td>\n",
       "      <td>0.0</td>\n",
       "      <td>17.597222</td>\n",
       "    </tr>\n",
       "  </tbody>\n",
       "</table>\n",
       "</div>"
      ],
      "text/plain": [
       "                        Date   Latitude  Longitude  Time difference  \\\n",
       "0  2019-12-03 09:48:08+00:00  51.517431  -0.082458  0 days 17:05:18   \n",
       "1  2019-12-04 02:53:26+00:00  51.516814  -0.081620  0 days 00:22:31   \n",
       "2  2019-12-04 03:15:57+00:00  51.513114  -0.086272  0 days 03:20:22   \n",
       "3  2019-12-04 06:36:19+00:00  51.518060  -0.110683  0 days 06:00:59   \n",
       "4  2019-12-04 12:37:18+00:00  51.517680  -0.078484  0 days 17:35:50   \n",
       "\n",
       "   Time difference in months  Time difference in weeks  \\\n",
       "0                        0.0                       0.0   \n",
       "1                        0.0                       0.0   \n",
       "2                        0.0                       0.0   \n",
       "3                        0.0                       0.0   \n",
       "4                        0.0                       0.0   \n",
       "\n",
       "   Time difference in hours  \n",
       "0                 17.088333  \n",
       "1                  0.375278  \n",
       "2                  3.339444  \n",
       "3                  6.016389  \n",
       "4                 17.597222  "
      ]
     },
     "execution_count": 69,
     "metadata": {},
     "output_type": "execute_result"
    }
   ],
   "source": [
    "df.head()"
   ]
  },
  {
   "cell_type": "code",
   "execution_count": 70,
   "metadata": {},
   "outputs": [
    {
     "data": {
      "text/html": [
       "<div>\n",
       "<style scoped>\n",
       "    .dataframe tbody tr th:only-of-type {\n",
       "        vertical-align: middle;\n",
       "    }\n",
       "\n",
       "    .dataframe tbody tr th {\n",
       "        vertical-align: top;\n",
       "    }\n",
       "\n",
       "    .dataframe thead th {\n",
       "        text-align: right;\n",
       "    }\n",
       "</style>\n",
       "<table border=\"1\" class=\"dataframe\">\n",
       "  <thead>\n",
       "    <tr style=\"text-align: right;\">\n",
       "      <th></th>\n",
       "      <th>Latitude</th>\n",
       "      <th>Longitude</th>\n",
       "      <th>Time difference in months</th>\n",
       "      <th>Time difference in weeks</th>\n",
       "      <th>Time difference in hours</th>\n",
       "    </tr>\n",
       "  </thead>\n",
       "  <tbody>\n",
       "    <tr>\n",
       "      <th>count</th>\n",
       "      <td>1333.000000</td>\n",
       "      <td>1333.000000</td>\n",
       "      <td>1332.000000</td>\n",
       "      <td>1332.000000</td>\n",
       "      <td>1332.000000</td>\n",
       "    </tr>\n",
       "    <tr>\n",
       "      <th>mean</th>\n",
       "      <td>51.514669</td>\n",
       "      <td>-0.086765</td>\n",
       "      <td>0.016056</td>\n",
       "      <td>0.069820</td>\n",
       "      <td>19.632866</td>\n",
       "    </tr>\n",
       "    <tr>\n",
       "      <th>std</th>\n",
       "      <td>0.005592</td>\n",
       "      <td>0.012269</td>\n",
       "      <td>0.034227</td>\n",
       "      <td>0.148841</td>\n",
       "      <td>27.384582</td>\n",
       "    </tr>\n",
       "    <tr>\n",
       "      <th>min</th>\n",
       "      <td>51.503196</td>\n",
       "      <td>-0.127032</td>\n",
       "      <td>0.000000</td>\n",
       "      <td>0.000000</td>\n",
       "      <td>0.000000</td>\n",
       "    </tr>\n",
       "    <tr>\n",
       "      <th>25%</th>\n",
       "      <td>51.511794</td>\n",
       "      <td>-0.094720</td>\n",
       "      <td>0.000000</td>\n",
       "      <td>0.000000</td>\n",
       "      <td>1.075972</td>\n",
       "    </tr>\n",
       "    <tr>\n",
       "      <th>50%</th>\n",
       "      <td>51.514457</td>\n",
       "      <td>-0.084701</td>\n",
       "      <td>0.000000</td>\n",
       "      <td>0.000000</td>\n",
       "      <td>8.080000</td>\n",
       "    </tr>\n",
       "    <tr>\n",
       "      <th>75%</th>\n",
       "      <td>51.517032</td>\n",
       "      <td>-0.078484</td>\n",
       "      <td>0.032852</td>\n",
       "      <td>0.142857</td>\n",
       "      <td>24.652431</td>\n",
       "    </tr>\n",
       "    <tr>\n",
       "      <th>max</th>\n",
       "      <td>51.592365</td>\n",
       "      <td>0.004717</td>\n",
       "      <td>0.262812</td>\n",
       "      <td>1.142857</td>\n",
       "      <td>213.545556</td>\n",
       "    </tr>\n",
       "  </tbody>\n",
       "</table>\n",
       "</div>"
      ],
      "text/plain": [
       "          Latitude    Longitude  Time difference in months  \\\n",
       "count  1333.000000  1333.000000                1332.000000   \n",
       "mean     51.514669    -0.086765                   0.016056   \n",
       "std       0.005592     0.012269                   0.034227   \n",
       "min      51.503196    -0.127032                   0.000000   \n",
       "25%      51.511794    -0.094720                   0.000000   \n",
       "50%      51.514457    -0.084701                   0.000000   \n",
       "75%      51.517032    -0.078484                   0.032852   \n",
       "max      51.592365     0.004717                   0.262812   \n",
       "\n",
       "       Time difference in weeks  Time difference in hours  \n",
       "count               1332.000000               1332.000000  \n",
       "mean                   0.069820                 19.632866  \n",
       "std                    0.148841                 27.384582  \n",
       "min                    0.000000                  0.000000  \n",
       "25%                    0.000000                  1.075972  \n",
       "50%                    0.000000                  8.080000  \n",
       "75%                    0.142857                 24.652431  \n",
       "max                    1.142857                213.545556  "
      ]
     },
     "execution_count": 70,
     "metadata": {},
     "output_type": "execute_result"
    }
   ],
   "source": [
    "df.describe()"
   ]
  },
  {
   "cell_type": "code",
   "execution_count": 71,
   "metadata": {},
   "outputs": [
    {
     "data": {
      "text/plain": [
       "Date                         0\n",
       "Latitude                     0\n",
       "Longitude                    0\n",
       "Time difference              1\n",
       "Time difference in months    1\n",
       "Time difference in weeks     1\n",
       "Time difference in hours     1\n",
       "dtype: int64"
      ]
     },
     "execution_count": 71,
     "metadata": {},
     "output_type": "execute_result"
    }
   ],
   "source": [
    "# check for null values\n",
    "df.isnull().sum()"
   ]
  },
  {
   "cell_type": "code",
   "execution_count": 72,
   "metadata": {},
   "outputs": [],
   "source": [
    "# df drop time difference in months, Time difference in weeks, Time difference\n",
    "df = df.drop(['Time difference in months', 'Time difference in weeks', 'Time difference','Date'], axis=1)"
   ]
  },
  {
   "cell_type": "code",
   "execution_count": 73,
   "metadata": {},
   "outputs": [
    {
     "data": {
      "text/html": [
       "<div>\n",
       "<style scoped>\n",
       "    .dataframe tbody tr th:only-of-type {\n",
       "        vertical-align: middle;\n",
       "    }\n",
       "\n",
       "    .dataframe tbody tr th {\n",
       "        vertical-align: top;\n",
       "    }\n",
       "\n",
       "    .dataframe thead th {\n",
       "        text-align: right;\n",
       "    }\n",
       "</style>\n",
       "<table border=\"1\" class=\"dataframe\">\n",
       "  <thead>\n",
       "    <tr style=\"text-align: right;\">\n",
       "      <th></th>\n",
       "      <th>Latitude</th>\n",
       "      <th>Longitude</th>\n",
       "      <th>Time difference in hours</th>\n",
       "    </tr>\n",
       "  </thead>\n",
       "  <tbody>\n",
       "    <tr>\n",
       "      <th>0</th>\n",
       "      <td>51.517431</td>\n",
       "      <td>-0.082458</td>\n",
       "      <td>17.088333</td>\n",
       "    </tr>\n",
       "    <tr>\n",
       "      <th>1</th>\n",
       "      <td>51.516814</td>\n",
       "      <td>-0.081620</td>\n",
       "      <td>0.375278</td>\n",
       "    </tr>\n",
       "    <tr>\n",
       "      <th>2</th>\n",
       "      <td>51.513114</td>\n",
       "      <td>-0.086272</td>\n",
       "      <td>3.339444</td>\n",
       "    </tr>\n",
       "    <tr>\n",
       "      <th>3</th>\n",
       "      <td>51.518060</td>\n",
       "      <td>-0.110683</td>\n",
       "      <td>6.016389</td>\n",
       "    </tr>\n",
       "    <tr>\n",
       "      <th>4</th>\n",
       "      <td>51.517680</td>\n",
       "      <td>-0.078484</td>\n",
       "      <td>17.597222</td>\n",
       "    </tr>\n",
       "  </tbody>\n",
       "</table>\n",
       "</div>"
      ],
      "text/plain": [
       "    Latitude  Longitude  Time difference in hours\n",
       "0  51.517431  -0.082458                 17.088333\n",
       "1  51.516814  -0.081620                  0.375278\n",
       "2  51.513114  -0.086272                  3.339444\n",
       "3  51.518060  -0.110683                  6.016389\n",
       "4  51.517680  -0.078484                 17.597222"
      ]
     },
     "execution_count": 73,
     "metadata": {},
     "output_type": "execute_result"
    }
   ],
   "source": [
    "df.head()"
   ]
  },
  {
   "cell_type": "code",
   "execution_count": 74,
   "metadata": {},
   "outputs": [],
   "source": [
    "# shift the Time difference in hours by 1\n",
    "df['Time difference in hours'] = df['Time difference in hours'].shift(1)"
   ]
  },
  {
   "cell_type": "code",
   "execution_count": 75,
   "metadata": {},
   "outputs": [],
   "source": [
    "# fill the null values with mean of the hours difference\n",
    "df['Time difference in hours'] = df['Time difference in hours'].fillna(df['Time difference in hours'].mean())"
   ]
  },
  {
   "cell_type": "code",
   "execution_count": 76,
   "metadata": {},
   "outputs": [],
   "source": [
    "import math\n",
    "df['Time difference in hours'] = df['Time difference in hours'].apply(lambda x: math.ceil(x))"
   ]
  },
  {
   "cell_type": "code",
   "execution_count": 77,
   "metadata": {},
   "outputs": [
    {
     "data": {
      "text/html": [
       "<div>\n",
       "<style scoped>\n",
       "    .dataframe tbody tr th:only-of-type {\n",
       "        vertical-align: middle;\n",
       "    }\n",
       "\n",
       "    .dataframe tbody tr th {\n",
       "        vertical-align: top;\n",
       "    }\n",
       "\n",
       "    .dataframe thead th {\n",
       "        text-align: right;\n",
       "    }\n",
       "</style>\n",
       "<table border=\"1\" class=\"dataframe\">\n",
       "  <thead>\n",
       "    <tr style=\"text-align: right;\">\n",
       "      <th></th>\n",
       "      <th>Latitude</th>\n",
       "      <th>Longitude</th>\n",
       "      <th>Time difference in hours</th>\n",
       "    </tr>\n",
       "  </thead>\n",
       "  <tbody>\n",
       "    <tr>\n",
       "      <th>0</th>\n",
       "      <td>51.517431</td>\n",
       "      <td>-0.082458</td>\n",
       "      <td>20</td>\n",
       "    </tr>\n",
       "    <tr>\n",
       "      <th>1</th>\n",
       "      <td>51.516814</td>\n",
       "      <td>-0.081620</td>\n",
       "      <td>18</td>\n",
       "    </tr>\n",
       "    <tr>\n",
       "      <th>2</th>\n",
       "      <td>51.513114</td>\n",
       "      <td>-0.086272</td>\n",
       "      <td>1</td>\n",
       "    </tr>\n",
       "    <tr>\n",
       "      <th>3</th>\n",
       "      <td>51.518060</td>\n",
       "      <td>-0.110683</td>\n",
       "      <td>4</td>\n",
       "    </tr>\n",
       "    <tr>\n",
       "      <th>4</th>\n",
       "      <td>51.517680</td>\n",
       "      <td>-0.078484</td>\n",
       "      <td>7</td>\n",
       "    </tr>\n",
       "  </tbody>\n",
       "</table>\n",
       "</div>"
      ],
      "text/plain": [
       "    Latitude  Longitude  Time difference in hours\n",
       "0  51.517431  -0.082458                        20\n",
       "1  51.516814  -0.081620                        18\n",
       "2  51.513114  -0.086272                         1\n",
       "3  51.518060  -0.110683                         4\n",
       "4  51.517680  -0.078484                         7"
      ]
     },
     "execution_count": 77,
     "metadata": {},
     "output_type": "execute_result"
    }
   ],
   "source": [
    "df.head()"
   ]
  },
  {
   "attachments": {},
   "cell_type": "markdown",
   "metadata": {},
   "source": [
    "<h1> Create simple baseline model </h1>"
   ]
  },
  {
   "cell_type": "code",
   "execution_count": 78,
   "metadata": {},
   "outputs": [],
   "source": [
    "import sklearn\n",
    "from sklearn.preprocessing import StandardScaler\n",
    "scaler = StandardScaler()"
   ]
  },
  {
   "cell_type": "code",
   "execution_count": 79,
   "metadata": {},
   "outputs": [],
   "source": [
    "import numpy as np\n",
    "np.set_printoptions(suppress=True) # avoid scientific notation in numpy array so that it is easier to read and understand"
   ]
  },
  {
   "cell_type": "code",
   "execution_count": 80,
   "metadata": {},
   "outputs": [],
   "source": [
    "def create_dataset(df, time_steps=1):\n",
    "    X, y = [], []\n",
    "    for i in range(len(df) - time_steps):\n",
    "        X.append(df.iloc[i:(i + time_steps)])\n",
    "        y.append(df.iloc[i + time_steps])\n",
    "    return np.array(X), np.array(y)"
   ]
  },
  {
   "cell_type": "code",
   "execution_count": 81,
   "metadata": {},
   "outputs": [],
   "source": [
    "# create the dataset\n",
    "time_steps = 14\n",
    "X, Y = create_dataset(df, time_steps)"
   ]
  },
  {
   "cell_type": "code",
   "execution_count": 82,
   "metadata": {},
   "outputs": [
    {
     "name": "stdout",
     "output_type": "stream",
     "text": [
      "[[[51.517431 -0.082458 20.      ]\n",
      "  [51.516814 -0.08162  18.      ]\n",
      "  [51.513114 -0.086272  1.      ]\n",
      "  [51.51806  -0.110683  4.      ]\n",
      "  [51.51768  -0.078484  7.      ]\n",
      "  [51.516814 -0.08162  18.      ]\n",
      "  [51.517032 -0.089451 45.      ]\n",
      "  [51.517032 -0.089451  1.      ]\n",
      "  [51.513132 -0.09071   5.      ]\n",
      "  [51.515075 -0.077513 53.      ]\n",
      "  [51.513051 -0.104001 24.      ]\n",
      "  [51.516814 -0.08162  47.      ]\n",
      "  [51.514276 -0.087549 19.      ]\n",
      "  [51.514151 -0.074958 21.      ]]]\n",
      "[[51.516814 -0.08162   3.      ]]\n"
     ]
    }
   ],
   "source": [
    "# print the first 1 rows of the dataset\n",
    "print(X[0:1])\n",
    "print(Y[0:1])"
   ]
  },
  {
   "cell_type": "code",
   "execution_count": 83,
   "metadata": {},
   "outputs": [],
   "source": [
    "# transform Y to 3Dimensional \n",
    "Y = Y.reshape(Y.shape[0], 1, Y.shape[1])"
   ]
  },
  {
   "cell_type": "code",
   "execution_count": 84,
   "metadata": {},
   "outputs": [
    {
     "name": "stdout",
     "output_type": "stream",
     "text": [
      "(1319, 14, 3)\n",
      "(1319, 1, 3)\n"
     ]
    }
   ],
   "source": [
    "print(X.shape)\n",
    "print(Y.shape)"
   ]
  },
  {
   "cell_type": "code",
   "execution_count": 85,
   "metadata": {},
   "outputs": [],
   "source": [
    "# split the dataset into train and test\n",
    "from sklearn.model_selection import train_test_split\n",
    "X_train, X_test, y_train, y_test = train_test_split(X, Y, test_size=0.2, random_state=seed)"
   ]
  },
  {
   "cell_type": "code",
   "execution_count": 86,
   "metadata": {},
   "outputs": [],
   "source": [
    "# create lstm model\n",
    "import keras\n",
    "from tensorflow.keras import models\n",
    "from tensorflow.keras import layers"
   ]
  },
  {
   "cell_type": "code",
   "execution_count": 87,
   "metadata": {},
   "outputs": [],
   "source": [
    "def build_baseline_model(): #build the model\n",
    "    model = models.Sequential() # create a sequential model\n",
    "    model.add(layers.Dense(64, activation = 'relu', input_shape = (time_steps,3))) # add a dense layer with 64 neurons and relu activation function\n",
    "    model.add(layers.Dense(64, activation = 'relu')) \n",
    "    model.add(layers.Dense(3))\n",
    "    \n",
    "    model.compile( #compile the model\n",
    "        optimizer = 'rmsprop', # use rmsprop optimizer\n",
    "        loss='mse', #loss function\n",
    "        metrics=['mae'], #metrics\n",
    "    )\n",
    "    return model"
   ]
  },
  {
   "cell_type": "code",
   "execution_count": 88,
   "metadata": {},
   "outputs": [
    {
     "name": "stdout",
     "output_type": "stream",
     "text": [
      "Model: \"sequential_5\"\n",
      "_________________________________________________________________\n",
      " Layer (type)                Output Shape              Param #   \n",
      "=================================================================\n",
      " dense_11 (Dense)            (None, 14, 64)            256       \n",
      "                                                                 \n",
      " dense_12 (Dense)            (None, 14, 64)            4160      \n",
      "                                                                 \n",
      " dense_13 (Dense)            (None, 14, 3)             195       \n",
      "                                                                 \n",
      "=================================================================\n",
      "Total params: 4,611\n",
      "Trainable params: 4,611\n",
      "Non-trainable params: 0\n",
      "_________________________________________________________________\n"
     ]
    }
   ],
   "source": [
    "# model summary\n",
    "baseline_model = build_baseline_model ()\n",
    "baseline_model.summary()"
   ]
  },
  {
   "cell_type": "code",
   "execution_count": 89,
   "metadata": {},
   "outputs": [
    {
     "name": "stdout",
     "output_type": "stream",
     "text": [
      "Epoch 1/25\n",
      "3/3 [==============================] - 1s 84ms/step - loss: 1316.2356 - mae: 25.5018 - val_loss: 1095.3743 - val_mae: 22.9199\n",
      "Epoch 2/25\n",
      "3/3 [==============================] - 0s 17ms/step - loss: 1019.4916 - mae: 22.0165 - val_loss: 909.6539 - val_mae: 20.9214\n",
      "Epoch 3/25\n",
      "3/3 [==============================] - 0s 16ms/step - loss: 844.1222 - mae: 20.1502 - val_loss: 752.4709 - val_mae: 19.2502\n",
      "Epoch 4/25\n",
      "3/3 [==============================] - 0s 17ms/step - loss: 696.6093 - mae: 18.5681 - val_loss: 635.2304 - val_mae: 17.7193\n",
      "Epoch 5/25\n",
      "3/3 [==============================] - 0s 19ms/step - loss: 585.8702 - mae: 17.0997 - val_loss: 536.6690 - val_mae: 16.2369\n",
      "Epoch 6/25\n",
      "3/3 [==============================] - 0s 16ms/step - loss: 491.5875 - mae: 15.5583 - val_loss: 455.4789 - val_mae: 14.5550\n",
      "Epoch 7/25\n",
      "3/3 [==============================] - 0s 16ms/step - loss: 416.0654 - mae: 13.9275 - val_loss: 393.2299 - val_mae: 13.1182\n",
      "Epoch 8/25\n",
      "3/3 [==============================] - 0s 18ms/step - loss: 359.8193 - mae: 12.5387 - val_loss: 350.1816 - val_mae: 11.8140\n",
      "Epoch 9/25\n",
      "3/3 [==============================] - 0s 19ms/step - loss: 321.0957 - mae: 11.2677 - val_loss: 320.1524 - val_mae: 10.6790\n",
      "Epoch 10/25\n",
      "3/3 [==============================] - 0s 15ms/step - loss: 294.5260 - mae: 10.1556 - val_loss: 297.8488 - val_mae: 9.9007\n",
      "Epoch 11/25\n",
      "3/3 [==============================] - 0s 19ms/step - loss: 276.0378 - mae: 9.4479 - val_loss: 284.4126 - val_mae: 9.1336\n",
      "Epoch 12/25\n",
      "3/3 [==============================] - 0s 16ms/step - loss: 264.8939 - mae: 8.7400 - val_loss: 276.7874 - val_mae: 8.2003\n",
      "Epoch 13/25\n",
      "3/3 [==============================] - 0s 17ms/step - loss: 256.5009 - mae: 7.8971 - val_loss: 273.4068 - val_mae: 7.6723\n",
      "Epoch 14/25\n",
      "3/3 [==============================] - 0s 18ms/step - loss: 252.4184 - mae: 7.3272 - val_loss: 268.3053 - val_mae: 7.6967\n",
      "Epoch 15/25\n",
      "3/3 [==============================] - 0s 17ms/step - loss: 250.9136 - mae: 7.3329 - val_loss: 266.5813 - val_mae: 7.3361\n",
      "Epoch 16/25\n",
      "3/3 [==============================] - 0s 17ms/step - loss: 250.1924 - mae: 7.0348 - val_loss: 265.7093 - val_mae: 6.9110\n",
      "Epoch 17/25\n",
      "3/3 [==============================] - 0s 18ms/step - loss: 248.0692 - mae: 6.7209 - val_loss: 265.5457 - val_mae: 6.8255\n",
      "Epoch 18/25\n",
      "3/3 [==============================] - 0s 19ms/step - loss: 247.5118 - mae: 6.6172 - val_loss: 265.5087 - val_mae: 6.7290\n",
      "Epoch 19/25\n",
      "3/3 [==============================] - 0s 18ms/step - loss: 247.7643 - mae: 6.5383 - val_loss: 265.1621 - val_mae: 6.7015\n",
      "Epoch 20/25\n",
      "3/3 [==============================] - 0s 85ms/step - loss: 247.8796 - mae: 6.5387 - val_loss: 265.4277 - val_mae: 6.6824\n",
      "Epoch 21/25\n",
      "3/3 [==============================] - 0s 15ms/step - loss: 247.2075 - mae: 6.4549 - val_loss: 269.3309 - val_mae: 6.6909\n",
      "Epoch 22/25\n",
      "3/3 [==============================] - 0s 15ms/step - loss: 247.8560 - mae: 6.4330 - val_loss: 266.7780 - val_mae: 6.6562\n",
      "Epoch 23/25\n",
      "3/3 [==============================] - 0s 16ms/step - loss: 247.4490 - mae: 6.3667 - val_loss: 267.4727 - val_mae: 7.4056\n",
      "Epoch 24/25\n",
      "3/3 [==============================] - 0s 16ms/step - loss: 250.7265 - mae: 7.1586 - val_loss: 268.1463 - val_mae: 6.8791\n",
      "Epoch 25/25\n",
      "3/3 [==============================] - 0s 16ms/step - loss: 247.4934 - mae: 6.5093 - val_loss: 265.8177 - val_mae: 6.5244\n"
     ]
    }
   ],
   "source": [
    "# fit the model\n",
    "history = baseline_model.fit(X_train, y_train, epochs=25, batch_size=512, validation_data=(X_test, y_test), verbose=1)"
   ]
  },
  {
   "cell_type": "code",
   "execution_count": 90,
   "metadata": {},
   "outputs": [
    {
     "data": {
      "image/png": "[encoded data removed]",
      "text/plain": [
       "<Figure size 640x480 with 1 Axes>"
      ]
     },
     "metadata": {},
     "output_type": "display_data"
    }
   ],
   "source": [
    "# plot the mae\n",
    "import matplotlib.pyplot as plt\n",
    "plt.plot(history.history['mae'], label='mae')\n",
    "plt.plot(history.history['val_mae'], label = 'val_mae')\n",
    "plt.xlabel('Epoch')\n",
    "plt.ylabel('MAE')\n",
    "plt.legend(loc='lower right')\n",
    "plt.show()\n"
   ]
  },
  {
   "attachments": {},
   "cell_type": "markdown",
   "metadata": {},
   "source": [
    "<h1>LSTM</H1>"
   ]
  },
  {
   "cell_type": "code",
   "execution_count": 91,
   "metadata": {},
   "outputs": [],
   "source": [
    "# Create lstm model\n",
    "def build_lstm_model(): #build the model\n",
    "    model = models.Sequential()\n",
    "    model.add(layers.LSTM(512, return_sequences=True, input_shape=(X_train.shape[1], X_train.shape[2])))\n",
    "    model.add(layers.Flatten()),\n",
    "    model.add(layers.Dense(3))\n",
    "    model.compile(optimizer='rmsprop', loss='mse', metrics=['mae'])\n",
    "    return model\n"
   ]
  },
  {
   "cell_type": "code",
   "execution_count": 92,
   "metadata": {},
   "outputs": [
    {
     "name": "stdout",
     "output_type": "stream",
     "text": [
      "Model: \"sequential_6\"\n",
      "_________________________________________________________________\n",
      " Layer (type)                Output Shape              Param #   \n",
      "=================================================================\n",
      " lstm_2 (LSTM)               (None, 14, 512)           1056768   \n",
      "                                                                 \n",
      " flatten_2 (Flatten)         (None, 7168)              0         \n",
      "                                                                 \n",
      " dense_14 (Dense)            (None, 3)                 21507     \n",
      "                                                                 \n",
      "=================================================================\n",
      "Total params: 1,078,275\n",
      "Trainable params: 1,078,275\n",
      "Non-trainable params: 0\n",
      "_________________________________________________________________\n"
     ]
    }
   ],
   "source": [
    "lstm_model = build_lstm_model()\n",
    "lstm_model.summary()"
   ]
  },
  {
   "cell_type": "code",
   "execution_count": 93,
   "metadata": {},
   "outputs": [
    {
     "name": "stdout",
     "output_type": "stream",
     "text": [
      "Epoch 1/10\n",
      "3/3 [==============================] - 1s 168ms/step - loss: 1063.1431 - mae: 22.9134 - val_loss: 374.4133 - val_mae: 12.8747\n",
      "Epoch 2/10\n",
      "3/3 [==============================] - 0s 23ms/step - loss: 323.3997 - mae: 11.9970 - val_loss: 272.9950 - val_mae: 8.2939\n",
      "Epoch 3/10\n",
      "3/3 [==============================] - 0s 22ms/step - loss: 253.4367 - mae: 7.5942 - val_loss: 285.9284 - val_mae: 8.2184\n",
      "Epoch 4/10\n",
      "3/3 [==============================] - 0s 22ms/step - loss: 261.7102 - mae: 7.6789 - val_loss: 269.7572 - val_mae: 6.7538\n",
      "Epoch 5/10\n",
      "3/3 [==============================] - 0s 21ms/step - loss: 248.6966 - mae: 6.6074 - val_loss: 268.8429 - val_mae: 7.2698\n",
      "Epoch 6/10\n",
      "3/3 [==============================] - 0s 21ms/step - loss: 251.1310 - mae: 6.9832 - val_loss: 281.8399 - val_mae: 7.0269\n",
      "Epoch 7/10\n",
      "3/3 [==============================] - 0s 22ms/step - loss: 254.6844 - mae: 7.0275 - val_loss: 271.3276 - val_mae: 8.0844\n",
      "Epoch 8/10\n",
      "3/3 [==============================] - 0s 21ms/step - loss: 252.6939 - mae: 7.8043 - val_loss: 268.5609 - val_mae: 7.6387\n",
      "Epoch 9/10\n",
      "3/3 [==============================] - 0s 20ms/step - loss: 249.8006 - mae: 7.4000 - val_loss: 267.5299 - val_mae: 7.2586\n",
      "Epoch 10/10\n",
      "3/3 [==============================] - 0s 20ms/step - loss: 251.3399 - mae: 6.8043 - val_loss: 287.7675 - val_mae: 8.2391\n"
     ]
    }
   ],
   "source": [
    "# fit the model\n",
    "history = lstm_model.fit(X_train, y_train, epochs=10, batch_size=512, validation_data=(X_test, y_test), verbose=1)"
   ]
  },
  {
   "cell_type": "code",
   "execution_count": 94,
   "metadata": {},
   "outputs": [
    {
     "data": {
      "image/png": "[encoded data removed]",
      "text/plain": [
       "<Figure size 640x480 with 1 Axes>"
      ]
     },
     "metadata": {},
     "output_type": "display_data"
    }
   ],
   "source": [
    "#  plot the mae\n",
    "plt.plot(history.history['mae'], label='mae')\n",
    "plt.plot(history.history['val_mae'], label = 'val_mae')\n",
    "plt.xlabel('Epoch')\n",
    "plt.ylabel('MAE')\n",
    "plt.legend(loc='lower right')\n",
    "plt.show()"
   ]
  },
  {
   "cell_type": "code",
   "execution_count": 95,
   "metadata": {},
   "outputs": [
    {
     "name": "stdout",
     "output_type": "stream",
     "text": [
      "9/9 [==============================] - 0s 2ms/step\n"
     ]
    }
   ],
   "source": [
    "# predict the values\n",
    "y_pred = lstm_model.predict(X_test)"
   ]
  },
  {
   "cell_type": "code",
   "execution_count": 96,
   "metadata": {},
   "outputs": [
    {
     "name": "stdout",
     "output_type": "stream",
     "text": [
      "[51.727394  -1.4350978 29.433216 ]\n",
      "[[51.517032 -0.089451  7.      ]]\n"
     ]
    }
   ],
   "source": [
    "#  prtint the first predicted value and the actual value\n",
    "print(y_pred[0])\n",
    "print(y_test[0])"
   ]
  }
 ],
 "metadata": {
  "kernelspec": {
   "display_name": "ai",
   "language": "python",
   "name": "python3"
  },
  "language_info": {
   "codemirror_mode": {
    "name": "ipython",
    "version": 3
   },
   "file_extension": ".py",
   "mimetype": "text/x-python",
   "name": "python",
   "nbconvert_exporter": "python",
   "pygments_lexer": "ipython3",
   "version": "3.9.15"
  },
  "orig_nbformat": 4,
  "vscode": {
   "interpreter": {
    "hash": "9548126b74178bf8513988b24648c73f54e3d2613940c1700419013f4e139858"
   }
  }
 },
 "nbformat": 4,
 "nbformat_minor": 2
}
